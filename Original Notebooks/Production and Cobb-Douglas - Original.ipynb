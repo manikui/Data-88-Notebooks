{
 "cells": [
  {
   "cell_type": "markdown",
   "metadata": {},
   "source": [
    "<table style=\"width: 100%;\">\n",
    "    <tr style=\"background-color: transparent;\"><td>\n",
    "        <img src=\"https://d8a-88.github.io/econ-fa19/assets/images/blue_text.png\" width=\"250px\" style=\"margin-left: 0;\" />\n",
    "    </td><td>\n",
    "        <p style=\"text-align: right; font-size: 12pt;\"><strong>Economic Models</strong>, Spring 2020<br>\n",
    "            Dr. Eric Van Dusen <br>\n",
    "            Notebook by: Umar Maniku </p></td></tr>\n",
    "</table>"
   ]
  },
  {
   "cell_type": "code",
   "execution_count": 1,
   "metadata": {},
   "outputs": [],
   "source": [
    "from utils import *\n",
    "from sympy import *\n",
    "import matplotlib.pyplot as plt\n",
    "import numpy as np\n",
    "import pandas as pd \n",
    "import seaborn as sns\n",
    "import plotly.graph_objs as go\n",
    "from plotly.offline import download_plotlyjs, init_notebook_mode, plot, iplot\n",
    "from ipywidgets import interact, interactive, fixed, interact_manual\n",
    "import ipywidgets as widgets\n",
    "from IPython.display import display\n",
    "#import nbinteract as nbi\n",
    "import warnings\n",
    "warnings.filterwarnings('ignore')\n",
    "%matplotlib inline\n",
    "plt.style.use(\"seaborn-muted\")"
   ]
  },
  {
   "cell_type": "markdown",
   "metadata": {},
   "source": [
    "We would like to thank Professor Raymond Hawkins for his input, and Lecture 4 of his Economics 100B course at UC Berkeley, which informed parts of this notebook."
   ]
  },
  {
   "cell_type": "markdown",
   "metadata": {},
   "source": [
    "# Production and Cobb-Douglas Functions in Macroeconomics"
   ]
  },
  {
   "cell_type": "markdown",
   "metadata": {},
   "source": [
    "### Production in the Economy"
   ]
  },
  {
   "cell_type": "markdown",
   "metadata": {},
   "source": [
    "At the core of macroeconomics is the study of how a nation's various resources are used as inputs in the production of goods and services. The aggregate value of what a nation produces is known as its Gross Domestic Product, which is calculated in many different ways. The focus of this lecture is on production and the functions that aim to model how much output a country can produce, when given a certain set of inputs. \n",
    "\n",
    "These set of inputs are known as factors of production:\n",
    "- K: Capital - a monetary value of the stock or value of productive assets.\n",
    "- L: Labor - the number of worker hours.\n",
    "- A: Total Factor Productivity - a measure of the effectiveness with which the two factors of production are used.\n",
    "\n",
    "This model of production in an economy provides a simple yet effective way of modeling output. It would be way too complicated to account for every possible input to production, especially as we are operating at the country level. However, the key simplication is that we can classify all of these different inputs as either capital or labor: anything physical or tangible is capital and any work done by humans is labor. Taking the monetary value of either of these, while a rough approximation, still yields great insight into the different ways countries produce goods and services. Even if two countries have very similar GDPs, one maybe more capital intensive than the other. Having this knowledge would greatly inform policy and would help governments direct funding towards areas of concern.\n",
    "\n",
    "We will see this in action during Project 1 where we will examine real life data from different countries and compare/contrast their usage of labor, capital and total factor productivity.\n",
    "\n",
    "This simplication has allowed economists to derive the following key notion:\n",
    "A nation's output is a function of the amount of the factors of production that are utilized in its economy; that is to say output is a function of labor and capital.\n",
    "\n",
    "Thus, the economy's production function is: $$Y = A \\cdot f(K, L)$$\n",
    "\n",
    "$f(K, L)$ refers to any specific mathematical model of output. One such example is the Cobb-Douglas production function that we will be examining later."
   ]
  },
  {
   "cell_type": "markdown",
   "metadata": {},
   "source": [
    "### Total Factor Productivity (TFP)"
   ]
  },
  {
   "cell_type": "markdown",
   "metadata": {},
   "source": [
    "In modern economies, one way to think about TFP is technology or research and development. A country with a high TFP (or technology) can produce far more goods and services than another with a lower TFP but a similar amount of capital and labor. Think about it - a country with 5 factories utilizing robotic arms to assemble cars will be able to produce more than another nation that also has 5 factories but utilizes workers working in 8-hour shifts. The former country would have a higher TFP than the latter. Thus, it can be said that technology increases the efficiency with which the factors of production are used.\n",
    "\n",
    "There are three key differences between TFP and the other two factors of production:\n",
    "1. TFP \"scales\" production by some factor A. The other two are raised to an exponent that is less than 1, reducing its value relative to the input. Thus, TFP is very powerful as it creates a proportional increase in output.\n",
    "2. Technology is \"non-rivalrous\", meaning that more than one person can use it at any given time. For example, robotics technology is not limited to one person, but a specific robotic arm can only be used by a single person at a time.\n",
    "3. Technology is \"non-excludable\", meaning that one person cannot block another from using that factor. Even with the patent system, after expiry, technologies that were once protected now becomes free to use or adapt.\n",
    "\n",
    "Note that TFP has no intrinsic value by itself, but becomes informative when it is compared across nations. For example, a TFP of 1.4 means nothing. However, if one country has a TFP of 1.8 while the other is 1.4, then we can say that the first country is more effective at utilizing its resources to produce output."
   ]
  },
  {
   "cell_type": "markdown",
   "metadata": {},
   "source": [
    "### The Cobb-Douglas Production Function"
   ]
  },
  {
   "cell_type": "markdown",
   "metadata": {},
   "source": [
    "The Cobb-Douglas Production Function is as follows:\n",
    "$$\n",
    "f(K, L) = K^\\alpha L^\\beta \\\\\n",
    "\\Rightarrow Y = A \\cdot f(K, L) = A K^\\alpha L^\\beta\n",
    "$$\n",
    "Where $\\alpha$ and $\\beta$ are exponents.\n",
    "\n",
    "A common simplification is that $\\beta = 1 - \\alpha$. We will later explore the implications of this statement. For now, let us rewrite the above function:\n",
    "\n",
    "$$\n",
    "Y = A K^\\alpha L^{1 - \\alpha}\n",
    "$$\n",
    "\n",
    "Note that this is a function of two variables, $K$ and $L$. If we were to plot this function utilizing both variables, we would need a 3D plot with $K$, $L$ and $Y$ each having their own axis. For now, let us gain greater insight of what this function will look like by holding one variable constant and plot the other versus output.\n",
    "\n",
    "For the first case, let us visualize the Cobb-Douglas Production Function with output as a function of capital, holding the amount of labor constant at $\\bar L$."
   ]
  },
  {
   "cell_type": "markdown",
   "metadata": {},
   "source": [
    "### Capital"
   ]
  },
  {
   "cell_type": "code",
   "execution_count": 2,
   "metadata": {},
   "outputs": [],
   "source": [
    "def cobb_douglas(A, K, L, alpha, beta = None):\n",
    "    if beta:\n",
    "        return A * (K ** alpha) * (L ** beta)\n",
    "    else:\n",
    "        return A * (K ** alpha) * (L ** (1 - alpha))"
   ]
  },
  {
   "cell_type": "code",
   "execution_count": 5,
   "metadata": {},
   "outputs": [],
   "source": [
    "K_s = np.arange(0.001, 1, 0.01)\n",
    "A = 1\n",
    "L_bar = 0.5\n",
    "alpha = 0.4\n",
    "V_1 = cobb_douglas(A, K_s, L_bar, alpha)"
   ]
  },
  {
   "cell_type": "code",
   "execution_count": 6,
   "metadata": {},
   "outputs": [
    {
     "data": {
      "image/png": "[encoded data removed]",
      "text/plain": [
       "<Figure size 432x288 with 1 Axes>"
      ]
     },
     "metadata": {
      "needs_background": "light"
     },
     "output_type": "display_data"
    }
   ],
   "source": [
    "plt.plot(K_s, V_1)\n",
    "plt.title(fr\"Cobb-Douglas with $\\bar L$ = {L_bar}, $A$ = {A} and $\\alpha$ = {alpha}\")\n",
    "plt.xlabel(\"Capital Stock\")\n",
    "plt.ylabel(\"Output\")\n",
    "plt.show()"
   ]
  },
  {
   "cell_type": "markdown",
   "metadata": {},
   "source": [
    "Notice some of the properties of the function above:\n",
    "1. It is increasing. This is called increasing returns to capital wherein any increase in capital will lead to an increase in output, assuming that labor is held constant.\n",
    "2. It is concave (increasing at a decreasing rate). This is called diminishing marginal returns to capital wherein any additional unit of capital will lead to smaller and smaller increases in capital. For a better idea of this, let us take the partial derivative of the Cobb-Douglas function with respect to Capital.\n",
    "\n",
    "$$\n",
    "Y = A K^\\alpha L^{1 - \\alpha} \\\\\n",
    "MPK = \\dfrac{\\partial Y}{\\partial K} = \\alpha A \\left ( \\dfrac{L}{K} \\right )^{1 - \\alpha} \n",
    "$$\n",
    "\n",
    "This function is called the Marginal Product of Capital or MPK. Let us plot this function, once again holding labor constant at $\\bar L$."
   ]
  },
  {
   "cell_type": "code",
   "execution_count": null,
   "metadata": {},
   "outputs": [],
   "source": [
    "def MPK(A, K, L, alpha):\n",
    "    return A * alpha * (K ** (alpha - 1)) * (L ** (1 - alpha))"
   ]
  },
  {
   "cell_type": "code",
   "execution_count": null,
   "metadata": {},
   "outputs": [],
   "source": [
    "V_2 = MPK(A, K_s, L_bar, alpha)\n",
    "plt.plot(K_s, V_2)\n",
    "plt.title(fr\"MPK with $\\bar L$ = {L_bar}, $A$ = {A} and $\\alpha$ = {alpha}\")\n",
    "plt.xlabel(\"Capital Stock\")\n",
    "plt.ylabel(\"MPK or Rental Rate of Capital\")\n",
    "plt.show()"
   ]
  },
  {
   "cell_type": "markdown",
   "metadata": {},
   "source": [
    "Note that $\\text{MPK} * \\text{P} = \\text{R}$ is the rental rate of capital - the cost of purchasing or renting an additional unit of capital.\n",
    "\n",
    "The MPK function is monotonically decreasing, converging towards an asymptote at $\\text{MPK} = 0$. This means that the rate of increase of output due to an increase in capital will become 0, meaning that the amount of output added per unit of additional capital will become constant. What would be the intuition behind this?\n",
    "\n",
    "Say a company making pizzas has 1 oven and 10 employees. There is a hard limit on how many pizzas can be baked in a given period of time. However, if the company purchases a second oven, suddenly the employees can bake more pizzas at the same time, thereby increasing the number that can be baked in the same amount of time. In this case, the MPK would be very high as output has greatly increased just by addding slightly to the company's capital stock. \n",
    "\n",
    "Let us move to the case when the company has 100 ovens and 10 employees. Adding another oven would do little to increase output as the 10 employees can only do so much - the extra capacity would not be helpful. In this case, the MPK would be very low as output has not increased by much (if at all) even when the company's capital stock increased.\n",
    "\n",
    "We will now move to using the Cobb-Douglas function for output as a function of labor, holding the amount of capital constant at $\\bar K$."
   ]
  },
  {
   "cell_type": "markdown",
   "metadata": {},
   "source": [
    "### Labor"
   ]
  },
  {
   "cell_type": "code",
   "execution_count": null,
   "metadata": {},
   "outputs": [],
   "source": [
    "L_s = np.arange(0.001, 1, 0.01)\n",
    "A = 1\n",
    "K_bar = 0.5\n",
    "alpha = 0.4\n",
    "V_3 = cobb_douglas(A, K_bar, L_s, alpha)"
   ]
  },
  {
   "cell_type": "code",
   "execution_count": null,
   "metadata": {},
   "outputs": [],
   "source": [
    "plt.plot(L_s, V_3)\n",
    "plt.title(fr\"Cobb-Douglas with $\\bar K$ = {K_bar}, $A$ = {A} and $\\alpha$ = {alpha}\")\n",
    "plt.xlabel(\"Labor\")\n",
    "plt.ylabel(\"Output\")\n",
    "plt.show()"
   ]
  },
  {
   "cell_type": "markdown",
   "metadata": {},
   "source": [
    "The properties of the Labor function are similar to that of the capital function. Let us take the partial derivative of the Cobb-Douglas function with respect to Labor.\n",
    "\n",
    "$$\n",
    "Y = A K^\\alpha L^{1 - \\alpha} \\\\\n",
    "MPL = \\dfrac{\\partial Y}{\\partial L} = A (1 - \\alpha) \\left ( \\dfrac{K}{L} \\right )^{\\alpha}\n",
    "$$\n",
    "\n",
    "This function is called the Marginal Product of Labor or MPL. Let us plot this function, once again holding capital constant at $\\bar K$."
   ]
  },
  {
   "cell_type": "code",
   "execution_count": null,
   "metadata": {},
   "outputs": [],
   "source": [
    "def MPL(A, K, L, alpha):\n",
    "    return A * (1 - alpha) * (K / L) ** alpha"
   ]
  },
  {
   "cell_type": "code",
   "execution_count": null,
   "metadata": {},
   "outputs": [],
   "source": [
    "V_4 = MPL(A, K_bar, L_s, alpha)\n",
    "plt.plot(L_s, V_4)\n",
    "plt.title(fr\"MPL with $\\bar K$ = {K_bar}, $A$ = {A} and $\\alpha$ = {alpha}\")\n",
    "plt.xlabel(\"Labor\")\n",
    "plt.ylabel(\"MPL or Wage\")\n",
    "plt.show()"
   ]
  },
  {
   "cell_type": "markdown",
   "metadata": {},
   "source": [
    "Note that $\\text{MPL} * \\text{P} = \\text{W}$, the Real Wage rate - the cost of hiring an additional unit of labor.\n",
    "\n",
    "Similar to the MPK function, the MPL function is monotonically decreasing, converging towards an asymptote at $\\text{MPL} = 0$. This means that the rate of increase of output due to an increase in labor will become 0.\n",
    "\n",
    "Say the same company making pizzas has 5 ovens and 5 employees. One oven per employee seems like overkill but provides significant extra capacity in terms of capital that would give great flexibility for the company when producing pizzas. However, if the company hires 1 more worker, each oven can be utilized more effectively, as another employee can go to prepping pizzas before baking. This greatly increasies the number of pizzas baked in a given unit of time. The MPL would be very high as output increases significantly with the addition of one more worker. On the above graph, we would be on the steep part of the function.\n",
    "\n",
    "If the company has 5 ovens but 20 employees, hiring an additional worker would do little to increase output. The kitchen would probably be too crowded and there are only so many servers needed. The MPL would be very low as output has not increased by much even when the company's amount of labor has increased. We would be near the flat part of the graph, as the MPL approaches 0."
   ]
  },
  {
   "cell_type": "markdown",
   "metadata": {},
   "source": [
    "### Implications for cross-country comparisons"
   ]
  },
  {
   "cell_type": "markdown",
   "metadata": {},
   "source": [
    "Work by Professors C.W. Cobb and P.H. Douglas found that production or output was a weighted average of the log of capital and labor. The equation for Cobb-Douglas production functions were the result of their research, especially when a log transformation was applied to the equation:\n",
    "\n",
    "$$\n",
    "Y = A K^\\alpha L^{1 - \\alpha} \\\\\n",
    "\\ln(Y) = \\ln(A) + \\alpha \\ln(K) + (1 - \\alpha) \\ln(L)\n",
    "$$\n",
    "\n",
    "Note that this is exactly the weighted average that the two Professors found in their empirical findings: capital and labor are weighted by $\\alpha$ and $1 - \\alpha$ respectively. However, this is still showing production as a function of two variables, $K$ and $L$. Rearranging the equation yields something interesting:\n",
    "\n",
    "$$\n",
    "\\ln(Y) = \\ln(A) + \\alpha \\ln(K) + \\ln(L) - \\alpha \\ln(L) \\\\\n",
    "\\ln(Y)- \\ln(L) = \\ln(A) + \\alpha \\left ( \\ln(K) - \\ln(L) \\right ) \\\\\n",
    "\\ln \\left ( \\dfrac{Y}{L} \\right ) = \\ln(A) + \\alpha \\ln \\left ( \\dfrac{K}{L} \\right )\n",
    "$$\n",
    "\n",
    "The Cobb-Douglas function is now an equation in 1 variable: $\\ln \\left ( \\dfrac{K}{L} \\right )$. This provides a pathway for comparing values of $A$ and $\\alpha$ across countries, and by extension how capital and labor are deployed in different ways between nations. We will now learn about the significance of $A$ and $\\alpha$ in the sections below. Project 1 will have you try this on a broad range of nations from 1990 to 2017. "
   ]
  },
  {
   "cell_type": "markdown",
   "metadata": {},
   "source": [
    "### Shifts in $A$ and its effect on output"
   ]
  },
  {
   "cell_type": "code",
   "execution_count": 7,
   "metadata": {},
   "outputs": [],
   "source": [
    "def plot_cobb_douglas(V, orig_V):\n",
    "    data = [go.Surface(z = V, contours = go.surface.Contours(z = go.surface.contours.Z(show = False, project = dict(z = True))),\n",
    "                      colorscale = \"Electric\", showscale = False),\n",
    "           go.Surface(z = orig_V, contours = go.surface.Contours(z = go.surface.contours.Z(show = False, project = dict(z = True))),\n",
    "                     colorscale = \"Viridis\", showscale = False)]\n",
    "    layout = go.Layout(title = \"Cobb-Douglas Production Function\", autosize=False, width=500, height=500, margin = dict(l = 65, r = 50, b = 65, t = 90),\n",
    "                       scene = dict(xaxis = dict(title = 'K'), yaxis = dict(title = 'L'), zaxis = dict(title = 'Y')))\n",
    "    fig = go.Figure(data = data, layout = layout)\n",
    "    iplot(fig)\n",
    "    \n",
    "def orig_cobb_douglas():\n",
    "    L_s = np.arange(0, 10.11, 0.1)\n",
    "    K_s = np.arange(0, 10.11, 0.1)\n",
    "    A = 1\n",
    "    alpha = 0.5\n",
    "    xx, yy = np.meshgrid(K_s, L_s)\n",
    "    curr_V = cobb_douglas(A, xx, yy, alpha)\n",
    "    return curr_V"
   ]
  },
  {
   "cell_type": "code",
   "execution_count": 8,
   "metadata": {},
   "outputs": [
    {
     "data": {
      "application/vnd.jupyter.widget-view+json": {
       "model_id": "d72f70f12e0f406b8f4c6a776a38430b",
       "version_major": 2,
       "version_minor": 0
      },
      "text/plain": [
       "interactive(children=(FloatSlider(value=1.0, description='A', max=10.0, min=0.5, step=0.5), Output()), _dom_cl…"
      ]
     },
     "metadata": {},
     "output_type": "display_data"
    }
   ],
   "source": [
    "def change_A(A):\n",
    "    L_s = np.arange(0, 10.11, 0.1)\n",
    "    K_s = np.arange(0, 10.11, 0.1)\n",
    "    alpha = 0.5\n",
    "    xx, yy = np.meshgrid(K_s, L_s)\n",
    "    curr_V = cobb_douglas(A, xx, yy, alpha)\n",
    "    plot_cobb_douglas(curr_V, orig_cobb_douglas())\n",
    "    \n",
    "\n",
    "A_slider = widgets.FloatSlider(min = 0.5, max = 10, step = 0.5, value = 1)\n",
    "display(widgets.interactive(change_A, A = A_slider))"
   ]
  },
  {
   "cell_type": "markdown",
   "metadata": {},
   "source": [
    "Supply or total factor productivity shocks could cause $A$ to change. These occur if there is a change in total output for a given level of capital and labor. Examples of these include financial crises, technology shocks, natural environment/distasters and energy prices. \n",
    "\n",
    "Favorable shocks rotate the production function upward through an increase in A. Thus, each unit of input from capital and labor now simulataneously produce more output. What does this mean for the rental rate of capital and the real wage? Recall the functions for both of them:\n",
    "\n",
    "$$\n",
    "MPL = \\dfrac{\\partial Y}{\\partial L} = A (1 - \\alpha) \\left ( \\dfrac{K}{L} \\right )^{\\alpha} \\\\\n",
    "MPK = \\dfrac{\\partial Y}{\\partial K} = \\alpha A \\left ( \\dfrac{L}{K} \\right )^{1 - \\alpha} \n",
    "$$\n",
    "\n",
    "Both MPK and MPL will increase by a factor of A. Thus, it would be more expensive to hire an additional unit of labor or rent an additional unit of capital. As they are both more productive than they previously were, they are both more valuable to a business and thus will cost more.\n",
    "\n",
    "\n",
    "Negative shocks do the opposite. They rotate the production function downward through a decrease in A. Each unit of input is now less productive, meaning that both the rental rate of capital and the real wage are lower."
   ]
  },
  {
   "cell_type": "markdown",
   "metadata": {},
   "source": [
    "### Differences in $\\alpha$ and their effects on output"
   ]
  },
  {
   "cell_type": "code",
   "execution_count": 9,
   "metadata": {},
   "outputs": [
    {
     "data": {
      "application/vnd.jupyter.widget-view+json": {
       "model_id": "3b2d540453d2497cae73fb0571513997",
       "version_major": 2,
       "version_minor": 0
      },
      "text/plain": [
       "interactive(children=(FloatSlider(value=0.5, description='alpha', max=1.0, min=0.1), Output()), _dom_classes=(…"
      ]
     },
     "metadata": {},
     "output_type": "display_data"
    }
   ],
   "source": [
    "def change_alpha(alpha):\n",
    "    L_s = np.arange(0, 10.11, 0.1)\n",
    "    K_s = np.arange(0, 10.11, 0.1)\n",
    "    A = 1\n",
    "    xx, yy = np.meshgrid(K_s, L_s)\n",
    "    curr_V = cobb_douglas(A, xx, yy, alpha)\n",
    "    plot_cobb_douglas(curr_V, orig_cobb_douglas())\n",
    "    \n",
    "\n",
    "alpha_slider = widgets.FloatSlider(min = 0.1, max = 1, step = 0.1, value = 0.5)\n",
    "display(widgets.interactive(change_alpha, alpha = alpha_slider))"
   ]
  },
  {
   "cell_type": "markdown",
   "metadata": {},
   "source": [
    "$\\alpha$ and $\\beta$ are called the output elasticities of capital and labor, respectively. They measure the responsiveness of output to a change in the levels of either labor or capital, holding all else constant. This means that if $\\alpha$ or $\\beta$ were high, then any small increase in their respective input would lead to a relatively large increase in output. As an example, if $\\alpha$ were 0.4, then a 1% increase in capital would lead to a 0.4% increase in output.\n",
    "\n",
    "Note, we assume that there are constant returns to scale. Thus, an increase in $\\alpha$ necessarily means $\\beta$ decreases. This reveals something important when comparing countries: the higher the $\\alpha$, the more capital-intensive the country's production is. This means that $\\alpha$ and $\\beta$ give economists and policymakers insight as to how resources are allocated across nations."
   ]
  },
  {
   "cell_type": "markdown",
   "metadata": {},
   "source": [
    "### Returns to scale"
   ]
  },
  {
   "cell_type": "markdown",
   "metadata": {},
   "source": [
    "The significance of the exponents adding up to 1, i.e. $\\alpha + \\beta = 1$, is that this implies constant returns to scale. If all inputs are scaled by a common non-zero factor, the output will be scaled by that same factor. Below is a generalization of this:\n",
    "\n",
    "$$\n",
    "Y = A (c \\cdot K)^\\alpha (c \\cdot L)^{1 - \\alpha} \\\\\n",
    "= A c^\\alpha K ^ \\alpha c^{1 - \\alpha}L^{1 - \\alpha} \\\\\n",
    "= A c^{\\alpha + 1 - \\alpha}K^\\alpha L^{1 - \\alpha} \\\\\n",
    "= c \\cdot A K^\\alpha L^{1 - \\alpha}\n",
    "$$\n",
    "\n",
    "Thus, any increase in either of the inputs will lead to a 1-1 increase in output. This is a significant assumption to make, as it essentially incentivizes companies to continue to \"scale\" their production inputs. They are not losing out on how much return is produced - they are getting output that matches exactly what they put into production.\n",
    "\n",
    "The alternative case is when $\\alpha + \\beta < 1$. This is called decreasing returns to scale, and occurs when a company scales their production inputs by a factor of c, but gets a scaling in output that is less than c.\n",
    "\n",
    "The last case is the most profitable one, when $\\alpha + \\beta > 1$. This is called increasing returns to scale, and occurs when a company increases their production inputs by c, but gets an increase in output that is greater than c.\n",
    "\n",
    "Let us visually examine how values of $\\alpha$ and $\\beta$ affect output."
   ]
  },
  {
   "cell_type": "code",
   "execution_count": 10,
   "metadata": {
    "scrolled": true
   },
   "outputs": [
    {
     "data": {
      "application/vnd.jupyter.widget-view+json": {
       "model_id": "5337ccf304e7495e9ebb186d234e1ac8",
       "version_major": 2,
       "version_minor": 0
      },
      "text/plain": [
       "interactive(children=(FloatSlider(value=1.0, description='alpha_beta_sum', max=3.0, min=0.1), Output()), _dom_…"
      ]
     },
     "metadata": {},
     "output_type": "display_data"
    }
   ],
   "source": [
    "def change_alpha_beta(alpha_beta_sum):\n",
    "    L_s = np.arange(0, 10.11, 0.1)\n",
    "    K_s = np.arange(0, 10.11, 0.1)\n",
    "    A = 1\n",
    "    alpha = alpha_beta_sum / 2\n",
    "    beta = alpha_beta_sum / 2\n",
    "    xx, yy = np.meshgrid(K_s, L_s)\n",
    "    curr_V = cobb_douglas(A, xx, yy, alpha, beta)\n",
    "    plot_cobb_douglas(curr_V, orig_cobb_douglas())\n",
    "    \n",
    "alpha_beta_slider = widgets.FloatSlider(min = 0.1, max = 3, step = 0.1, value = 1)\n",
    "display(widgets.interactive(change_alpha_beta, alpha_beta_sum = alpha_beta_slider))"
   ]
  },
  {
   "cell_type": "markdown",
   "metadata": {},
   "source": [
    "## Interacting with a real-world dataset\n",
    "\n",
    "In almost all cases in industry, you will have to find the dataset that can answer the question you are trying to solve. However, as we are introducing you to this process, we will be providing the link to such a dataset.\n",
    "\n",
    "We will be using \"Penn World Table\" (PWT), a dataset that catalogues information on relative levels of income, output, inputs and productivity for 182 countries between 1950 and 2017. It was compiled by the University of Groningen.\n",
    "\n",
    "Your task:\n",
    "1. Go to: https://www.rug.nl/ggdc/productivity/pwt/ and download the Excel datafile.\n",
    "2. Open the Excel file, select the \"Data\" sheet, then File > Save As > Select. Type in a file name and **change the file format to Comma Separated Values (.csv)**.\n",
    "3. Upload this .csv file to the same folder as this Notebook. You can access the Datahub file explorer by clicking the Jupyter logo on the top-left of the notebook and navigating to econ-sp20 > wk05. Uploading is accomplished by dragging and dropping the file into the file explorer window and clicking the blue button labeled \"upload\".\n",
    "4. Edit the line ```file_name``` such that it matches the name of the .csv file that you just uploaded.\n",
    "5. Run the code cell below."
   ]
  },
  {
   "cell_type": "code",
   "execution_count": 13,
   "metadata": {},
   "outputs": [],
   "source": [
    "### Edit the line below ###\n",
    "file_name = \"hello.csv\"\n",
    "\n",
    "### Do not change the line below ###\n",
    "data = to_table(file_name)"
   ]
  },
  {
   "cell_type": "code",
   "execution_count": 14,
   "metadata": {},
   "outputs": [
    {
     "data": {
      "text/html": [
       "<table border=\"1\" class=\"dataframe\">\n",
       "    <thead>\n",
       "        <tr>\n",
       "            <th>countrycode</th> <th>country</th> <th>currency_unit</th> <th>year</th> <th>rgdpe</th> <th>rgdpo</th> <th>pop</th> <th>emp</th> <th>avh</th> <th>hc</th> <th>ccon</th> <th>cda</th> <th>cgdpe</th> <th>cgdpo</th> <th>cn</th> <th>ck</th> <th>ctfp</th> <th>cwtfp</th> <th>rgdpna</th> <th>rconna</th> <th>rdana</th> <th>rnna</th> <th>rkna</th> <th>rtfpna</th> <th>rwtfpna</th> <th>labsh</th> <th>irr</th> <th>delta</th> <th>xr</th> <th>pl_con</th> <th>pl_da</th> <th>pl_gdpo</th> <th>i_cig</th> <th>i_xm</th> <th>i_xr</th> <th>i_outlier</th> <th>i_irr</th> <th>cor_exp</th> <th>statcap</th> <th>csh_c</th> <th>csh_i</th> <th>csh_g</th> <th>csh_x</th> <th>csh_m</th> <th>csh_r</th> <th>pl_c</th> <th>pl_i</th> <th>pl_g</th> <th>pl_x</th> <th>pl_m</th> <th>pl_n</th> <th>pl_k</th>\n",
       "        </tr>\n",
       "    </thead>\n",
       "    <tbody>\n",
       "        <tr>\n",
       "            <td>ABW        </td> <td>Aruba  </td> <td>Aruban Guilder</td> <td>1950</td> <td>-1   </td> <td>-1   </td> <td>-1  </td> <td>-1  </td> <td>-1  </td> <td>-1  </td> <td>-1  </td> <td>-1  </td> <td>-1   </td> <td>-1   </td> <td>-1  </td> <td>-1  </td> <td>-1  </td> <td>-1   </td> <td>-1    </td> <td>-1    </td> <td>-1   </td> <td>-1  </td> <td>-1  </td> <td>-1    </td> <td>-1     </td> <td>-1   </td> <td>-1  </td> <td>-1   </td> <td>-1  </td> <td>-1    </td> <td>-1   </td> <td>-1     </td> <td>-1   </td> <td>-1  </td> <td>-1  </td> <td>-1       </td> <td>-1   </td> <td>-1     </td> <td>-1     </td> <td>-1   </td> <td>-1   </td> <td>-1   </td> <td>-1   </td> <td>-1   </td> <td>-1   </td> <td>-1  </td> <td>-1  </td> <td>-1  </td> <td>-1  </td> <td>-1  </td> <td>-1  </td> <td>-1  </td>\n",
       "        </tr>\n",
       "        <tr>\n",
       "            <td>ABW        </td> <td>Aruba  </td> <td>Aruban Guilder</td> <td>1951</td> <td>-1   </td> <td>-1   </td> <td>-1  </td> <td>-1  </td> <td>-1  </td> <td>-1  </td> <td>-1  </td> <td>-1  </td> <td>-1   </td> <td>-1   </td> <td>-1  </td> <td>-1  </td> <td>-1  </td> <td>-1   </td> <td>-1    </td> <td>-1    </td> <td>-1   </td> <td>-1  </td> <td>-1  </td> <td>-1    </td> <td>-1     </td> <td>-1   </td> <td>-1  </td> <td>-1   </td> <td>-1  </td> <td>-1    </td> <td>-1   </td> <td>-1     </td> <td>-1   </td> <td>-1  </td> <td>-1  </td> <td>-1       </td> <td>-1   </td> <td>-1     </td> <td>-1     </td> <td>-1   </td> <td>-1   </td> <td>-1   </td> <td>-1   </td> <td>-1   </td> <td>-1   </td> <td>-1  </td> <td>-1  </td> <td>-1  </td> <td>-1  </td> <td>-1  </td> <td>-1  </td> <td>-1  </td>\n",
       "        </tr>\n",
       "        <tr>\n",
       "            <td>ABW        </td> <td>Aruba  </td> <td>Aruban Guilder</td> <td>1952</td> <td>-1   </td> <td>-1   </td> <td>-1  </td> <td>-1  </td> <td>-1  </td> <td>-1  </td> <td>-1  </td> <td>-1  </td> <td>-1   </td> <td>-1   </td> <td>-1  </td> <td>-1  </td> <td>-1  </td> <td>-1   </td> <td>-1    </td> <td>-1    </td> <td>-1   </td> <td>-1  </td> <td>-1  </td> <td>-1    </td> <td>-1     </td> <td>-1   </td> <td>-1  </td> <td>-1   </td> <td>-1  </td> <td>-1    </td> <td>-1   </td> <td>-1     </td> <td>-1   </td> <td>-1  </td> <td>-1  </td> <td>-1       </td> <td>-1   </td> <td>-1     </td> <td>-1     </td> <td>-1   </td> <td>-1   </td> <td>-1   </td> <td>-1   </td> <td>-1   </td> <td>-1   </td> <td>-1  </td> <td>-1  </td> <td>-1  </td> <td>-1  </td> <td>-1  </td> <td>-1  </td> <td>-1  </td>\n",
       "        </tr>\n",
       "        <tr>\n",
       "            <td>ABW        </td> <td>Aruba  </td> <td>Aruban Guilder</td> <td>1953</td> <td>-1   </td> <td>-1   </td> <td>-1  </td> <td>-1  </td> <td>-1  </td> <td>-1  </td> <td>-1  </td> <td>-1  </td> <td>-1   </td> <td>-1   </td> <td>-1  </td> <td>-1  </td> <td>-1  </td> <td>-1   </td> <td>-1    </td> <td>-1    </td> <td>-1   </td> <td>-1  </td> <td>-1  </td> <td>-1    </td> <td>-1     </td> <td>-1   </td> <td>-1  </td> <td>-1   </td> <td>-1  </td> <td>-1    </td> <td>-1   </td> <td>-1     </td> <td>-1   </td> <td>-1  </td> <td>-1  </td> <td>-1       </td> <td>-1   </td> <td>-1     </td> <td>-1     </td> <td>-1   </td> <td>-1   </td> <td>-1   </td> <td>-1   </td> <td>-1   </td> <td>-1   </td> <td>-1  </td> <td>-1  </td> <td>-1  </td> <td>-1  </td> <td>-1  </td> <td>-1  </td> <td>-1  </td>\n",
       "        </tr>\n",
       "        <tr>\n",
       "            <td>ABW        </td> <td>Aruba  </td> <td>Aruban Guilder</td> <td>1954</td> <td>-1   </td> <td>-1   </td> <td>-1  </td> <td>-1  </td> <td>-1  </td> <td>-1  </td> <td>-1  </td> <td>-1  </td> <td>-1   </td> <td>-1   </td> <td>-1  </td> <td>-1  </td> <td>-1  </td> <td>-1   </td> <td>-1    </td> <td>-1    </td> <td>-1   </td> <td>-1  </td> <td>-1  </td> <td>-1    </td> <td>-1     </td> <td>-1   </td> <td>-1  </td> <td>-1   </td> <td>-1  </td> <td>-1    </td> <td>-1   </td> <td>-1     </td> <td>-1   </td> <td>-1  </td> <td>-1  </td> <td>-1       </td> <td>-1   </td> <td>-1     </td> <td>-1     </td> <td>-1   </td> <td>-1   </td> <td>-1   </td> <td>-1   </td> <td>-1   </td> <td>-1   </td> <td>-1  </td> <td>-1  </td> <td>-1  </td> <td>-1  </td> <td>-1  </td> <td>-1  </td> <td>-1  </td>\n",
       "        </tr>\n",
       "        <tr>\n",
       "            <td>ABW        </td> <td>Aruba  </td> <td>Aruban Guilder</td> <td>1955</td> <td>-1   </td> <td>-1   </td> <td>-1  </td> <td>-1  </td> <td>-1  </td> <td>-1  </td> <td>-1  </td> <td>-1  </td> <td>-1   </td> <td>-1   </td> <td>-1  </td> <td>-1  </td> <td>-1  </td> <td>-1   </td> <td>-1    </td> <td>-1    </td> <td>-1   </td> <td>-1  </td> <td>-1  </td> <td>-1    </td> <td>-1     </td> <td>-1   </td> <td>-1  </td> <td>-1   </td> <td>-1  </td> <td>-1    </td> <td>-1   </td> <td>-1     </td> <td>-1   </td> <td>-1  </td> <td>-1  </td> <td>-1       </td> <td>-1   </td> <td>-1     </td> <td>-1     </td> <td>-1   </td> <td>-1   </td> <td>-1   </td> <td>-1   </td> <td>-1   </td> <td>-1   </td> <td>-1  </td> <td>-1  </td> <td>-1  </td> <td>-1  </td> <td>-1  </td> <td>-1  </td> <td>-1  </td>\n",
       "        </tr>\n",
       "        <tr>\n",
       "            <td>ABW        </td> <td>Aruba  </td> <td>Aruban Guilder</td> <td>1956</td> <td>-1   </td> <td>-1   </td> <td>-1  </td> <td>-1  </td> <td>-1  </td> <td>-1  </td> <td>-1  </td> <td>-1  </td> <td>-1   </td> <td>-1   </td> <td>-1  </td> <td>-1  </td> <td>-1  </td> <td>-1   </td> <td>-1    </td> <td>-1    </td> <td>-1   </td> <td>-1  </td> <td>-1  </td> <td>-1    </td> <td>-1     </td> <td>-1   </td> <td>-1  </td> <td>-1   </td> <td>-1  </td> <td>-1    </td> <td>-1   </td> <td>-1     </td> <td>-1   </td> <td>-1  </td> <td>-1  </td> <td>-1       </td> <td>-1   </td> <td>-1     </td> <td>-1     </td> <td>-1   </td> <td>-1   </td> <td>-1   </td> <td>-1   </td> <td>-1   </td> <td>-1   </td> <td>-1  </td> <td>-1  </td> <td>-1  </td> <td>-1  </td> <td>-1  </td> <td>-1  </td> <td>-1  </td>\n",
       "        </tr>\n",
       "        <tr>\n",
       "            <td>ABW        </td> <td>Aruba  </td> <td>Aruban Guilder</td> <td>1957</td> <td>-1   </td> <td>-1   </td> <td>-1  </td> <td>-1  </td> <td>-1  </td> <td>-1  </td> <td>-1  </td> <td>-1  </td> <td>-1   </td> <td>-1   </td> <td>-1  </td> <td>-1  </td> <td>-1  </td> <td>-1   </td> <td>-1    </td> <td>-1    </td> <td>-1   </td> <td>-1  </td> <td>-1  </td> <td>-1    </td> <td>-1     </td> <td>-1   </td> <td>-1  </td> <td>-1   </td> <td>-1  </td> <td>-1    </td> <td>-1   </td> <td>-1     </td> <td>-1   </td> <td>-1  </td> <td>-1  </td> <td>-1       </td> <td>-1   </td> <td>-1     </td> <td>-1     </td> <td>-1   </td> <td>-1   </td> <td>-1   </td> <td>-1   </td> <td>-1   </td> <td>-1   </td> <td>-1  </td> <td>-1  </td> <td>-1  </td> <td>-1  </td> <td>-1  </td> <td>-1  </td> <td>-1  </td>\n",
       "        </tr>\n",
       "        <tr>\n",
       "            <td>ABW        </td> <td>Aruba  </td> <td>Aruban Guilder</td> <td>1958</td> <td>-1   </td> <td>-1   </td> <td>-1  </td> <td>-1  </td> <td>-1  </td> <td>-1  </td> <td>-1  </td> <td>-1  </td> <td>-1   </td> <td>-1   </td> <td>-1  </td> <td>-1  </td> <td>-1  </td> <td>-1   </td> <td>-1    </td> <td>-1    </td> <td>-1   </td> <td>-1  </td> <td>-1  </td> <td>-1    </td> <td>-1     </td> <td>-1   </td> <td>-1  </td> <td>-1   </td> <td>-1  </td> <td>-1    </td> <td>-1   </td> <td>-1     </td> <td>-1   </td> <td>-1  </td> <td>-1  </td> <td>-1       </td> <td>-1   </td> <td>-1     </td> <td>-1     </td> <td>-1   </td> <td>-1   </td> <td>-1   </td> <td>-1   </td> <td>-1   </td> <td>-1   </td> <td>-1  </td> <td>-1  </td> <td>-1  </td> <td>-1  </td> <td>-1  </td> <td>-1  </td> <td>-1  </td>\n",
       "        </tr>\n",
       "        <tr>\n",
       "            <td>ABW        </td> <td>Aruba  </td> <td>Aruban Guilder</td> <td>1959</td> <td>-1   </td> <td>-1   </td> <td>-1  </td> <td>-1  </td> <td>-1  </td> <td>-1  </td> <td>-1  </td> <td>-1  </td> <td>-1   </td> <td>-1   </td> <td>-1  </td> <td>-1  </td> <td>-1  </td> <td>-1   </td> <td>-1    </td> <td>-1    </td> <td>-1   </td> <td>-1  </td> <td>-1  </td> <td>-1    </td> <td>-1     </td> <td>-1   </td> <td>-1  </td> <td>-1   </td> <td>-1  </td> <td>-1    </td> <td>-1   </td> <td>-1     </td> <td>-1   </td> <td>-1  </td> <td>-1  </td> <td>-1       </td> <td>-1   </td> <td>-1     </td> <td>-1     </td> <td>-1   </td> <td>-1   </td> <td>-1   </td> <td>-1   </td> <td>-1   </td> <td>-1   </td> <td>-1  </td> <td>-1  </td> <td>-1  </td> <td>-1  </td> <td>-1  </td> <td>-1  </td> <td>-1  </td>\n",
       "        </tr>\n",
       "    </tbody>\n",
       "</table>\n",
       "<p>... (12366 rows omitted)</p>"
      ],
      "text/plain": [
       "countrycode | country | currency_unit  | year | rgdpe | rgdpo | pop  | emp  | avh  | hc   | ccon | cda  | cgdpe | cgdpo | cn   | ck   | ctfp | cwtfp | rgdpna | rconna | rdana | rnna | rkna | rtfpna | rwtfpna | labsh | irr  | delta | xr   | pl_con | pl_da | pl_gdpo | i_cig | i_xm | i_xr | i_outlier | i_irr | cor_exp | statcap | csh_c | csh_i | csh_g | csh_x | csh_m | csh_r | pl_c | pl_i | pl_g | pl_x | pl_m | pl_n | pl_k\n",
       "ABW         | Aruba   | Aruban Guilder | 1950 | -1    | -1    | -1   | -1   | -1   | -1   | -1   | -1   | -1    | -1    | -1   | -1   | -1   | -1    | -1     | -1     | -1    | -1   | -1   | -1     | -1      | -1    | -1   | -1    | -1   | -1     | -1    | -1      | -1    | -1   | -1   | -1        | -1    | -1      | -1      | -1    | -1    | -1    | -1    | -1    | -1    | -1   | -1   | -1   | -1   | -1   | -1   | -1\n",
       "ABW         | Aruba   | Aruban Guilder | 1951 | -1    | -1    | -1   | -1   | -1   | -1   | -1   | -1   | -1    | -1    | -1   | -1   | -1   | -1    | -1     | -1     | -1    | -1   | -1   | -1     | -1      | -1    | -1   | -1    | -1   | -1     | -1    | -1      | -1    | -1   | -1   | -1        | -1    | -1      | -1      | -1    | -1    | -1    | -1    | -1    | -1    | -1   | -1   | -1   | -1   | -1   | -1   | -1\n",
       "ABW         | Aruba   | Aruban Guilder | 1952 | -1    | -1    | -1   | -1   | -1   | -1   | -1   | -1   | -1    | -1    | -1   | -1   | -1   | -1    | -1     | -1     | -1    | -1   | -1   | -1     | -1      | -1    | -1   | -1    | -1   | -1     | -1    | -1      | -1    | -1   | -1   | -1        | -1    | -1      | -1      | -1    | -1    | -1    | -1    | -1    | -1    | -1   | -1   | -1   | -1   | -1   | -1   | -1\n",
       "ABW         | Aruba   | Aruban Guilder | 1953 | -1    | -1    | -1   | -1   | -1   | -1   | -1   | -1   | -1    | -1    | -1   | -1   | -1   | -1    | -1     | -1     | -1    | -1   | -1   | -1     | -1      | -1    | -1   | -1    | -1   | -1     | -1    | -1      | -1    | -1   | -1   | -1        | -1    | -1      | -1      | -1    | -1    | -1    | -1    | -1    | -1    | -1   | -1   | -1   | -1   | -1   | -1   | -1\n",
       "ABW         | Aruba   | Aruban Guilder | 1954 | -1    | -1    | -1   | -1   | -1   | -1   | -1   | -1   | -1    | -1    | -1   | -1   | -1   | -1    | -1     | -1     | -1    | -1   | -1   | -1     | -1      | -1    | -1   | -1    | -1   | -1     | -1    | -1      | -1    | -1   | -1   | -1        | -1    | -1      | -1      | -1    | -1    | -1    | -1    | -1    | -1    | -1   | -1   | -1   | -1   | -1   | -1   | -1\n",
       "ABW         | Aruba   | Aruban Guilder | 1955 | -1    | -1    | -1   | -1   | -1   | -1   | -1   | -1   | -1    | -1    | -1   | -1   | -1   | -1    | -1     | -1     | -1    | -1   | -1   | -1     | -1      | -1    | -1   | -1    | -1   | -1     | -1    | -1      | -1    | -1   | -1   | -1        | -1    | -1      | -1      | -1    | -1    | -1    | -1    | -1    | -1    | -1   | -1   | -1   | -1   | -1   | -1   | -1\n",
       "ABW         | Aruba   | Aruban Guilder | 1956 | -1    | -1    | -1   | -1   | -1   | -1   | -1   | -1   | -1    | -1    | -1   | -1   | -1   | -1    | -1     | -1     | -1    | -1   | -1   | -1     | -1      | -1    | -1   | -1    | -1   | -1     | -1    | -1      | -1    | -1   | -1   | -1        | -1    | -1      | -1      | -1    | -1    | -1    | -1    | -1    | -1    | -1   | -1   | -1   | -1   | -1   | -1   | -1\n",
       "ABW         | Aruba   | Aruban Guilder | 1957 | -1    | -1    | -1   | -1   | -1   | -1   | -1   | -1   | -1    | -1    | -1   | -1   | -1   | -1    | -1     | -1     | -1    | -1   | -1   | -1     | -1      | -1    | -1   | -1    | -1   | -1     | -1    | -1      | -1    | -1   | -1   | -1        | -1    | -1      | -1      | -1    | -1    | -1    | -1    | -1    | -1    | -1   | -1   | -1   | -1   | -1   | -1   | -1\n",
       "ABW         | Aruba   | Aruban Guilder | 1958 | -1    | -1    | -1   | -1   | -1   | -1   | -1   | -1   | -1    | -1    | -1   | -1   | -1   | -1    | -1     | -1     | -1    | -1   | -1   | -1     | -1      | -1    | -1   | -1    | -1   | -1     | -1    | -1      | -1    | -1   | -1   | -1        | -1    | -1      | -1      | -1    | -1    | -1    | -1    | -1    | -1    | -1   | -1   | -1   | -1   | -1   | -1   | -1\n",
       "ABW         | Aruba   | Aruban Guilder | 1959 | -1    | -1    | -1   | -1   | -1   | -1   | -1   | -1   | -1    | -1    | -1   | -1   | -1   | -1    | -1     | -1     | -1    | -1   | -1   | -1     | -1      | -1    | -1   | -1    | -1   | -1     | -1    | -1      | -1    | -1   | -1   | -1        | -1    | -1      | -1      | -1    | -1    | -1    | -1    | -1    | -1    | -1   | -1   | -1   | -1   | -1   | -1   | -1\n",
       "... (12366 rows omitted)"
      ]
     },
     "execution_count": 14,
     "metadata": {},
     "output_type": "execute_result"
    }
   ],
   "source": [
    "data"
   ]
  },
  {
   "cell_type": "markdown",
   "metadata": {},
   "source": [
    "This is the dataset that you will be interacting with in Project 1. Below are a few questions that will help you get to know the data you will be working with."
   ]
  },
  {
   "cell_type": "markdown",
   "metadata": {},
   "source": [
    "**Question 1.1.** Are there missing values in ```data```? What transformation have we done to account for this?"
   ]
  },
  {
   "cell_type": "markdown",
   "metadata": {},
   "source": [
    "**Question 1.2.** Create a list of all of the variables in ```data```. Based on our discussion above, what columns would be most beneficial for our analysis?"
   ]
  },
  {
   "cell_type": "code",
   "execution_count": 20,
   "metadata": {},
   "outputs": [
    {
     "data": {
      "text/plain": [
       "('countrycode',\n",
       " 'country',\n",
       " 'currency_unit',\n",
       " 'year',\n",
       " 'rgdpe',\n",
       " 'rgdpo',\n",
       " 'pop',\n",
       " 'emp',\n",
       " 'avh',\n",
       " 'hc',\n",
       " 'ccon',\n",
       " 'cda',\n",
       " 'cgdpe',\n",
       " 'cgdpo',\n",
       " 'cn',\n",
       " 'ck',\n",
       " 'ctfp',\n",
       " 'cwtfp',\n",
       " 'rgdpna',\n",
       " 'rconna',\n",
       " 'rdana',\n",
       " 'rnna',\n",
       " 'rkna',\n",
       " 'rtfpna',\n",
       " 'rwtfpna',\n",
       " 'labsh',\n",
       " 'irr',\n",
       " 'delta',\n",
       " 'xr',\n",
       " 'pl_con',\n",
       " 'pl_da',\n",
       " 'pl_gdpo',\n",
       " 'i_cig',\n",
       " 'i_xm',\n",
       " 'i_xr',\n",
       " 'i_outlier',\n",
       " 'i_irr',\n",
       " 'cor_exp',\n",
       " 'statcap',\n",
       " 'csh_c',\n",
       " 'csh_i',\n",
       " 'csh_g',\n",
       " 'csh_x',\n",
       " 'csh_m',\n",
       " 'csh_r',\n",
       " 'pl_c',\n",
       " 'pl_i',\n",
       " 'pl_g',\n",
       " 'pl_x',\n",
       " 'pl_m',\n",
       " 'pl_n',\n",
       " 'pl_k')"
      ]
     },
     "execution_count": 20,
     "metadata": {},
     "output_type": "execute_result"
    }
   ],
   "source": [
    "data.labels"
   ]
  },
  {
   "cell_type": "markdown",
   "metadata": {},
   "source": [
    "**Question 1.3.** Create a list of all of the countries in ```data```."
   ]
  },
  {
   "cell_type": "code",
   "execution_count": 18,
   "metadata": {},
   "outputs": [
    {
     "data": {
      "text/plain": [
       "array(['Albania', 'Algeria', 'Angola', 'Anguilla', 'Antigua and Barbuda',\n",
       "       'Argentina', 'Armenia', 'Aruba', 'Australia', 'Austria',\n",
       "       'Azerbaijan', 'Bahamas', 'Bahrain', 'Bangladesh', 'Barbados',\n",
       "       'Belarus', 'Belgium', 'Belize', 'Benin', 'Bermuda', 'Bhutan',\n",
       "       'Bolivia (Plurinational State of)', 'Bosnia and Herzegovina',\n",
       "       'Botswana', 'Brazil', 'British Virgin Islands',\n",
       "       'Brunei Darussalam', 'Bulgaria', 'Burkina Faso', 'Burundi',\n",
       "       'Cabo Verde', 'Cambodia', 'Cameroon', 'Canada', 'Cayman Islands',\n",
       "       'Central African Republic', 'Chad', 'Chile', 'China',\n",
       "       'China, Hong Kong SAR', 'China, Macao SAR', 'Colombia', 'Comoros',\n",
       "       'Congo', 'Costa Rica', 'Croatia', 'Cura�ao', 'Cyprus',\n",
       "       'Czech Republic', \"C�te d'Ivoire\", 'D.R. of the Congo', 'Denmark',\n",
       "       'Djibouti', 'Dominica', 'Dominican Republic', 'Ecuador', 'Egypt',\n",
       "       'El Salvador', 'Equatorial Guinea', 'Estonia', 'Eswatini',\n",
       "       'Ethiopia', 'Fiji', 'Finland', 'France', 'Gabon', 'Gambia',\n",
       "       'Georgia', 'Germany', 'Ghana', 'Greece', 'Grenada', 'Guatemala',\n",
       "       'Guinea', 'Guinea-Bissau', 'Haiti', 'Honduras', 'Hungary',\n",
       "       'Iceland', 'India', 'Indonesia', 'Iran (Islamic Republic of)',\n",
       "       'Iraq', 'Ireland', 'Israel', 'Italy', 'Jamaica', 'Japan', 'Jordan',\n",
       "       'Kazakhstan', 'Kenya', 'Kuwait', 'Kyrgyzstan', \"Lao People's DR\",\n",
       "       'Latvia', 'Lebanon', 'Lesotho', 'Liberia', 'Lithuania',\n",
       "       'Luxembourg', 'Madagascar', 'Malawi', 'Malaysia', 'Maldives',\n",
       "       'Mali', 'Malta', 'Mauritania', 'Mauritius', 'Mexico', 'Mongolia',\n",
       "       'Montenegro', 'Montserrat', 'Morocco', 'Mozambique', 'Myanmar',\n",
       "       'Namibia', 'Nepal', 'Netherlands', 'New Zealand', 'Nicaragua',\n",
       "       'Niger', 'Nigeria', 'North Macedonia', 'Norway', 'Oman',\n",
       "       'Pakistan', 'Panama', 'Paraguay', 'Peru', 'Philippines', 'Poland',\n",
       "       'Portugal', 'Qatar', 'Republic of Korea', 'Republic of Moldova',\n",
       "       'Romania', 'Russian Federation', 'Rwanda', 'Saint Kitts and Nevis',\n",
       "       'Saint Lucia', 'Sao Tome and Principe', 'Saudi Arabia', 'Senegal',\n",
       "       'Serbia', 'Seychelles', 'Sierra Leone', 'Singapore',\n",
       "       'Sint Maarten (Dutch part)', 'Slovakia', 'Slovenia',\n",
       "       'South Africa', 'Spain', 'Sri Lanka',\n",
       "       'St. Vincent and the Grenadines', 'State of Palestine', 'Sudan',\n",
       "       'Suriname', 'Sweden', 'Switzerland', 'Syrian Arab Republic',\n",
       "       'Taiwan', 'Tajikistan', 'Thailand', 'Togo', 'Trinidad and Tobago',\n",
       "       'Tunisia', 'Turkey', 'Turkmenistan', 'Turks and Caicos Islands',\n",
       "       'U.R. of Tanzania: Mainland', 'Uganda', 'Ukraine',\n",
       "       'United Arab Emirates', 'United Kingdom', 'United States',\n",
       "       'Uruguay', 'Uzbekistan', 'Venezuela (Bolivarian Republic of)',\n",
       "       'Viet Nam', 'Yemen', 'Zambia', 'Zimbabwe'], dtype='<U34')"
      ]
     },
     "execution_count": 18,
     "metadata": {},
     "output_type": "execute_result"
    }
   ],
   "source": [
    "data.group(\"country\").column(\"country\")"
   ]
  },
  {
   "cell_type": "code",
   "execution_count": null,
   "metadata": {},
   "outputs": [],
   "source": []
  }
 ],
 "metadata": {
  "kernelspec": {
   "display_name": "Python 3",
   "language": "python",
   "name": "python3"
  },
  "language_info": {
   "codemirror_mode": {
    "name": "ipython",
    "version": 3
   },
   "file_extension": ".py",
   "mimetype": "text/x-python",
   "name": "python",
   "nbconvert_exporter": "python",
   "pygments_lexer": "ipython3",
   "version": "3.7.1"
  }
 },
 "nbformat": 4,
 "nbformat_minor": 2
}
