{
 "cells": [
  {
   "cell_type": "markdown",
   "metadata": {},
   "source": [
    "<table style=\"width: 100%;\">\n",
    "    <tr style=\"background-color: transparent;\"><td>\n",
    "        <img src=\"https://d8a-88.github.io/econ-fa19/assets/images/blue_text.png\" width=\"250px\" style=\"margin-left: 0;\" />\n",
    "    </td><td>\n",
    "        <p style=\"text-align: right; font-size: 12pt;\"><strong>Economic Models</strong>, Fall 2019<br>\n",
    "            Dr. Eric Van Dusen</p></td></tr>\n",
    "</table>"
   ]
  },
  {
   "cell_type": "code",
   "execution_count": 2,
   "metadata": {},
   "outputs": [
    {
     "ename": "ModuleNotFoundError",
     "evalue": "No module named 'pandas'",
     "output_type": "error",
     "traceback": [
      "\u001b[0;31m---------------------------------------------------------------------------\u001b[0m",
      "\u001b[0;31mModuleNotFoundError\u001b[0m                       Traceback (most recent call last)",
      "\u001b[0;32m<ipython-input-2-865726a58b88>\u001b[0m in \u001b[0;36m<module>\u001b[0;34m\u001b[0m\n\u001b[0;32m----> 1\u001b[0;31m \u001b[0;32mimport\u001b[0m \u001b[0mpandas\u001b[0m \u001b[0;32mas\u001b[0m \u001b[0mpd\u001b[0m\u001b[0;34m\u001b[0m\u001b[0;34m\u001b[0m\u001b[0m\n\u001b[0m\u001b[1;32m      2\u001b[0m \u001b[0;32mfrom\u001b[0m \u001b[0mdatascience\u001b[0m \u001b[0;32mimport\u001b[0m \u001b[0;34m*\u001b[0m\u001b[0;34m\u001b[0m\u001b[0;34m\u001b[0m\u001b[0m\n\u001b[1;32m      3\u001b[0m \u001b[0;32mfrom\u001b[0m \u001b[0msympy\u001b[0m \u001b[0;32mimport\u001b[0m \u001b[0;34m*\u001b[0m\u001b[0;34m\u001b[0m\u001b[0;34m\u001b[0m\u001b[0m\n\u001b[1;32m      4\u001b[0m \u001b[0;32mimport\u001b[0m \u001b[0mmatplotlib\u001b[0m\u001b[0;34m.\u001b[0m\u001b[0mpyplot\u001b[0m \u001b[0;32mas\u001b[0m \u001b[0mplt\u001b[0m\u001b[0;34m\u001b[0m\u001b[0;34m\u001b[0m\u001b[0m\n\u001b[1;32m      5\u001b[0m \u001b[0;32mimport\u001b[0m \u001b[0mnumpy\u001b[0m \u001b[0;32mas\u001b[0m \u001b[0mnp\u001b[0m\u001b[0;34m\u001b[0m\u001b[0;34m\u001b[0m\u001b[0m\n",
      "\u001b[0;31mModuleNotFoundError\u001b[0m: No module named 'pandas'"
     ]
    }
   ],
   "source": [
    "import pandas as pd\n",
    "from datascience import *\n",
    "from sympy import *\n",
    "import matplotlib.pyplot as plt\n",
    "import numpy as np \n",
    "import seaborn as sns\n",
    "from sklearn.linear_model import LinearRegression\n",
    "%matplotlib inline\n",
    "plt.style.use(\"seaborn-muted\")"
   ]
  },
  {
   "cell_type": "markdown",
   "metadata": {},
   "source": [
    "## Acknowledgements: ##\n",
    "We would like to thank Professor Raymond Hawkins for his Economics 100B Problem Set that served as the basis for this assignment."
   ]
  },
  {
   "cell_type": "markdown",
   "metadata": {},
   "source": [
    "# Project 1: Modeling Macroeconomic Variables using the Cobb-Douglas Production Function"
   ]
  },
  {
   "cell_type": "markdown",
   "metadata": {},
   "source": [
    "The goal of this homework is to gain experience completing the following steps of data science:\n",
    "\n",
    "1. Downloading and converting raw data files into a format Python can interact with\n",
    "2. Identifying and visualizing overall trends in the data using a process called Exploratory Data Analysis (EDA)\n",
    "3. Using the data to complete a problem of prediction\n",
    "\n",
    "We hope that at the end of this, you will see how the skills that you have learned in Data 8 and this class can prepare you for dealing with real world datasets, and how you can craft questions that will help you investigate them."
   ]
  },
  {
   "cell_type": "markdown",
   "metadata": {},
   "source": [
    "## The question you will be answering today is the following: How can we apply the Cobb-Douglas Production Function to understand the different ways countries produce output or GDP?"
   ]
  },
  {
   "cell_type": "markdown",
   "metadata": {},
   "source": [
    "# Part 1: Getting the data and simplifying the problem"
   ]
  },
  {
   "cell_type": "markdown",
   "metadata": {},
   "source": [
    "In almost all cases in industry, you will have to find the dataset that can answer the question you are trying to solve. However, as we are introducing you to this process, we will be providing the link to such a dataset."
   ]
  },
  {
   "cell_type": "markdown",
   "metadata": {},
   "source": [
    "The dataset we will be using today is called \"Penn World Table\" (PWT) and was compiled by the University of Groningen. It catalogues information on relative levels of income, output, input and productivity for 182 countries between 1950 and 2017.\n",
    "\n",
    "Your task:\n",
    "1. Go to: https://www.rug.nl/ggdc/productivity/pwt/ and download the Excel datafile.\n",
    "2. Open the excel file, select the \"Data\" sheet, then File > Save As > Select a file name and **change the file format to Comma Separated Values (.csv)**.\n",
    "3. Upload this .csv file to the same folder as this Notebook. Normally it will be located in: econ-fa19 > wk6. You can access the Datahub file explorer by clicking the Jupyter logo on the top-left of the notebook.\n",
    "4. Edit the line ```file_name``` such that it matches the name of the .csv file.\n",
    "5. Run the code cell below."
   ]
  },
  {
   "cell_type": "code",
   "execution_count": null,
   "metadata": {},
   "outputs": [],
   "source": [
    "### Edit the line below ###\n",
    "file_name = ...\n",
    "\n",
    "### Do not change the line below ###\n",
    "data = Table().read_table(file_name, engine='python')\n",
    "all_countries = data.group(\"country\").column(\"country\")"
   ]
  },
  {
   "cell_type": "code",
   "execution_count": null,
   "metadata": {},
   "outputs": [],
   "source": [
    "### Checking whether the table was imported correctly ###\n",
    "assert data.num_rows == 12376\n",
    "assert data.num_cols == 52\n",
    "assert len(all_countries) == 182"
   ]
  },
  {
   "cell_type": "markdown",
   "metadata": {},
   "source": [
    "If you pass the three assert statements above, then you have correctly read in the data file. Nice! You have converted an online dataset into a datatable that you can explore and manipulate in Python! Now, this dataset is saved under the table called ```data```. Look at the first 5 lines below:"
   ]
  },
  {
   "cell_type": "code",
   "execution_count": null,
   "metadata": {
    "tags": [
     "gradable"
    ]
   },
   "outputs": [],
   "source": [
    "data.show(5)"
   ]
  },
  {
   "cell_type": "markdown",
   "metadata": {},
   "source": [
    "There are a lot of data columns in the table! We won't need most of them. As we will be using the Cobb-Douglas Production Function, think about what variables are needed in the equation, and which ones we can take from the table. This is an important part of the data science process: understanding the dataset that you are using. Most real-world datasets provide documentation listing the definitions and equations underlying each variable. \n",
    "\n",
    "PWT provides this and has identified three variables that will be helpful to us:\n",
    "1. cn $\\Rightarrow$ Capital Stock in millions of USD\n",
    "2. cgdpe $\\Rightarrow$ Expenditure-side Real GDP in millions of USD\n",
    "3. emp $\\Rightarrow$ Number of Persons employed in millions"
   ]
  },
  {
   "cell_type": "markdown",
   "metadata": {
    "tags": [
     "gradable"
    ]
   },
   "source": [
    "<div class=\"alert alert-info\">\n",
    "    \n",
    "<h3> Question 1.1. </h3>\n",
    "In the cell below do the following: <br />\n",
    "1. List the variables used in the Cobb-Douglas function <br />\n",
    "2. Identify which variables are missing from the dataset <br />\n",
    "3. Give a one sentence explanation of what each variable quantifies (i.e. K measures the amount of ...)\n",
    "</div>"
   ]
  },
  {
   "cell_type": "markdown",
   "metadata": {
    "tags": [
     "gradable"
    ]
   },
   "source": [
    "** Your answer here **"
   ]
  },
  {
   "cell_type": "markdown",
   "metadata": {
    "tags": [
     "gradable"
    ]
   },
   "source": [
    "<div class=\"alert alert-info\">\n",
    "    \n",
    "<h3> Question 1.2. </h3>\n",
    "Remove all columns except for <code>cn</code>, <code>cgdpe</code>, <code>emp</code>, <code>country</code> and <code>year</code> from <code>data</code>. Ensure that <code>country</code> and <code>year</code> are the two left-most columns. Call the new table <code>cleaned_data</code> and display its first few rows. Rename the <code>cn</code> column to <code>Capital Stock</code>, <code>cgdpe</code> to <code>Real GDP</code> and <code>emp</code> to <code>Labor Force</code>. Do not be afraid if you see a lot of <code>nan</code> values - it just means there is no data for that country-year.\n",
    "</div>"
   ]
  },
  {
   "cell_type": "code",
   "execution_count": null,
   "metadata": {
    "tags": [
     "gradable"
    ]
   },
   "outputs": [],
   "source": [
    "### Your code here ###\n",
    "cleaned_data = ...\n",
    "\n",
    "cleaned_data.show(5)"
   ]
  },
  {
   "cell_type": "markdown",
   "metadata": {},
   "source": [
    "Our goal will be to predict what these variables are for each of the countries that we will be examining. From these, we will be able to explore how output is produced in each of these countries. The question is, how can we use the Cobb-Douglas Production function to solve for the missing variables? An easy way would be to take the natural log of the equation, making it linear, providing us with ways to quantify $\\alpha$ and $A$."
   ]
  },
  {
   "cell_type": "markdown",
   "metadata": {
    "tags": [
     "gradable"
    ]
   },
   "source": [
    "<div class=\"alert alert-info\">\n",
    "\n",
    "<h3>Question 1.3.</h3>\n",
    "In the cell below, using LaTeX, take the natural log of the Cobb-Douglas Production Function and rewrite it as a function of one variable. Show all of your work. Full credit will not be given if you just display the final simplified equation. Hint: $\\ln (Y) - \\ln (L) = \\text{...}$.\n",
    "</div>"
   ]
  },
  {
   "cell_type": "markdown",
   "metadata": {
    "tags": [
     "gradable"
    ]
   },
   "source": [
    "** Your LaTeX here **"
   ]
  },
  {
   "cell_type": "markdown",
   "metadata": {},
   "source": [
    "# Part 2: Exploring the Data"
   ]
  },
  {
   "cell_type": "markdown",
   "metadata": {},
   "source": [
    "Now we are going to visualize trends in each of the variables for different countries."
   ]
  },
  {
   "cell_type": "markdown",
   "metadata": {
    "tags": [
     "gradable"
    ]
   },
   "source": [
    "<div class=\"alert alert-info\">\n",
    "    \n",
    "<h3>Question 2.1.</h3> \n",
    "Create a table of GDP, Capital Stock and Labor for the USA from 1990 to 2017. Do the same for China and two other countries of your choice. Use the middle cell to check if your country of choice exists in the dataset. Make sure to use the country name exactly as it appears in the data table. Place all of this data in one table called <code>comparison_data</code>. Display the first few rows of the table. Additionally, set the <code>country_array</code> variable to an array of the countries you selected. Hint: Look at the <a href=\"https://d8a-88.github.io/econ-fa19/python-reference.html\"> Python Reference</a> for a table function you can use.\n",
    "</div>"
   ]
  },
  {
   "cell_type": "code",
   "execution_count": null,
   "metadata": {},
   "outputs": [],
   "source": [
    "### Run this cell to see a table of all the countries in the dataset.###\n",
    "### Select two countries and proceed to the lower code cell. ###\n",
    "Table().with_columns(\"Country\", all_countries).show(183)"
   ]
  },
  {
   "cell_type": "code",
   "execution_count": null,
   "metadata": {
    "tags": [
     "gradable"
    ]
   },
   "outputs": [],
   "source": [
    "### Your code here ###\n",
    "country_array = make_array(\"United States\", \"China\", ...)\n",
    "comparison_data = ..."
   ]
  },
  {
   "cell_type": "markdown",
   "metadata": {
    "tags": [
     "gradable"
    ]
   },
   "source": [
    "<div class=\"alert alert-info\">\n",
    "    \n",
    "<h3>Question 2.2.</h3>\n",
    "To help us in later questions, fill in the blanks in the <code>country_table_plotter</code> function below. Its inputs will be a table of the form <code>comparison_data</code> and the names of the two columns plotted, <code>columnX</code> and <code>columnY</code>. The <code>country_table_plotter</code> function will plot <code>columnX</code> versus <code>columnY</code> for all the countries contained in <code>data_table</code>. Hint: Look at the <a href=\"https://matplotlib.org/3.1.1/api/_as_gen/matplotlib.pyplot.plot.html\"> Matplotlib Plotting Reference</a> for ideas of what to place in the blanks.\n",
    "</div>"
   ]
  },
  {
   "cell_type": "code",
   "execution_count": null,
   "metadata": {
    "tags": [
     "gradable"
    ]
   },
   "outputs": [],
   "source": [
    "def country_table_plotter(data_table, countries, columnX, columnY):\n",
    "    \n",
    "    ### Your code here ###\n",
    "    for country in ...:\n",
    "        plt.plot(..., ..., label = country, linewidth = 1)\n",
    "    \n",
    "    ### Do not change the code below ###\n",
    "    plt.legend()\n",
    "    plt.xlabel(columnX)\n",
    "    plt.ylabel(f\"{columnY} (Logarithmic Scale)\")\n",
    "    plt.yscale(\"log\")"
   ]
  },
  {
   "cell_type": "markdown",
   "metadata": {
    "tags": [
     "gradable"
    ]
   },
   "source": [
    "<div class=\"alert alert-info\">\n",
    "    \n",
    "<h3>Question 2.3.</h3>\n",
    "Produce a plot of time and capital stock for the countries in your table. In the markdown cell below, identify differences between the countries and discuss what surprised you. This should only be a single-line function call.\n",
    "</div>"
   ]
  },
  {
   "cell_type": "code",
   "execution_count": null,
   "metadata": {
    "tags": [
     "gradable"
    ]
   },
   "outputs": [],
   "source": [
    "### Your code here ###\n",
    "..."
   ]
  },
  {
   "cell_type": "markdown",
   "metadata": {
    "tags": [
     "gradable"
    ]
   },
   "source": [
    "- United States:\n",
    "\n",
    "- China:\n",
    "\n",
    "- Your Country:\n",
    "\n",
    "- Your Country:"
   ]
  },
  {
   "cell_type": "markdown",
   "metadata": {
    "tags": [
     "gradable"
    ]
   },
   "source": [
    "<div class=\"alert alert-info\">\n",
    "    \n",
    "<h3>Question 2.4.</h3>\n",
    "Produce a similar plot, but this time of time and labor for the countries in your table. In the markdown cell below, identify differences between the countries and discuss what surprised you. This should also be a single-line function call.\n",
    "</div>"
   ]
  },
  {
   "cell_type": "code",
   "execution_count": null,
   "metadata": {
    "tags": [
     "gradable"
    ]
   },
   "outputs": [],
   "source": [
    "### Your code here ###\n",
    "..."
   ]
  },
  {
   "cell_type": "markdown",
   "metadata": {
    "tags": [
     "gradable"
    ]
   },
   "source": [
    "- United States:\n",
    "\n",
    "- China:\n",
    "\n",
    "- Your Country:\n",
    "\n",
    "- Your Country:"
   ]
  },
  {
   "cell_type": "markdown",
   "metadata": {
    "tags": [
     "gradable"
    ]
   },
   "source": [
    "<div class=\"alert alert-info\">\n",
    "    \n",
    "<h3>Question 2.5.</h3>\n",
    "Create a plot of time and GDP for the countries in your table. In the markdown cell below, using your knowledge of the Cobb-Douglas Production Function, identify differences between the countries and discuss these in relation to your findings about each of the country's levels of capital stock and labor. Also note about how these have changed over time, if at all. This should also be a single-line function call.\n",
    "</div>"
   ]
  },
  {
   "cell_type": "code",
   "execution_count": null,
   "metadata": {
    "tags": [
     "gradable"
    ]
   },
   "outputs": [],
   "source": [
    "### Your code here ###\n",
    "..."
   ]
  },
  {
   "cell_type": "markdown",
   "metadata": {
    "tags": [
     "gradable"
    ]
   },
   "source": [
    "- United States:\n",
    "\n",
    "- China:\n",
    "\n",
    "- Your Country:\n",
    "\n",
    "- Your Country:"
   ]
  },
  {
   "cell_type": "markdown",
   "metadata": {},
   "source": [
    "# Part 3: Prediction and Comparison"
   ]
  },
  {
   "cell_type": "markdown",
   "metadata": {},
   "source": [
    "We are now going to provide numerical backing to your discussions above by predicting values for $\\alpha$ and $A$ for each of the 4 countries that we are examining. To do this, we will revisit the equation that you derived in part 1. "
   ]
  },
  {
   "cell_type": "markdown",
   "metadata": {
    "tags": [
     "gradable"
    ]
   },
   "source": [
    "<div class=\"alert alert-info\">\n",
    "    \n",
    "<h3>Question 3.1.</h3>\n",
    "A key step in the original paper by Cobb and Douglas was that they converted the data into an index. This is important because the data is measured in different units. Do this for each country and each of the variables. Let the 2011 value for each country be the base year, i.e. 100. Place this in a new table called <code>indexed_data</code> together with <code>country</code> and <code>year</code> columns. Display the first few rows. Hint: The formula for calculating an index is as follows:\n",
    "$$\n",
    "\\dfrac{Q_{\\text{current year}}}{Q_{\\text{base year}}} \\, \\text{for some variable } Q\n",
    "$$\n",
    "</div>"
   ]
  },
  {
   "cell_type": "code",
   "execution_count": null,
   "metadata": {
    "tags": [
     "gradable"
    ]
   },
   "outputs": [],
   "source": [
    "base_values = comparison_data.where(\"year\", 2011)\n",
    "indexed_Ks = make_array()\n",
    "indexed_Ls = make_array()\n",
    "indexed_Ys = make_array()\n",
    "\n",
    "### Your code here ###\n",
    "\n",
    "for country in ...:\n",
    "    country_base_values = base_values.where(..., ...)\n",
    "    current_Ks = comparison_data.where(..., ...).column(...) / ...\n",
    "    current_Ls = comparison_data.where(..., ...).column(...) / ...\n",
    "    current_Ys = comparison_data.where(..., ...).column(...) / ...\n",
    "    \n",
    "    indexed_Ks = np.append(..., ...)\n",
    "    indexed_Ls = np.append(..., ...)\n",
    "    indexed_Ys = np.append(..., ...)\n",
    "    \n",
    "indexed_data = Table().with_columns(\"country\", ...\n",
    "                                   \"year\", ...\n",
    "                                   \"Indexed K\", ...\n",
    "                                   \"Indexed L\", ...\n",
    "                                   \"Indexed Y\", ...\n",
    "                                   )\n",
    "\n",
    "indexed_data.show(5)"
   ]
  },
  {
   "cell_type": "markdown",
   "metadata": {
    "tags": [
     "gradable"
    ]
   },
   "source": [
    "<div class=\"alert alert-info\">\n",
    "    \n",
    "<h3>Question 3.2(a).</h3>\n",
    "Using the equation you derived in part 1 and the <code>indexed_data</code> table, calculate the two log ratios that you need to perform linear regression. Place them in the table <code>log_ratios</code> in the code cell below and display the first few rows. Name the columns appropriately.\n",
    "</div>"
   ]
  },
  {
   "cell_type": "code",
   "execution_count": null,
   "metadata": {
    "tags": [
     "gradable"
    ]
   },
   "outputs": [],
   "source": [
    "### Your code here ###\n",
    "log_ratios = ...\n",
    "\n",
    "log_ratios.show(5)"
   ]
  },
  {
   "cell_type": "markdown",
   "metadata": {
    "tags": [
     "gradable"
    ]
   },
   "source": [
    "<div class=\"alert alert-info\">\n",
    "    \n",
    "<h3>Question 3.2(b).</h3>\n",
    "Using the <code>country_table_scatter</code> function, plot the log ratios for each country from the <code>log_ratios</code> table below.\n",
    "</div>"
   ]
  },
  {
   "cell_type": "code",
   "execution_count": null,
   "metadata": {},
   "outputs": [],
   "source": [
    "### Do not change the code below ###\n",
    "def country_table_scatter(data_table, columnX, columnY):\n",
    "    # First getting a list of all the countries in data_table\n",
    "    country_list = data_table.group(\"country\").column(\"country\")\n",
    "    \n",
    "    # For each country, creating a plot of columnX vs. columnY\n",
    "    for country in country_list:\n",
    "        curr_data_table = data_table.where(\"country\", country)\n",
    "        curr_data_table.scatter(columnX, columnY)\n",
    "        plt.title(country)"
   ]
  },
  {
   "cell_type": "code",
   "execution_count": null,
   "metadata": {
    "tags": [
     "gradable"
    ]
   },
   "outputs": [],
   "source": [
    "### Your code here ###\n",
    "..."
   ]
  },
  {
   "cell_type": "markdown",
   "metadata": {},
   "source": [
    "Now, onto the actual linear regression part of this project.\n",
    "\n",
    "We will be using Scikit-Learn's linear regression function to get the $\\alpha$ and $A$ values for each country. Here is the link to the documentation of the <a href = \"https://scikit-learn.org/stable/modules/generated/sklearn.linear_model.LinearRegression.html\"> function</a>: \n",
    "\n",
    "Let us break down how this function works by taking a look at the examples section of the documentation.\n",
    "``` \n",
    "import numpy as np\n",
    "from sklearn.linear_model import LinearRegression\n",
    "X = np.array([[1, 1], [1, 2], [2, 2], [2, 3]])\n",
    "# y = 1 * x_0 + 2 * x_1 + 3\n",
    "y = np.dot(X, np.array([1, 2])) + 3\n",
    "reg = LinearRegression().fit(X, y)\n",
    "```\n",
    "The ```LinearRegression()``` function creates a LinearRegression object that has many different functions that we will be using, mainly ```.fit()``` and attributes like ```.coef_``` and ```.intercept_```. The ```.fit(X, y)``` function fits a line using the ```X``` and ```y``` arrays passed into it.\n",
    "\n",
    "```\n",
    "reg.coef_\n",
    "array([1., 2.])\n",
    "reg.intercept_ \n",
    "3.0000...\n",
    "reg.predict(np.array([[3, 5]]))\n",
    "array([16.])\n",
    "```\n",
    "\n",
    "After we have fit a line to the data, we can then get the corresponding attributes that we need: the slope coefficient and intercept. The example above is in 3 dimensions, x_0, x_1 and y. Thus, there are two slope coefficients for x_0 and x_1. Our data is in 2 dimensions so we will only get one slope coefficient and intercept per country. Think about the relationship between $\\alpha$ and $A$ with regards to the slope and intercept from a linear regression fit?"
   ]
  },
  {
   "cell_type": "markdown",
   "metadata": {
    "tags": [
     "gradable"
    ]
   },
   "source": [
    "<div class=\"alert alert-info\">\n",
    "\n",
    "<h3>Question 3.3a.</h3>\n",
    "Using Sklearn's Linear Regression function, fit the data taken from each country. Think about what should be passed into the <code>fit()</code> function. If you are confused about this, take a look at the sklearn <a href =\"https://scikit-learn.org/stable/modules/generated/sklearn.linear_model.LinearRegression.html#sklearn.linear_model.LinearRegression.fit\"> documentation</a>:           \n",
    "\n",
    "</div>"
   ]
  },
  {
   "cell_type": "code",
   "execution_count": null,
   "metadata": {
    "tags": [
     "gradable"
    ]
   },
   "outputs": [],
   "source": [
    "### Create arrays of the data we will need from each country. ###\n",
    "### Think about which variable should be on each axis. ###\n",
    "\n",
    "china_x = ...\n",
    "china_y = ...\n",
    "us_x = ...\n",
    "us_y = ...\n",
    "country1_x = ...\n",
    "country1_y = ...\n",
    "country2_x = ...\n",
    "country2_y = ...\n",
    "\n",
    "\n",
    "### Do not change the code below ###\n",
    "\n",
    "model_china = LinearRegression().fit(china_x.reshape(-1, 1), china_y.reshape(-1, 1))\n",
    "model_us = LinearRegression().fit(us_x.reshape(-1, 1), us_y.reshape(-1, 1))\n",
    "model_country1 = LinearRegression().fit(country1_x.reshape(-1, 1), country1_y.reshape(-1, 1))\n",
    "model_country2 = LinearRegression().fit(country2_x.reshape(-1, 1), country2_y.reshape(-1, 1))"
   ]
  },
  {
   "cell_type": "markdown",
   "metadata": {
    "tags": [
     "gradable"
    ]
   },
   "source": [
    "<div class=\"alert alert-info\">\n",
    "    \n",
    "<h3>Question 3.3b.</h3>\n",
    "Now that we have fit the data of each country, we can then retrieve the slope and intercept of each fit. Using the equation you derived in question 1.3., fill in the blanks in the print statements below such that they display the $\\alpha$ and $A$ values for each country. Note that you will need to transform at least one of the variables.\n",
    "</div>"
   ]
  },
  {
   "cell_type": "code",
   "execution_count": null,
   "metadata": {
    "tags": [
     "gradable"
    ]
   },
   "outputs": [],
   "source": [
    "print(f\"China alpha value: {...}\")\n",
    "print(f\"United States alpha value: {...}\")\n",
    "print(f\"... alpha value: {...}\")\n",
    "print(f\"... alpha value: {...}\")"
   ]
  },
  {
   "cell_type": "code",
   "execution_count": null,
   "metadata": {
    "tags": [
     "gradable"
    ]
   },
   "outputs": [],
   "source": [
    "print(f\"China A value: {...}\")\n",
    "print(f\"United States A value: {...}\")\n",
    "print(f\"... A value: {...}\")\n",
    "print(f\"... A value: {...}\")"
   ]
  },
  {
   "cell_type": "markdown",
   "metadata": {
    "tags": [
     "gradable"
    ]
   },
   "source": [
    "<div class=\"alert alert-info\">\n",
    "    \n",
    "<h3>Question 3.4.</h3>\n",
    "With reference to the $\\alpha$ and $A$ values for each of the countries you have examined, what do they indicate about that country's ability to produce output as measured through GDP? How does the allocation of scare resources as inputs to production differ between them? How about the role of technology or research and development?\n",
    "</div>"
   ]
  },
  {
   "cell_type": "markdown",
   "metadata": {
    "tags": [
     "gradable"
    ]
   },
   "source": [
    "** Your answer here **"
   ]
  },
  {
   "cell_type": "markdown",
   "metadata": {},
   "source": [
    "# Congratulations! You've completed the project!"
   ]
  },
  {
   "cell_type": "markdown",
   "metadata": {},
   "source": [
    "# Submission"
   ]
  },
  {
   "cell_type": "markdown",
   "metadata": {},
   "source": [
    "To submit this assignment, run the cell below and upload the PDF to Gradescope."
   ]
  },
  {
   "cell_type": "code",
   "execution_count": null,
   "metadata": {},
   "outputs": [],
   "source": [
    "#Run this cell\n",
    "import gradable_nbexport\n",
    "gradable_nbexport.download_gradable_pdf(\"hw01.ipynb\")"
   ]
  }
 ],
 "metadata": {
  "kernelspec": {
   "display_name": "Python 3",
   "language": "python",
   "name": "python3"
  },
  "language_info": {
   "codemirror_mode": {
    "name": "ipython",
    "version": 3
   },
   "file_extension": ".py",
   "mimetype": "text/x-python",
   "name": "python",
   "nbconvert_exporter": "python",
   "pygments_lexer": "ipython3",
   "version": "3.7.4"
  }
 },
 "nbformat": 4,
 "nbformat_minor": 2
}
