{
 "cells": [
  {
   "cell_type": "markdown",
   "metadata": {},
   "source": [
    "<table style=\"width: 100%;\" id=\"nb-header\">\n",
    "    <tr style=\"background-color: transparent;\"><td>\n",
    "        <img src=\"https://d8a-88.github.io/econ-fa19/assets/images/blue_text.png\" width=\"250px\" style=\"margin-left: 0;\" />\n",
    "    </td><td>\n",
    "        <p style=\"text-align: right; font-size: 12pt;\"><strong>Economic Models</strong>, Fall 2019<br>\n",
    "            Dr. Eric Van Dusen</p></td></tr>\n",
    "</table>"
   ]
  },
  {
   "cell_type": "markdown",
   "metadata": {},
   "source": [
    "# Project 1: Modeling Macroeconomic Variables using the Cobb-Douglas Production Function"
   ]
  },
  {
   "cell_type": "markdown",
   "metadata": {},
   "source": [
    "## Acknowledgements: ##\n",
    "We would like to thank Professor Raymond Hawkins for his Economics 100B Problem Set that served as the basis for this assignment."
   ]
  },
  {
   "cell_type": "markdown",
   "metadata": {},
   "source": [
    "## Due Dates and Important Information:\n",
    "\n",
    "- This project is in three parts.\n",
    "- The whole project (all three parts) will be due 2 Mondays from now, on March 16, 2020 at 11:59pm on Gradescope.\n",
    "- **Do not change any of the given variable or function names as this would cause autograder problems. Make sure to name your columns and tables exactly as the questions ask you to.**"
   ]
  },
  {
   "cell_type": "markdown",
   "metadata": {},
   "source": [
    "---"
   ]
  },
  {
   "cell_type": "markdown",
   "metadata": {},
   "source": [
    "The goal of this homework is to gain experience completing the following key steps in the data science pipeline:\n",
    "\n",
    "1. Cleaning and filtering data collected from online sources\n",
    "2. Identifying and visualizing overall trends in the data using a process called Exploratory Data Analysis (EDA)\n",
    "3. Using the data to complete a problem of prediction\n",
    "\n",
    "We hope that at the end of this project, you will see how the skills you have learned in Data 8 and this class can prepare you for dealing with real world datasets, and how you can use them to answer questions about the economy or the world."
   ]
  },
  {
   "cell_type": "markdown",
   "metadata": {},
   "source": [
    "## The question you will be answering today is the following: How can we apply the Cobb-Douglas Production Function to understand the different ways countries produce output or GDP?"
   ]
  },
  {
   "cell_type": "markdown",
   "metadata": {},
   "source": [
    "# Part 1: Simplifying the problem"
   ]
  },
  {
   "cell_type": "code",
   "execution_count": 1,
   "metadata": {},
   "outputs": [],
   "source": [
    "from utils import *\n",
    "import pandas as pd\n",
    "from datascience import *\n",
    "from sympy import *\n",
    "import matplotlib.pyplot as plt\n",
    "import numpy as np \n",
    "import seaborn as sns\n",
    "from sklearn.linear_model import LinearRegression\n",
    "import otter\n",
    "grader = otter.Notebook()\n",
    "%matplotlib inline\n",
    "plt.style.use(\"seaborn-notebook\")"
   ]
  },
  {
   "cell_type": "code",
   "execution_count": 2,
   "metadata": {},
   "outputs": [],
   "source": [
    "### Edit the line below ###\n",
    "file_name = \"pwt91.csv\"\n",
    "\n",
    "### Do not change the line below ###\n",
    "data = to_table(file_name)"
   ]
  },
  {
   "cell_type": "markdown",
   "metadata": {},
   "source": [
    "Now, this dataset is saved under the table called ```data```. Look at the first 5 lines below:"
   ]
  },
  {
   "cell_type": "code",
   "execution_count": 4,
   "metadata": {
    "tags": [
     "gradable"
    ]
   },
   "outputs": [
    {
     "data": {
      "text/html": [
       "<table border=\"1\" class=\"dataframe\">\n",
       "    <thead>\n",
       "        <tr>\n",
       "            <th>countrycode</th> <th>country</th> <th>currency_unit</th> <th>year</th> <th>rgdpe</th> <th>rgdpo</th> <th>pop</th> <th>emp</th> <th>avh</th> <th>hc</th> <th>ccon</th> <th>cda</th> <th>cgdpe</th> <th>cgdpo</th> <th>cn</th> <th>ck</th> <th>ctfp</th> <th>cwtfp</th> <th>rgdpna</th> <th>rconna</th> <th>rdana</th> <th>rnna</th> <th>rkna</th> <th>rtfpna</th> <th>rwtfpna</th> <th>labsh</th> <th>irr</th> <th>delta</th> <th>xr</th> <th>pl_con</th> <th>pl_da</th> <th>pl_gdpo</th> <th>i_cig</th> <th>i_xm</th> <th>i_xr</th> <th>i_outlier</th> <th>i_irr</th> <th>cor_exp</th> <th>statcap</th> <th>csh_c</th> <th>csh_i</th> <th>csh_g</th> <th>csh_x</th> <th>csh_m</th> <th>csh_r</th> <th>pl_c</th> <th>pl_i</th> <th>pl_g</th> <th>pl_x</th> <th>pl_m</th> <th>pl_n</th> <th>pl_k</th>\n",
       "        </tr>\n",
       "    </thead>\n",
       "    <tbody>\n",
       "        <tr>\n",
       "            <td>ABW        </td> <td>Aruba  </td> <td>Aruban Guilder</td> <td>1950</td> <td>-1   </td> <td>-1   </td> <td>-1  </td> <td>-1  </td> <td>-1  </td> <td>-1  </td> <td>-1  </td> <td>-1  </td> <td>-1   </td> <td>-1   </td> <td>-1  </td> <td>-1  </td> <td>-1  </td> <td>-1   </td> <td>-1    </td> <td>-1    </td> <td>-1   </td> <td>-1  </td> <td>-1  </td> <td>-1    </td> <td>-1     </td> <td>-1   </td> <td>-1  </td> <td>-1   </td> <td>-1  </td> <td>-1    </td> <td>-1   </td> <td>-1     </td> <td>-1   </td> <td>-1  </td> <td>-1  </td> <td>-1       </td> <td>-1   </td> <td>-1     </td> <td>-1     </td> <td>-1   </td> <td>-1   </td> <td>-1   </td> <td>-1   </td> <td>-1   </td> <td>-1   </td> <td>-1  </td> <td>-1  </td> <td>-1  </td> <td>-1  </td> <td>-1  </td> <td>-1  </td> <td>-1  </td>\n",
       "        </tr>\n",
       "        <tr>\n",
       "            <td>ABW        </td> <td>Aruba  </td> <td>Aruban Guilder</td> <td>1951</td> <td>-1   </td> <td>-1   </td> <td>-1  </td> <td>-1  </td> <td>-1  </td> <td>-1  </td> <td>-1  </td> <td>-1  </td> <td>-1   </td> <td>-1   </td> <td>-1  </td> <td>-1  </td> <td>-1  </td> <td>-1   </td> <td>-1    </td> <td>-1    </td> <td>-1   </td> <td>-1  </td> <td>-1  </td> <td>-1    </td> <td>-1     </td> <td>-1   </td> <td>-1  </td> <td>-1   </td> <td>-1  </td> <td>-1    </td> <td>-1   </td> <td>-1     </td> <td>-1   </td> <td>-1  </td> <td>-1  </td> <td>-1       </td> <td>-1   </td> <td>-1     </td> <td>-1     </td> <td>-1   </td> <td>-1   </td> <td>-1   </td> <td>-1   </td> <td>-1   </td> <td>-1   </td> <td>-1  </td> <td>-1  </td> <td>-1  </td> <td>-1  </td> <td>-1  </td> <td>-1  </td> <td>-1  </td>\n",
       "        </tr>\n",
       "        <tr>\n",
       "            <td>ABW        </td> <td>Aruba  </td> <td>Aruban Guilder</td> <td>1952</td> <td>-1   </td> <td>-1   </td> <td>-1  </td> <td>-1  </td> <td>-1  </td> <td>-1  </td> <td>-1  </td> <td>-1  </td> <td>-1   </td> <td>-1   </td> <td>-1  </td> <td>-1  </td> <td>-1  </td> <td>-1   </td> <td>-1    </td> <td>-1    </td> <td>-1   </td> <td>-1  </td> <td>-1  </td> <td>-1    </td> <td>-1     </td> <td>-1   </td> <td>-1  </td> <td>-1   </td> <td>-1  </td> <td>-1    </td> <td>-1   </td> <td>-1     </td> <td>-1   </td> <td>-1  </td> <td>-1  </td> <td>-1       </td> <td>-1   </td> <td>-1     </td> <td>-1     </td> <td>-1   </td> <td>-1   </td> <td>-1   </td> <td>-1   </td> <td>-1   </td> <td>-1   </td> <td>-1  </td> <td>-1  </td> <td>-1  </td> <td>-1  </td> <td>-1  </td> <td>-1  </td> <td>-1  </td>\n",
       "        </tr>\n",
       "        <tr>\n",
       "            <td>ABW        </td> <td>Aruba  </td> <td>Aruban Guilder</td> <td>1953</td> <td>-1   </td> <td>-1   </td> <td>-1  </td> <td>-1  </td> <td>-1  </td> <td>-1  </td> <td>-1  </td> <td>-1  </td> <td>-1   </td> <td>-1   </td> <td>-1  </td> <td>-1  </td> <td>-1  </td> <td>-1   </td> <td>-1    </td> <td>-1    </td> <td>-1   </td> <td>-1  </td> <td>-1  </td> <td>-1    </td> <td>-1     </td> <td>-1   </td> <td>-1  </td> <td>-1   </td> <td>-1  </td> <td>-1    </td> <td>-1   </td> <td>-1     </td> <td>-1   </td> <td>-1  </td> <td>-1  </td> <td>-1       </td> <td>-1   </td> <td>-1     </td> <td>-1     </td> <td>-1   </td> <td>-1   </td> <td>-1   </td> <td>-1   </td> <td>-1   </td> <td>-1   </td> <td>-1  </td> <td>-1  </td> <td>-1  </td> <td>-1  </td> <td>-1  </td> <td>-1  </td> <td>-1  </td>\n",
       "        </tr>\n",
       "        <tr>\n",
       "            <td>ABW        </td> <td>Aruba  </td> <td>Aruban Guilder</td> <td>1954</td> <td>-1   </td> <td>-1   </td> <td>-1  </td> <td>-1  </td> <td>-1  </td> <td>-1  </td> <td>-1  </td> <td>-1  </td> <td>-1   </td> <td>-1   </td> <td>-1  </td> <td>-1  </td> <td>-1  </td> <td>-1   </td> <td>-1    </td> <td>-1    </td> <td>-1   </td> <td>-1  </td> <td>-1  </td> <td>-1    </td> <td>-1     </td> <td>-1   </td> <td>-1  </td> <td>-1   </td> <td>-1  </td> <td>-1    </td> <td>-1   </td> <td>-1     </td> <td>-1   </td> <td>-1  </td> <td>-1  </td> <td>-1       </td> <td>-1   </td> <td>-1     </td> <td>-1     </td> <td>-1   </td> <td>-1   </td> <td>-1   </td> <td>-1   </td> <td>-1   </td> <td>-1   </td> <td>-1  </td> <td>-1  </td> <td>-1  </td> <td>-1  </td> <td>-1  </td> <td>-1  </td> <td>-1  </td>\n",
       "        </tr>\n",
       "    </tbody>\n",
       "</table>\n",
       "<p>... (12371 rows omitted)</p>"
      ],
      "text/plain": [
       "<IPython.core.display.HTML object>"
      ]
     },
     "metadata": {},
     "output_type": "display_data"
    }
   ],
   "source": [
    "data.show(5)"
   ]
  },
  {
   "cell_type": "markdown",
   "metadata": {},
   "source": [
    "Notice that there are a lot of ```-1``` values. These are representative of data being unavailable for that variable, for a given country-year.\n",
    "\n",
    "To get an idea of the dataset's geographic scope, let us find out what countries are included, and if they are spelt in interesting ways. This will be helpful for us later on in our analysis."
   ]
  },
  {
   "cell_type": "markdown",
   "metadata": {},
   "source": [
    "<div class=\"alert alert-info\">\n",
    "    \n",
    "<h3> Question 1.1. </h3>\n",
    "Create a two-column table called <code>all_countries</code>. Its first column will be called <code>Country</code> and the second <code>Earliest Year</code>. It should contain all of the countries that appear in the <code>data</code> table sorted in alphabetical order with the earliest year they appear in the dataset where the <code>cgdpe</code> column is not <code>-1</code>. Assign that table to the variable <code>all_countries</code> and display its first 10 rows.\n",
    "</div>"
   ]
  },
  {
   "cell_type": "code",
   "execution_count": 5,
   "metadata": {},
   "outputs": [
    {
     "data": {
      "text/html": [
       "<table border=\"1\" class=\"dataframe\">\n",
       "    <thead>\n",
       "        <tr>\n",
       "            <th>Country</th> <th>Earliest Year</th>\n",
       "        </tr>\n",
       "    </thead>\n",
       "    <tbody>\n",
       "        <tr>\n",
       "            <td>Albania            </td> <td>1970         </td>\n",
       "        </tr>\n",
       "        <tr>\n",
       "            <td>Algeria            </td> <td>1960         </td>\n",
       "        </tr>\n",
       "        <tr>\n",
       "            <td>Angola             </td> <td>1970         </td>\n",
       "        </tr>\n",
       "        <tr>\n",
       "            <td>Anguilla           </td> <td>1970         </td>\n",
       "        </tr>\n",
       "        <tr>\n",
       "            <td>Antigua and Barbuda</td> <td>1970         </td>\n",
       "        </tr>\n",
       "        <tr>\n",
       "            <td>Argentina          </td> <td>1950         </td>\n",
       "        </tr>\n",
       "        <tr>\n",
       "            <td>Armenia            </td> <td>1990         </td>\n",
       "        </tr>\n",
       "        <tr>\n",
       "            <td>Aruba              </td> <td>1970         </td>\n",
       "        </tr>\n",
       "        <tr>\n",
       "            <td>Australia          </td> <td>1950         </td>\n",
       "        </tr>\n",
       "        <tr>\n",
       "            <td>Austria            </td> <td>1950         </td>\n",
       "        </tr>\n",
       "    </tbody>\n",
       "</table>\n",
       "<p>... (172 rows omitted)</p>"
      ],
      "text/plain": [
       "<IPython.core.display.HTML object>"
      ]
     },
     "metadata": {},
     "output_type": "display_data"
    }
   ],
   "source": [
    "all_countries = ...\n",
    "\n",
    "### Solution ###\n",
    "all_countries = data.where(\"cgdpe\", are.above(-1)).group(\"country\", min).select(\"country\", \"year min\").relabel(\"country\", \"Country\").relabel(\"year min\", \"Earliest Year\")\n",
    "all_countries.show(10)"
   ]
  },
  {
   "cell_type": "code",
   "execution_count": 6,
   "metadata": {},
   "outputs": [
    {
     "data": {
      "text/html": [
       "\n",
       "    \n",
       "    \n",
       "        <p>All tests passed! Full grade.</p>\n",
       "    \n",
       "    "
      ],
      "text/plain": [
       "<gofer.ok.OKTestsResult at 0x1a1d43e9b0>"
      ]
     },
     "execution_count": 6,
     "metadata": {},
     "output_type": "execute_result"
    }
   ],
   "source": [
    "grader.check(\"q1_1\")"
   ]
  },
  {
   "cell_type": "markdown",
   "metadata": {},
   "source": [
    "Take a look at ```data``` again. Notice that it has a lot of columns. We won't need most of them. As we will be using the Cobb-Douglas Production Function, think about what variables are needed in the equation, and which ones are already present in the table. This is an important part of the data science process: understanding the dataset that you are using. Most real-world datasets provide documentation listing the definitions and equations behind each variable. \n",
    "\n",
    "PWT provides this and has identified three variables that will be helpful to us:\n",
    "1. cn $\\Rightarrow$ Capital Stock in millions of USD\n",
    "2. cgdpe $\\Rightarrow$ Expenditure-side Real GDP in millions of USD\n",
    "3. emp $\\Rightarrow$ Number of Persons employed in millions\n",
    "\n",
    "**An important note: for the sake of simplicity, we will be assuming that nations exhibit constant returns to scale.**"
   ]
  },
  {
   "cell_type": "markdown",
   "metadata": {
    "tags": [
     "gradable"
    ]
   },
   "source": [
    "<div class=\"alert alert-info\">\n",
    "    \n",
    "<h3> Question 1.2(a). </h3>\n",
    "In the text cell below do the following: <br />\n",
    "1. Rewrite the original Cobb-Douglas function in LaTeX, under the assumption that are no constant returns to scale. On a separate line, write the restriction implied by constant returns to scale. <br />\n",
    "2. Give a brief explanation of what each variable in the Cobb-Douglas function quantifies (i.e. K measures the amount of ...)\n",
    "</div>"
   ]
  },
  {
   "cell_type": "markdown",
   "metadata": {
    "tags": [
     "gradable"
    ]
   },
   "source": [
    "** Your answer here **\n",
    "\n",
    "Solution:\n",
    "\n",
    "\n",
    "1)\n",
    "$$\n",
    "Y = A K^\\alpha L^\\beta \\\\\n",
    "\\alpha + \\beta = 1\n",
    "$$\n",
    "\n",
    "2)\n",
    "- Y measures the dollar value of goods and services produced in a country\n",
    "- A measures total factor productivity: how effectively a country uses its inputs in producing output\n",
    "- K measures the amount of capital in a country\n",
    "- L measures the amount of labor in a country\n",
    "- $\\alpha$ measures how much emphasis is placed on capital and 1 - $\\alpha$ or $\\beta$ is for labor"
   ]
  },
  {
   "cell_type": "markdown",
   "metadata": {},
   "source": [
    "<div class=\"alert alert-info\">\n",
    "    \n",
    "<h3> Question 1.2(b). </h3>\n",
    "Assign the variable <code>missing_variables</code> to an array containing the Cobb-Douglas function variables that are missing from the dataset.\n",
    "</div>"
   ]
  },
  {
   "cell_type": "code",
   "execution_count": 7,
   "metadata": {},
   "outputs": [],
   "source": [
    "### Your code here ###\n",
    "\n",
    "missing_variables = ...\n",
    "\n",
    "### Solution ###\n",
    "missing_variables = make_array(\"A\", \"alpha\")"
   ]
  },
  {
   "cell_type": "code",
   "execution_count": 8,
   "metadata": {},
   "outputs": [
    {
     "data": {
      "text/html": [
       "\n",
       "    \n",
       "    \n",
       "        <p>All tests passed! Full grade.</p>\n",
       "    \n",
       "    "
      ],
      "text/plain": [
       "<gofer.ok.OKTestsResult at 0x1a1ec2d978>"
      ]
     },
     "execution_count": 8,
     "metadata": {},
     "output_type": "execute_result"
    }
   ],
   "source": [
    "grader.check(\"q1_2b\")"
   ]
  },
  {
   "cell_type": "markdown",
   "metadata": {
    "tags": [
     "gradable"
    ]
   },
   "source": [
    "<div class=\"alert alert-info\">\n",
    "    \n",
    "<h3> Question 1.3. </h3>\n",
    "Remove all columns from <code>data</code> except for <code>cn</code>, <code>cgdpe</code>, <code>emp</code>, <code>country</code> and <code>year</code>. Ensure that <code>country</code> and <code>year</code> are the two left-most columns respectively. Call the new table <code>cleaned_data</code> and display its first five rows. Rename the <code>cn</code> column to <code>Capital Stock</code>, <code>cgdpe</code> to <code>Real GDP</code> and <code>emp</code> to <code>Labor Force</code>.\n",
    "</div>"
   ]
  },
  {
   "cell_type": "code",
   "execution_count": 9,
   "metadata": {
    "tags": [
     "gradable"
    ]
   },
   "outputs": [
    {
     "data": {
      "text/html": [
       "<table border=\"1\" class=\"dataframe\">\n",
       "    <thead>\n",
       "        <tr>\n",
       "            <th>country</th> <th>year</th> <th>Capital Stock</th> <th>Real GDP</th> <th>Labor Force</th>\n",
       "        </tr>\n",
       "    </thead>\n",
       "    <tbody>\n",
       "        <tr>\n",
       "            <td>Aruba  </td> <td>1950</td> <td>-1           </td> <td>-1      </td> <td>-1         </td>\n",
       "        </tr>\n",
       "        <tr>\n",
       "            <td>Aruba  </td> <td>1951</td> <td>-1           </td> <td>-1      </td> <td>-1         </td>\n",
       "        </tr>\n",
       "        <tr>\n",
       "            <td>Aruba  </td> <td>1952</td> <td>-1           </td> <td>-1      </td> <td>-1         </td>\n",
       "        </tr>\n",
       "        <tr>\n",
       "            <td>Aruba  </td> <td>1953</td> <td>-1           </td> <td>-1      </td> <td>-1         </td>\n",
       "        </tr>\n",
       "        <tr>\n",
       "            <td>Aruba  </td> <td>1954</td> <td>-1           </td> <td>-1      </td> <td>-1         </td>\n",
       "        </tr>\n",
       "    </tbody>\n",
       "</table>\n",
       "<p>... (12371 rows omitted)</p>"
      ],
      "text/plain": [
       "<IPython.core.display.HTML object>"
      ]
     },
     "metadata": {},
     "output_type": "display_data"
    }
   ],
   "source": [
    "### Your code here ###\n",
    "cleaned_data = ...\n",
    "\n",
    "### Solution ###\n",
    "cleaned_data = data.select(\"country\", \"year\", \"cn\", \"cgdpe\", \"emp\")\n",
    "cleaned_data.relabel(\"cn\", \"Capital Stock\").relabel(\"cgdpe\", \"Real GDP\").relabel(\"emp\", \"Labor Force\")\n",
    "###\n",
    "\n",
    "cleaned_data.show(5)"
   ]
  },
  {
   "cell_type": "code",
   "execution_count": 10,
   "metadata": {},
   "outputs": [
    {
     "data": {
      "text/html": [
       "\n",
       "    \n",
       "    \n",
       "        <p>All tests passed! Full grade.</p>\n",
       "    \n",
       "    "
      ],
      "text/plain": [
       "<gofer.ok.OKTestsResult at 0x1a20416908>"
      ]
     },
     "execution_count": 10,
     "metadata": {},
     "output_type": "execute_result"
    }
   ],
   "source": [
    "grader.check(\"q1_3\")"
   ]
  },
  {
   "cell_type": "markdown",
   "metadata": {},
   "source": [
    "Our goal will be to predict what $\\alpha$ and $A$ are for each of the countries that we will be examining. From these, we will be able to explore how output is produced in each of these countries. The question is, how can we use the Cobb-Douglas Production function to solve for the missing variables? An easy way would be to take the natural log of the equation, making it linear, providing us with ways to quantify $\\alpha$ and $A$."
   ]
  },
  {
   "cell_type": "markdown",
   "metadata": {
    "tags": [
     "gradable"
    ]
   },
   "source": [
    "<div class=\"alert alert-info\">\n",
    "\n",
    "<h3>Question 1.4.</h3>\n",
    "In the cell below, using LaTeX, take the natural log of the Cobb-Douglas Production Function and rewrite it as a function of one variable. Show all of your work. Full credit will not be given if you just display the final simplified equation without showing any work. <br />\n",
    "<i> Hint: $\\ln (Y) - \\ln (L) = \\text{...}$. </i>\n",
    "</div>"
   ]
  },
  {
   "cell_type": "markdown",
   "metadata": {
    "tags": [
     "gradable"
    ]
   },
   "source": [
    "** Your LaTeX here **\n",
    "\n",
    "Solution: They see this relationship in the data. Then, they see the intercept to be A and the slope to be $\\alpha$.\n",
    "$$\n",
    "\\ln(Y) = \\ln(A) + \\alpha \\ln(K) + (1 - \\alpha) \\ln(L) \\\\\n",
    "\\ln(Y) = \\ln(A) + \\alpha \\left ( \\ln(K) - \\ln(L) \\right ) + \\ln(L) \\\\\n",
    "\\ln \\left (\\dfrac{Y}{L} \\right ) = \\ln(A) + \\alpha \\ln \\left ( \\dfrac{K}{L} \\right )\n",
    "$$\n",
    "From there, they can do this for all the countries then compare their values."
   ]
  },
  {
   "cell_type": "markdown",
   "metadata": {},
   "source": [
    "# Part 2: Exploring the Data"
   ]
  },
  {
   "cell_type": "markdown",
   "metadata": {},
   "source": [
    "Whenever we are dealing with a large dataset like PWT, it is a good idea to see how the variables interact with each other. A common method, especially when dealing with economic data, is to generate a time series. This is a plot of some economic variable on the y-axis and time on the x-axis. We are going to do just that for our important Cobb-Douglas variables for different countries."
   ]
  },
  {
   "cell_type": "markdown",
   "metadata": {
    "tags": [
     "gradable"
    ]
   },
   "source": [
    "<div class=\"alert alert-info\">\n",
    "    \n",
    "<h3>Question 2.1.</h3> \n",
    "Create a table of GDP, Capital Stock and Labor for the USA from 1990 to 2017. Do the same for China and two other countries of your choice. Use the middle cell to check if your countries of choice exist in the dataset. Make sure to use the country name exactly as it appears in the data table. Place all of this data in one table called <code>comparison_data</code>. Display the first 10 rows of <code>comparison_data</code>. Additionally, set the <code>country_array</code> variable to an array of the countries you selected in alphabetical order. <br />\n",
    "<i>Hint: Look at the <a href=\"https://d8a-88.github.io/econ-fa19/python-reference.html\"> Python Reference</a> for a table function you can use.</i>\n",
    "</div>"
   ]
  },
  {
   "cell_type": "code",
   "execution_count": 11,
   "metadata": {},
   "outputs": [
    {
     "data": {
      "text/html": [
       "<table border=\"1\" class=\"dataframe\">\n",
       "    <thead>\n",
       "        <tr>\n",
       "            <th>Country</th> <th>Earliest Year</th>\n",
       "        </tr>\n",
       "    </thead>\n",
       "    <tbody>\n",
       "        <tr>\n",
       "            <td>Albania                           </td> <td>1970         </td>\n",
       "        </tr>\n",
       "        <tr>\n",
       "            <td>Algeria                           </td> <td>1960         </td>\n",
       "        </tr>\n",
       "        <tr>\n",
       "            <td>Angola                            </td> <td>1970         </td>\n",
       "        </tr>\n",
       "        <tr>\n",
       "            <td>Anguilla                          </td> <td>1970         </td>\n",
       "        </tr>\n",
       "        <tr>\n",
       "            <td>Antigua and Barbuda               </td> <td>1970         </td>\n",
       "        </tr>\n",
       "        <tr>\n",
       "            <td>Argentina                         </td> <td>1950         </td>\n",
       "        </tr>\n",
       "        <tr>\n",
       "            <td>Armenia                           </td> <td>1990         </td>\n",
       "        </tr>\n",
       "        <tr>\n",
       "            <td>Aruba                             </td> <td>1970         </td>\n",
       "        </tr>\n",
       "        <tr>\n",
       "            <td>Australia                         </td> <td>1950         </td>\n",
       "        </tr>\n",
       "        <tr>\n",
       "            <td>Austria                           </td> <td>1950         </td>\n",
       "        </tr>\n",
       "        <tr>\n",
       "            <td>Azerbaijan                        </td> <td>1990         </td>\n",
       "        </tr>\n",
       "        <tr>\n",
       "            <td>Bahamas                           </td> <td>1970         </td>\n",
       "        </tr>\n",
       "        <tr>\n",
       "            <td>Bahrain                           </td> <td>1970         </td>\n",
       "        </tr>\n",
       "        <tr>\n",
       "            <td>Bangladesh                        </td> <td>1959         </td>\n",
       "        </tr>\n",
       "        <tr>\n",
       "            <td>Barbados                          </td> <td>1960         </td>\n",
       "        </tr>\n",
       "        <tr>\n",
       "            <td>Belarus                           </td> <td>1990         </td>\n",
       "        </tr>\n",
       "        <tr>\n",
       "            <td>Belgium                           </td> <td>1950         </td>\n",
       "        </tr>\n",
       "        <tr>\n",
       "            <td>Belize                            </td> <td>1970         </td>\n",
       "        </tr>\n",
       "        <tr>\n",
       "            <td>Benin                             </td> <td>1959         </td>\n",
       "        </tr>\n",
       "        <tr>\n",
       "            <td>Bermuda                           </td> <td>1970         </td>\n",
       "        </tr>\n",
       "        <tr>\n",
       "            <td>Bhutan                            </td> <td>1970         </td>\n",
       "        </tr>\n",
       "        <tr>\n",
       "            <td>Bolivia (Plurinational State of)  </td> <td>1950         </td>\n",
       "        </tr>\n",
       "        <tr>\n",
       "            <td>Bosnia and Herzegovina            </td> <td>1990         </td>\n",
       "        </tr>\n",
       "        <tr>\n",
       "            <td>Botswana                          </td> <td>1960         </td>\n",
       "        </tr>\n",
       "        <tr>\n",
       "            <td>Brazil                            </td> <td>1950         </td>\n",
       "        </tr>\n",
       "        <tr>\n",
       "            <td>British Virgin Islands            </td> <td>1970         </td>\n",
       "        </tr>\n",
       "        <tr>\n",
       "            <td>Brunei Darussalam                 </td> <td>1970         </td>\n",
       "        </tr>\n",
       "        <tr>\n",
       "            <td>Bulgaria                          </td> <td>1970         </td>\n",
       "        </tr>\n",
       "        <tr>\n",
       "            <td>Burkina Faso                      </td> <td>1959         </td>\n",
       "        </tr>\n",
       "        <tr>\n",
       "            <td>Burundi                           </td> <td>1960         </td>\n",
       "        </tr>\n",
       "        <tr>\n",
       "            <td>Cabo Verde                        </td> <td>1960         </td>\n",
       "        </tr>\n",
       "        <tr>\n",
       "            <td>Cambodia                          </td> <td>1970         </td>\n",
       "        </tr>\n",
       "        <tr>\n",
       "            <td>Cameroon                          </td> <td>1960         </td>\n",
       "        </tr>\n",
       "        <tr>\n",
       "            <td>Canada                            </td> <td>1950         </td>\n",
       "        </tr>\n",
       "        <tr>\n",
       "            <td>Cayman Islands                    </td> <td>1970         </td>\n",
       "        </tr>\n",
       "        <tr>\n",
       "            <td>Central African Republic          </td> <td>1960         </td>\n",
       "        </tr>\n",
       "        <tr>\n",
       "            <td>Chad                              </td> <td>1960         </td>\n",
       "        </tr>\n",
       "        <tr>\n",
       "            <td>Chile                             </td> <td>1951         </td>\n",
       "        </tr>\n",
       "        <tr>\n",
       "            <td>China                             </td> <td>1952         </td>\n",
       "        </tr>\n",
       "        <tr>\n",
       "            <td>China, Hong Kong SAR              </td> <td>1960         </td>\n",
       "        </tr>\n",
       "        <tr>\n",
       "            <td>China, Macao SAR                  </td> <td>1970         </td>\n",
       "        </tr>\n",
       "        <tr>\n",
       "            <td>Colombia                          </td> <td>1950         </td>\n",
       "        </tr>\n",
       "        <tr>\n",
       "            <td>Comoros                           </td> <td>1960         </td>\n",
       "        </tr>\n",
       "        <tr>\n",
       "            <td>Congo                             </td> <td>1960         </td>\n",
       "        </tr>\n",
       "        <tr>\n",
       "            <td>Costa Rica                        </td> <td>1950         </td>\n",
       "        </tr>\n",
       "        <tr>\n",
       "            <td>Croatia                           </td> <td>1990         </td>\n",
       "        </tr>\n",
       "        <tr>\n",
       "            <td>Cura�ao                           </td> <td>2005         </td>\n",
       "        </tr>\n",
       "        <tr>\n",
       "            <td>Cyprus                            </td> <td>1950         </td>\n",
       "        </tr>\n",
       "        <tr>\n",
       "            <td>Czech Republic                    </td> <td>1990         </td>\n",
       "        </tr>\n",
       "        <tr>\n",
       "            <td>C�te d'Ivoire                     </td> <td>1960         </td>\n",
       "        </tr>\n",
       "        <tr>\n",
       "            <td>D.R. of the Congo                 </td> <td>1950         </td>\n",
       "        </tr>\n",
       "        <tr>\n",
       "            <td>Denmark                           </td> <td>1950         </td>\n",
       "        </tr>\n",
       "        <tr>\n",
       "            <td>Djibouti                          </td> <td>1970         </td>\n",
       "        </tr>\n",
       "        <tr>\n",
       "            <td>Dominica                          </td> <td>1970         </td>\n",
       "        </tr>\n",
       "        <tr>\n",
       "            <td>Dominican Republic                </td> <td>1951         </td>\n",
       "        </tr>\n",
       "        <tr>\n",
       "            <td>Ecuador                           </td> <td>1950         </td>\n",
       "        </tr>\n",
       "        <tr>\n",
       "            <td>Egypt                             </td> <td>1950         </td>\n",
       "        </tr>\n",
       "        <tr>\n",
       "            <td>El Salvador                       </td> <td>1950         </td>\n",
       "        </tr>\n",
       "        <tr>\n",
       "            <td>Equatorial Guinea                 </td> <td>1960         </td>\n",
       "        </tr>\n",
       "        <tr>\n",
       "            <td>Estonia                           </td> <td>1990         </td>\n",
       "        </tr>\n",
       "        <tr>\n",
       "            <td>Eswatini                          </td> <td>1970         </td>\n",
       "        </tr>\n",
       "        <tr>\n",
       "            <td>Ethiopia                          </td> <td>1950         </td>\n",
       "        </tr>\n",
       "        <tr>\n",
       "            <td>Fiji                              </td> <td>1960         </td>\n",
       "        </tr>\n",
       "        <tr>\n",
       "            <td>Finland                           </td> <td>1950         </td>\n",
       "        </tr>\n",
       "        <tr>\n",
       "            <td>France                            </td> <td>1950         </td>\n",
       "        </tr>\n",
       "        <tr>\n",
       "            <td>Gabon                             </td> <td>1960         </td>\n",
       "        </tr>\n",
       "        <tr>\n",
       "            <td>Gambia                            </td> <td>1960         </td>\n",
       "        </tr>\n",
       "        <tr>\n",
       "            <td>Georgia                           </td> <td>1990         </td>\n",
       "        </tr>\n",
       "        <tr>\n",
       "            <td>Germany                           </td> <td>1950         </td>\n",
       "        </tr>\n",
       "        <tr>\n",
       "            <td>Ghana                             </td> <td>1955         </td>\n",
       "        </tr>\n",
       "        <tr>\n",
       "            <td>Greece                            </td> <td>1951         </td>\n",
       "        </tr>\n",
       "        <tr>\n",
       "            <td>Grenada                           </td> <td>1970         </td>\n",
       "        </tr>\n",
       "        <tr>\n",
       "            <td>Guatemala                         </td> <td>1950         </td>\n",
       "        </tr>\n",
       "        <tr>\n",
       "            <td>Guinea                            </td> <td>1959         </td>\n",
       "        </tr>\n",
       "        <tr>\n",
       "            <td>Guinea-Bissau                     </td> <td>1960         </td>\n",
       "        </tr>\n",
       "        <tr>\n",
       "            <td>Haiti                             </td> <td>1960         </td>\n",
       "        </tr>\n",
       "        <tr>\n",
       "            <td>Honduras                          </td> <td>1950         </td>\n",
       "        </tr>\n",
       "        <tr>\n",
       "            <td>Hungary                           </td> <td>1970         </td>\n",
       "        </tr>\n",
       "        <tr>\n",
       "            <td>Iceland                           </td> <td>1950         </td>\n",
       "        </tr>\n",
       "        <tr>\n",
       "            <td>India                             </td> <td>1950         </td>\n",
       "        </tr>\n",
       "        <tr>\n",
       "            <td>Indonesia                         </td> <td>1960         </td>\n",
       "        </tr>\n",
       "        <tr>\n",
       "            <td>Iran (Islamic Republic of)        </td> <td>1955         </td>\n",
       "        </tr>\n",
       "        <tr>\n",
       "            <td>Iraq                              </td> <td>1970         </td>\n",
       "        </tr>\n",
       "        <tr>\n",
       "            <td>Ireland                           </td> <td>1950         </td>\n",
       "        </tr>\n",
       "        <tr>\n",
       "            <td>Israel                            </td> <td>1950         </td>\n",
       "        </tr>\n",
       "        <tr>\n",
       "            <td>Italy                             </td> <td>1950         </td>\n",
       "        </tr>\n",
       "        <tr>\n",
       "            <td>Jamaica                           </td> <td>1953         </td>\n",
       "        </tr>\n",
       "        <tr>\n",
       "            <td>Japan                             </td> <td>1950         </td>\n",
       "        </tr>\n",
       "        <tr>\n",
       "            <td>Jordan                            </td> <td>1954         </td>\n",
       "        </tr>\n",
       "        <tr>\n",
       "            <td>Kazakhstan                        </td> <td>1990         </td>\n",
       "        </tr>\n",
       "        <tr>\n",
       "            <td>Kenya                             </td> <td>1950         </td>\n",
       "        </tr>\n",
       "        <tr>\n",
       "            <td>Kuwait                            </td> <td>1970         </td>\n",
       "        </tr>\n",
       "        <tr>\n",
       "            <td>Kyrgyzstan                        </td> <td>1990         </td>\n",
       "        </tr>\n",
       "        <tr>\n",
       "            <td>Lao People's DR                   </td> <td>1970         </td>\n",
       "        </tr>\n",
       "        <tr>\n",
       "            <td>Latvia                            </td> <td>1990         </td>\n",
       "        </tr>\n",
       "        <tr>\n",
       "            <td>Lebanon                           </td> <td>1970         </td>\n",
       "        </tr>\n",
       "        <tr>\n",
       "            <td>Lesotho                           </td> <td>1960         </td>\n",
       "        </tr>\n",
       "        <tr>\n",
       "            <td>Liberia                           </td> <td>1964         </td>\n",
       "        </tr>\n",
       "        <tr>\n",
       "            <td>Lithuania                         </td> <td>1990         </td>\n",
       "        </tr>\n",
       "        <tr>\n",
       "            <td>Luxembourg                        </td> <td>1950         </td>\n",
       "        </tr>\n",
       "        <tr>\n",
       "            <td>Madagascar                        </td> <td>1960         </td>\n",
       "        </tr>\n",
       "        <tr>\n",
       "            <td>Malawi                            </td> <td>1954         </td>\n",
       "        </tr>\n",
       "        <tr>\n",
       "            <td>Malaysia                          </td> <td>1955         </td>\n",
       "        </tr>\n",
       "        <tr>\n",
       "            <td>Maldives                          </td> <td>1970         </td>\n",
       "        </tr>\n",
       "        <tr>\n",
       "            <td>Mali                              </td> <td>1960         </td>\n",
       "        </tr>\n",
       "        <tr>\n",
       "            <td>Malta                             </td> <td>1954         </td>\n",
       "        </tr>\n",
       "        <tr>\n",
       "            <td>Mauritania                        </td> <td>1960         </td>\n",
       "        </tr>\n",
       "        <tr>\n",
       "            <td>Mauritius                         </td> <td>1950         </td>\n",
       "        </tr>\n",
       "        <tr>\n",
       "            <td>Mexico                            </td> <td>1950         </td>\n",
       "        </tr>\n",
       "        <tr>\n",
       "            <td>Mongolia                          </td> <td>1970         </td>\n",
       "        </tr>\n",
       "        <tr>\n",
       "            <td>Montenegro                        </td> <td>1990         </td>\n",
       "        </tr>\n",
       "        <tr>\n",
       "            <td>Montserrat                        </td> <td>1970         </td>\n",
       "        </tr>\n",
       "        <tr>\n",
       "            <td>Morocco                           </td> <td>1950         </td>\n",
       "        </tr>\n",
       "        <tr>\n",
       "            <td>Mozambique                        </td> <td>1960         </td>\n",
       "        </tr>\n",
       "        <tr>\n",
       "            <td>Myanmar                           </td> <td>1962         </td>\n",
       "        </tr>\n",
       "        <tr>\n",
       "            <td>Namibia                           </td> <td>1960         </td>\n",
       "        </tr>\n",
       "        <tr>\n",
       "            <td>Nepal                             </td> <td>1960         </td>\n",
       "        </tr>\n",
       "        <tr>\n",
       "            <td>Netherlands                       </td> <td>1950         </td>\n",
       "        </tr>\n",
       "        <tr>\n",
       "            <td>New Zealand                       </td> <td>1950         </td>\n",
       "        </tr>\n",
       "        <tr>\n",
       "            <td>Nicaragua                         </td> <td>1950         </td>\n",
       "        </tr>\n",
       "        <tr>\n",
       "            <td>Niger                             </td> <td>1960         </td>\n",
       "        </tr>\n",
       "        <tr>\n",
       "            <td>Nigeria                           </td> <td>1950         </td>\n",
       "        </tr>\n",
       "        <tr>\n",
       "            <td>North Macedonia                   </td> <td>1990         </td>\n",
       "        </tr>\n",
       "        <tr>\n",
       "            <td>Norway                            </td> <td>1950         </td>\n",
       "        </tr>\n",
       "        <tr>\n",
       "            <td>Oman                              </td> <td>1970         </td>\n",
       "        </tr>\n",
       "        <tr>\n",
       "            <td>Pakistan                          </td> <td>1950         </td>\n",
       "        </tr>\n",
       "        <tr>\n",
       "            <td>Panama                            </td> <td>1950         </td>\n",
       "        </tr>\n",
       "        <tr>\n",
       "            <td>Paraguay                          </td> <td>1951         </td>\n",
       "        </tr>\n",
       "        <tr>\n",
       "            <td>Peru                              </td> <td>1950         </td>\n",
       "        </tr>\n",
       "        <tr>\n",
       "            <td>Philippines                       </td> <td>1950         </td>\n",
       "        </tr>\n",
       "        <tr>\n",
       "            <td>Poland                            </td> <td>1970         </td>\n",
       "        </tr>\n",
       "        <tr>\n",
       "            <td>Portugal                          </td> <td>1950         </td>\n",
       "        </tr>\n",
       "        <tr>\n",
       "            <td>Qatar                             </td> <td>1970         </td>\n",
       "        </tr>\n",
       "        <tr>\n",
       "            <td>Republic of Korea                 </td> <td>1953         </td>\n",
       "        </tr>\n",
       "        <tr>\n",
       "            <td>Republic of Moldova               </td> <td>1990         </td>\n",
       "        </tr>\n",
       "        <tr>\n",
       "            <td>Romania                           </td> <td>1960         </td>\n",
       "        </tr>\n",
       "        <tr>\n",
       "            <td>Russian Federation                </td> <td>1990         </td>\n",
       "        </tr>\n",
       "        <tr>\n",
       "            <td>Rwanda                            </td> <td>1960         </td>\n",
       "        </tr>\n",
       "        <tr>\n",
       "            <td>Saint Kitts and Nevis             </td> <td>1970         </td>\n",
       "        </tr>\n",
       "        <tr>\n",
       "            <td>Saint Lucia                       </td> <td>1970         </td>\n",
       "        </tr>\n",
       "        <tr>\n",
       "            <td>Sao Tome and Principe             </td> <td>1970         </td>\n",
       "        </tr>\n",
       "        <tr>\n",
       "            <td>Saudi Arabia                      </td> <td>1970         </td>\n",
       "        </tr>\n",
       "        <tr>\n",
       "            <td>Senegal                           </td> <td>1960         </td>\n",
       "        </tr>\n",
       "        <tr>\n",
       "            <td>Serbia                            </td> <td>1990         </td>\n",
       "        </tr>\n",
       "        <tr>\n",
       "            <td>Seychelles                        </td> <td>1960         </td>\n",
       "        </tr>\n",
       "        <tr>\n",
       "            <td>Sierra Leone                      </td> <td>1961         </td>\n",
       "        </tr>\n",
       "        <tr>\n",
       "            <td>Singapore                         </td> <td>1960         </td>\n",
       "        </tr>\n",
       "        <tr>\n",
       "            <td>Sint Maarten (Dutch part)         </td> <td>2005         </td>\n",
       "        </tr>\n",
       "        <tr>\n",
       "            <td>Slovakia                          </td> <td>1990         </td>\n",
       "        </tr>\n",
       "        <tr>\n",
       "            <td>Slovenia                          </td> <td>1990         </td>\n",
       "        </tr>\n",
       "        <tr>\n",
       "            <td>South Africa                      </td> <td>1950         </td>\n",
       "        </tr>\n",
       "        <tr>\n",
       "            <td>Spain                             </td> <td>1950         </td>\n",
       "        </tr>\n",
       "        <tr>\n",
       "            <td>Sri Lanka                         </td> <td>1950         </td>\n",
       "        </tr>\n",
       "        <tr>\n",
       "            <td>St. Vincent and the Grenadines    </td> <td>1970         </td>\n",
       "        </tr>\n",
       "        <tr>\n",
       "            <td>State of Palestine                </td> <td>1970         </td>\n",
       "        </tr>\n",
       "        <tr>\n",
       "            <td>Sudan                             </td> <td>1970         </td>\n",
       "        </tr>\n",
       "        <tr>\n",
       "            <td>Suriname                          </td> <td>1970         </td>\n",
       "        </tr>\n",
       "        <tr>\n",
       "            <td>Sweden                            </td> <td>1950         </td>\n",
       "        </tr>\n",
       "        <tr>\n",
       "            <td>Switzerland                       </td> <td>1950         </td>\n",
       "        </tr>\n",
       "        <tr>\n",
       "            <td>Syrian Arab Republic              </td> <td>1960         </td>\n",
       "        </tr>\n",
       "        <tr>\n",
       "            <td>Taiwan                            </td> <td>1951         </td>\n",
       "        </tr>\n",
       "        <tr>\n",
       "            <td>Tajikistan                        </td> <td>1990         </td>\n",
       "        </tr>\n",
       "        <tr>\n",
       "            <td>Thailand                          </td> <td>1950         </td>\n",
       "        </tr>\n",
       "        <tr>\n",
       "            <td>Togo                              </td> <td>1960         </td>\n",
       "        </tr>\n",
       "        <tr>\n",
       "            <td>Trinidad and Tobago               </td> <td>1950         </td>\n",
       "        </tr>\n",
       "        <tr>\n",
       "            <td>Tunisia                           </td> <td>1960         </td>\n",
       "        </tr>\n",
       "        <tr>\n",
       "            <td>Turkey                            </td> <td>1950         </td>\n",
       "        </tr>\n",
       "        <tr>\n",
       "            <td>Turkmenistan                      </td> <td>1990         </td>\n",
       "        </tr>\n",
       "        <tr>\n",
       "            <td>Turks and Caicos Islands          </td> <td>1970         </td>\n",
       "        </tr>\n",
       "        <tr>\n",
       "            <td>U.R. of Tanzania: Mainland        </td> <td>1960         </td>\n",
       "        </tr>\n",
       "        <tr>\n",
       "            <td>Uganda                            </td> <td>1950         </td>\n",
       "        </tr>\n",
       "        <tr>\n",
       "            <td>Ukraine                           </td> <td>1990         </td>\n",
       "        </tr>\n",
       "        <tr>\n",
       "            <td>United Arab Emirates              </td> <td>1970         </td>\n",
       "        </tr>\n",
       "        <tr>\n",
       "            <td>United Kingdom                    </td> <td>1950         </td>\n",
       "        </tr>\n",
       "        <tr>\n",
       "            <td>United States                     </td> <td>1950         </td>\n",
       "        </tr>\n",
       "        <tr>\n",
       "            <td>Uruguay                           </td> <td>1950         </td>\n",
       "        </tr>\n",
       "        <tr>\n",
       "            <td>Uzbekistan                        </td> <td>1990         </td>\n",
       "        </tr>\n",
       "        <tr>\n",
       "            <td>Venezuela (Bolivarian Republic of)</td> <td>1950         </td>\n",
       "        </tr>\n",
       "        <tr>\n",
       "            <td>Viet Nam                          </td> <td>1970         </td>\n",
       "        </tr>\n",
       "        <tr>\n",
       "            <td>Yemen                             </td> <td>1989         </td>\n",
       "        </tr>\n",
       "        <tr>\n",
       "            <td>Zambia                            </td> <td>1955         </td>\n",
       "        </tr>\n",
       "        <tr>\n",
       "            <td>Zimbabwe                          </td> <td>1954         </td>\n",
       "        </tr>\n",
       "    </tbody>\n",
       "</table>"
      ],
      "text/plain": [
       "<IPython.core.display.HTML object>"
      ]
     },
     "metadata": {},
     "output_type": "display_data"
    }
   ],
   "source": [
    "### Run this cell to see a table of all the countries in the dataset.###\n",
    "### Select two countries and proceed to the lower code cell. ###\n",
    "all_countries.show()"
   ]
  },
  {
   "cell_type": "code",
   "execution_count": 12,
   "metadata": {
    "tags": [
     "gradable"
    ]
   },
   "outputs": [],
   "source": [
    "### Your code here ###\n",
    "country_array = make_array(\"China\", \"United States\", ..., ...)\n",
    "comparison_data = ...\n",
    "\n",
    "### Solution ###\n",
    "country_array = make_array(\"China\", \"Philippines\", \"Senegal\", \"United States\")\n",
    "comparison_data = cleaned_data.where(\"country\", are.contained_in(country_array)).where(\"year\", are.between(1990, 2018))"
   ]
  },
  {
   "cell_type": "code",
   "execution_count": 13,
   "metadata": {},
   "outputs": [
    {
     "data": {
      "text/html": [
       "\n",
       "    \n",
       "    \n",
       "        <p>All tests passed! Full grade.</p>\n",
       "    \n",
       "    "
      ],
      "text/plain": [
       "<gofer.ok.OKTestsResult at 0x1a204167b8>"
      ]
     },
     "execution_count": 13,
     "metadata": {},
     "output_type": "execute_result"
    }
   ],
   "source": [
    "grader.check(\"q2_1\")"
   ]
  },
  {
   "cell_type": "markdown",
   "metadata": {},
   "source": [
    "**Note:** If you ever need to refer to a list of the countries you selected in your code, do **not** use ```country_array```. When you place the data in ```comparison_data```, Python will automatically re-order the countries. Using ```country_array``` will cause a mis-match between your rows of data in ```comparison_data``` and the country it is actually from."
   ]
  },
  {
   "cell_type": "markdown",
   "metadata": {
    "tags": [
     "gradable"
    ]
   },
   "source": [
    "<div class=\"alert alert-info\">\n",
    "    \n",
    "<h3>Question 2.2.</h3>\n",
    "To help us in later questions, fill in the blanks in the <code>country_table_plotter</code> function below. Its inputs will be a table of the form <code>comparison_data</code> and the names of the two columns plotted, <code>columnX</code> and <code>columnY</code>. The <code>country_table_plotter</code> function will plot <code>columnX</code> versus <code>columnY</code> using data from <code>data_table</code> for all the countries contained in <code>data_table</code>. <br />\n",
    "<i> Hint: Look at the <a href=\"https://matplotlib.org/3.1.1/api/_as_gen/matplotlib.pyplot.plot.html\"> Matplotlib Plotting Reference</a> for ideas of what to place in the blanks. </i>\n",
    "</div>"
   ]
  },
  {
   "cell_type": "code",
   "execution_count": 14,
   "metadata": {
    "tags": [
     "gradable"
    ]
   },
   "outputs": [],
   "source": [
    "def country_table_plotter(data_table, columnX, columnY):\n",
    "    \n",
    "#     ### Your code here ###\n",
    "#     for country in ...:\n",
    "#         plt.plot(..., ..., label = country, linewidth = 1)\n",
    "    \n",
    "    ### Solution ###\n",
    "    countries = data_table.group(\"country\").column(\"country\")\n",
    "    for country in countries:\n",
    "        current_country_table = data_table.where(\"country\", country)\n",
    "        plt.plot(current_country_table.column(columnX), current_country_table.column(columnY), \n",
    "                 label = country, linewidth = 1.5)\n",
    "    \n",
    "    \n",
    "    ### Do not change the code below ###\n",
    "    plt.legend(loc='center left', bbox_to_anchor=(1, 0.5), fontsize = 'x-large')\n",
    "    plt.xlabel(columnX)\n",
    "    plt.ylabel(f\"{columnY} (Logarithmic Scale)\")\n",
    "    plt.yscale(\"log\")"
   ]
  },
  {
   "cell_type": "markdown",
   "metadata": {
    "tags": [
     "gradable"
    ]
   },
   "source": [
    "<div class=\"alert alert-info\">\n",
    "    \n",
    "<h3>Question 2.3.</h3>\n",
    "Produce a plot of time and capital stock for the countries in your table. In the markdown cell below your plot, identify differences between the countries and discuss what surprised you.\n",
    "</div>"
   ]
  },
  {
   "cell_type": "code",
   "execution_count": 15,
   "metadata": {
    "tags": [
     "gradable"
    ]
   },
   "outputs": [
    {
     "data": {
      "image/png": "[encoded data removed]",
      "text/plain": [
       "<Figure size 576x396 with 1 Axes>"
      ]
     },
     "metadata": {
      "needs_background": "light"
     },
     "output_type": "display_data"
    }
   ],
   "source": [
    "### Your code here ###\n",
    "...\n",
    "\n",
    "### Solution ###\n",
    "country_table_plotter(comparison_data, \"year\", \"Capital Stock\")"
   ]
  },
  {
   "cell_type": "markdown",
   "metadata": {
    "tags": [
     "gradable"
    ]
   },
   "source": [
    "- United States:\n",
    "\n",
    "- China:\n",
    "\n",
    "- Your Country:\n",
    "\n",
    "- Your Country:"
   ]
  },
  {
   "cell_type": "markdown",
   "metadata": {
    "tags": [
     "gradable"
    ]
   },
   "source": [
    "<div class=\"alert alert-info\">\n",
    "    \n",
    "<h3>Question 2.4.</h3>\n",
    "Produce a similar plot, but this time of time and labor for the countries in your table. In the markdown cell below your plot, identify differences between the countries and discuss what surprised you.\n",
    "</div>"
   ]
  },
  {
   "cell_type": "code",
   "execution_count": 16,
   "metadata": {
    "tags": [
     "gradable"
    ]
   },
   "outputs": [
    {
     "data": {
      "image/png": "[encoded data removed]",
      "text/plain": [
       "<Figure size 576x396 with 1 Axes>"
      ]
     },
     "metadata": {
      "needs_background": "light"
     },
     "output_type": "display_data"
    }
   ],
   "source": [
    "### Your code here ###\n",
    "...\n",
    "\n",
    "### Solution ###\n",
    "country_table_plotter(comparison_data, \"year\", \"Labor Force\")"
   ]
  },
  {
   "cell_type": "markdown",
   "metadata": {
    "tags": [
     "gradable"
    ]
   },
   "source": [
    "- United States:\n",
    "\n",
    "- China:\n",
    "\n",
    "- Your Country:\n",
    "\n",
    "- Your Country:"
   ]
  },
  {
   "cell_type": "markdown",
   "metadata": {
    "tags": [
     "gradable"
    ]
   },
   "source": [
    "<div class=\"alert alert-info\">\n",
    "    \n",
    "<h3>Question 2.5.</h3>\n",
    "Create a plot of time and GDP for the countries in your table. In the text cell below your plot, using your knowledge of the Cobb-Douglas Production Function, identify differences between the countries and discuss these in relation to your findings about each of the country's levels of capital stock and labor. Also note about how these have changed over time, if at all.\n",
    "</div>"
   ]
  },
  {
   "cell_type": "code",
   "execution_count": 17,
   "metadata": {
    "tags": [
     "gradable"
    ]
   },
   "outputs": [
    {
     "data": {
      "image/png": "[encoded data removed]",
      "text/plain": [
       "<Figure size 576x396 with 1 Axes>"
      ]
     },
     "metadata": {
      "needs_background": "light"
     },
     "output_type": "display_data"
    }
   ],
   "source": [
    "### Your code here ###\n",
    "...\n",
    "\n",
    "### Solution ###\n",
    "country_table_plotter(comparison_data, \"year\", \"Real GDP\")"
   ]
  },
  {
   "cell_type": "markdown",
   "metadata": {
    "tags": [
     "gradable"
    ]
   },
   "source": [
    "- United States:\n",
    "\n",
    "- China:\n",
    "\n",
    "- Your Country:\n",
    "\n",
    "- Your Country:"
   ]
  },
  {
   "cell_type": "markdown",
   "metadata": {},
   "source": [
    "---"
   ]
  },
  {
   "cell_type": "markdown",
   "metadata": {},
   "source": [
    "# Part 3: Prediction and Comparison"
   ]
  },
  {
   "cell_type": "markdown",
   "metadata": {},
   "source": [
    "We are now going to provide numerical backing to your discussions of differences between the nations. We will predict values for $\\alpha$ and $A$ for each of the 4 countries that we are examining. To do this, we will revisit the equation that you derived in question 1.4. "
   ]
  },
  {
   "cell_type": "markdown",
   "metadata": {
    "tags": [
     "gradable"
    ]
   },
   "source": [
    "<div class=\"alert alert-info\">\n",
    "    \n",
    "<h3>Question 3.1.</h3>\n",
    "A key step in the original paper by Cobb and Douglas was that they converted the data into an index. This is important because the data is measured in different units. Do this for each country and each of the variables in <code>comparison_data</code>. Let the 2011 value for each variable in each country be the base year, i.e. 100. Place this in a new table called <code>indexed_data</code> together with <code>country</code> and <code>year</code> columns. Display the first few rows. <br />\n",
    "<i>Hint: The formula for calculating an index is as follows:\n",
    "$$\n",
    "\\dfrac{Q_{\\text{current year}}}{Q_{\\text{base year}}} \\cdot 100 \\, \\text{ for some variable } Q\n",
    "$$</i>\n",
    "</div>"
   ]
  },
  {
   "cell_type": "code",
   "execution_count": 18,
   "metadata": {
    "tags": [
     "gradable"
    ]
   },
   "outputs": [
    {
     "data": {
      "text/html": [
       "<table border=\"1\" class=\"dataframe\">\n",
       "    <thead>\n",
       "        <tr>\n",
       "            <th>country</th> <th>year</th> <th>Indexed K</th> <th>Indexed L</th> <th>Indexed Y</th>\n",
       "        </tr>\n",
       "    </thead>\n",
       "    <tbody>\n",
       "        <tr>\n",
       "            <td>China  </td> <td>1990</td> <td>8.67161  </td> <td>84.4034  </td> <td>21.2439  </td>\n",
       "        </tr>\n",
       "        <tr>\n",
       "            <td>China  </td> <td>1991</td> <td>9.05109  </td> <td>86.3807  </td> <td>22.4446  </td>\n",
       "        </tr>\n",
       "        <tr>\n",
       "            <td>China  </td> <td>1992</td> <td>9.65506  </td> <td>87.3824  </td> <td>24.1699  </td>\n",
       "        </tr>\n",
       "        <tr>\n",
       "            <td>China  </td> <td>1993</td> <td>10.7832  </td> <td>88.2054  </td> <td>26.5915  </td>\n",
       "        </tr>\n",
       "        <tr>\n",
       "            <td>China  </td> <td>1994</td> <td>12.0524  </td> <td>88.9376  </td> <td>28.2215  </td>\n",
       "        </tr>\n",
       "        <tr>\n",
       "            <td>China  </td> <td>1995</td> <td>13.495   </td> <td>89.6196  </td> <td>29.9083  </td>\n",
       "        </tr>\n",
       "        <tr>\n",
       "            <td>China  </td> <td>1996</td> <td>14.9247  </td> <td>90.3957  </td> <td>31.8366  </td>\n",
       "        </tr>\n",
       "        <tr>\n",
       "            <td>China  </td> <td>1997</td> <td>16.5313  </td> <td>91.2963  </td> <td>32.6932  </td>\n",
       "        </tr>\n",
       "        <tr>\n",
       "            <td>China  </td> <td>1998</td> <td>18.6067  </td> <td>92.1745  </td> <td>33.13    </td>\n",
       "        </tr>\n",
       "    </tbody>\n",
       "</table>\n",
       "<p>... (103 rows omitted)</p>"
      ],
      "text/plain": [
       "<IPython.core.display.HTML object>"
      ]
     },
     "metadata": {},
     "output_type": "display_data"
    }
   ],
   "source": [
    "## Replace the ... in the code below ###\n",
    "# base_values = ...\n",
    "# countries = ...\n",
    "# indexed_Ks = make_array()\n",
    "# indexed_Ls = make_array()\n",
    "# indexed_Ys = make_array()\n",
    "\n",
    "# for country in countries:\n",
    "#     ...\n",
    "    \n",
    "# indexed_data = Table().with_columns(\"country\", ...\n",
    "#                                    \"year\", ...\n",
    "#                                    \"Indexed K\", ...\n",
    "#                                    \"Indexed L\", ...\n",
    "#                                    \"Indexed Y\", ...\n",
    "#                                    )\n",
    "\n",
    "# indexed_data.show(5)\n",
    "\n",
    "### Solution ###\n",
    "base_values = comparison_data.where(\"year\", 2011)\n",
    "countries = comparison_data.group(\"country\").column(\"country\")\n",
    "indexed_Ks = make_array()\n",
    "indexed_Ls = make_array()\n",
    "indexed_Ys = make_array()\n",
    "\n",
    "for country in countries:\n",
    "    country_base_values = base_values.where(\"country\", country)\n",
    "    curr_Ks = comparison_data.where(\"country\", country).column(\"Capital Stock\") / country_base_values.column(\"Capital Stock\") * 100\n",
    "    curr_Ls = comparison_data.where(\"country\", country).column(\"Labor Force\") / country_base_values.column(\"Labor Force\") * 100\n",
    "    curr_Ys = comparison_data.where(\"country\", country).column(\"Real GDP\") / country_base_values.column(\"Real GDP\") * 100\n",
    "    indexed_Ks = np.append(indexed_Ks, curr_Ks)\n",
    "    indexed_Ls = np.append(indexed_Ls, curr_Ls)\n",
    "    indexed_Ys = np.append(indexed_Ys, curr_Ys)\n",
    "\n",
    "indexed_data = Table().with_columns(\"country\", comparison_data.column(\"country\"), \"year\", comparison_data.column(\"year\"),\n",
    "                    \"Indexed K\", indexed_Ks, \"Indexed L\", indexed_Ls, \"Indexed Y\", indexed_Ys)\n",
    "\n",
    "indexed_data.show(9)"
   ]
  },
  {
   "cell_type": "code",
   "execution_count": 19,
   "metadata": {},
   "outputs": [
    {
     "data": {
      "text/html": [
       "\n",
       "    \n",
       "    \n",
       "        <p>All tests passed! Full grade.</p>\n",
       "    \n",
       "    "
      ],
      "text/plain": [
       "<gofer.ok.OKTestsResult at 0x1a1ec2def0>"
      ]
     },
     "execution_count": 19,
     "metadata": {},
     "output_type": "execute_result"
    }
   ],
   "source": [
    "grader.check(\"q3_1\")"
   ]
  },
  {
   "cell_type": "code",
   "execution_count": 20,
   "metadata": {},
   "outputs": [
    {
     "ename": "AssertionError",
     "evalue": "Test q3_1H does not exist",
     "output_type": "error",
     "traceback": [
      "\u001b[0;31m---------------------------------------------------------------------------\u001b[0m",
      "\u001b[0;31mAssertionError\u001b[0m                            Traceback (most recent call last)",
      "\u001b[0;32m<ipython-input-20-c48ba9b0db0a>\u001b[0m in \u001b[0;36m<module>\u001b[0;34m\u001b[0m\n\u001b[0;32m----> 1\u001b[0;31m \u001b[0mgrader\u001b[0m\u001b[0;34m.\u001b[0m\u001b[0mcheck\u001b[0m\u001b[0;34m(\u001b[0m\u001b[0;34m\"q3_1H\"\u001b[0m\u001b[0;34m)\u001b[0m\u001b[0;34m\u001b[0m\u001b[0;34m\u001b[0m\u001b[0m\n\u001b[0m",
      "\u001b[0;32m~/anaconda3/lib/python3.7/site-packages/otter/notebook.py\u001b[0m in \u001b[0;36mcheck\u001b[0;34m(self, question, global_env)\u001b[0m\n\u001b[1;32m     21\u001b[0m                 \u001b[0;31m# ensure that desired test exists\u001b[0m\u001b[0;34m\u001b[0m\u001b[0;34m\u001b[0m\u001b[0;34m\u001b[0m\u001b[0m\n\u001b[1;32m     22\u001b[0m                 \u001b[0;32massert\u001b[0m \u001b[0mos\u001b[0m\u001b[0;34m.\u001b[0m\u001b[0mpath\u001b[0m\u001b[0;34m.\u001b[0m\u001b[0mexists\u001b[0m\u001b[0;34m(\u001b[0m\u001b[0mtest_path\u001b[0m\u001b[0;34m)\u001b[0m \u001b[0;32mand\u001b[0m\u001b[0;31m \u001b[0m\u001b[0;31m\\\u001b[0m\u001b[0;34m\u001b[0m\u001b[0;34m\u001b[0m\u001b[0m\n\u001b[0;32m---> 23\u001b[0;31m                         \u001b[0mos\u001b[0m\u001b[0;34m.\u001b[0m\u001b[0mpath\u001b[0m\u001b[0;34m.\u001b[0m\u001b[0misfile\u001b[0m\u001b[0;34m(\u001b[0m\u001b[0mtest_path\u001b[0m\u001b[0;34m)\u001b[0m\u001b[0;34m,\u001b[0m \u001b[0;34m\"Test {} does not exist\"\u001b[0m\u001b[0;34m.\u001b[0m\u001b[0mformat\u001b[0m\u001b[0;34m(\u001b[0m\u001b[0mquestion\u001b[0m\u001b[0;34m)\u001b[0m\u001b[0;34m\u001b[0m\u001b[0;34m\u001b[0m\u001b[0m\n\u001b[0m\u001b[1;32m     24\u001b[0m \u001b[0;34m\u001b[0m\u001b[0m\n\u001b[1;32m     25\u001b[0m                 \u001b[0;31m# pass the correct global environment\u001b[0m\u001b[0;34m\u001b[0m\u001b[0;34m\u001b[0m\u001b[0;34m\u001b[0m\u001b[0m\n",
      "\u001b[0;31mAssertionError\u001b[0m: Test q3_1H does not exist"
     ]
    }
   ],
   "source": [
    "grader.check(\"q3_1H\")"
   ]
  },
  {
   "cell_type": "markdown",
   "metadata": {
    "tags": [
     "gradable"
    ]
   },
   "source": [
    "<div class=\"alert alert-info\">\n",
    "    \n",
    "<h3>Question 3.2(a).</h3>\n",
    "Using the equation you derived in part 1 and the <code>indexed_data</code> table, calculate the two log ratios that you need to perform linear regression. Place them in the table <code>log_ratios</code> with <code>country</code> and <code>year</code> as the two leftmost columns respectively. Display the first 10 rows and name the columns appropriately. The <code>log_ratios</code> table should have 4 columns.\n",
    "</div>"
   ]
  },
  {
   "cell_type": "code",
   "execution_count": 21,
   "metadata": {
    "tags": [
     "gradable"
    ]
   },
   "outputs": [
    {
     "data": {
      "text/html": [
       "<table border=\"1\" class=\"dataframe\">\n",
       "    <thead>\n",
       "        <tr>\n",
       "            <th>country</th> <th>year</th> <th>ln(Y/L)</th> <th>ln(K/L)</th>\n",
       "        </tr>\n",
       "    </thead>\n",
       "    <tbody>\n",
       "        <tr>\n",
       "            <td>China        </td> <td>1990</td> <td>-1.37954   </td> <td>-2.27555    </td>\n",
       "        </tr>\n",
       "        <tr>\n",
       "            <td>China        </td> <td>1991</td> <td>-1.34772   </td> <td>-2.25588    </td>\n",
       "        </tr>\n",
       "        <tr>\n",
       "            <td>China        </td> <td>1992</td> <td>-1.28518   </td> <td>-2.20281    </td>\n",
       "        </tr>\n",
       "        <tr>\n",
       "            <td>China        </td> <td>1993</td> <td>-1.19908   </td> <td>-2.10168    </td>\n",
       "        </tr>\n",
       "        <tr>\n",
       "            <td>China        </td> <td>1994</td> <td>-1.14785   </td> <td>-1.99867    </td>\n",
       "        </tr>\n",
       "        <tr>\n",
       "            <td>China        </td> <td>1995</td> <td>-1.09744   </td> <td>-1.89325    </td>\n",
       "        </tr>\n",
       "        <tr>\n",
       "            <td>China        </td> <td>1996</td> <td>-1.04358   </td> <td>-1.80118    </td>\n",
       "        </tr>\n",
       "        <tr>\n",
       "            <td>China        </td> <td>1997</td> <td>-1.02694   </td> <td>-1.70885    </td>\n",
       "        </tr>\n",
       "        <tr>\n",
       "            <td>China        </td> <td>1998</td> <td>-1.02324   </td> <td>-1.60016    </td>\n",
       "        </tr>\n",
       "        <tr>\n",
       "            <td>China        </td> <td>1999</td> <td>-0.965746  </td> <td>-1.50015    </td>\n",
       "        </tr>\n",
       "        <tr>\n",
       "            <td>China        </td> <td>2000</td> <td>-0.897552  </td> <td>-1.40672    </td>\n",
       "        </tr>\n",
       "        <tr>\n",
       "            <td>China        </td> <td>2001</td> <td>-0.822034  </td> <td>-1.3048     </td>\n",
       "        </tr>\n",
       "        <tr>\n",
       "            <td>China        </td> <td>2002</td> <td>-0.738675  </td> <td>-1.20527    </td>\n",
       "        </tr>\n",
       "        <tr>\n",
       "            <td>China        </td> <td>2003</td> <td>-0.689199  </td> <td>-1.08688    </td>\n",
       "        </tr>\n",
       "        <tr>\n",
       "            <td>China        </td> <td>2004</td> <td>-0.604812  </td> <td>-0.950649   </td>\n",
       "        </tr>\n",
       "        <tr>\n",
       "            <td>China        </td> <td>2005</td> <td>-0.477086  </td> <td>-0.798316   </td>\n",
       "        </tr>\n",
       "        <tr>\n",
       "            <td>China        </td> <td>2006</td> <td>-0.388287  </td> <td>-0.644238   </td>\n",
       "        </tr>\n",
       "        <tr>\n",
       "            <td>China        </td> <td>2007</td> <td>-0.324418  </td> <td>-0.510583   </td>\n",
       "        </tr>\n",
       "        <tr>\n",
       "            <td>China        </td> <td>2008</td> <td>-0.278531  </td> <td>-0.379526   </td>\n",
       "        </tr>\n",
       "        <tr>\n",
       "            <td>China        </td> <td>2009</td> <td>-0.211455  </td> <td>-0.250257   </td>\n",
       "        </tr>\n",
       "        <tr>\n",
       "            <td>China        </td> <td>2010</td> <td>-0.0815297 </td> <td>-0.119307   </td>\n",
       "        </tr>\n",
       "        <tr>\n",
       "            <td>China        </td> <td>2011</td> <td>0          </td> <td>0           </td>\n",
       "        </tr>\n",
       "        <tr>\n",
       "            <td>China        </td> <td>2012</td> <td>0.0263191  </td> <td>0.117792    </td>\n",
       "        </tr>\n",
       "        <tr>\n",
       "            <td>China        </td> <td>2013</td> <td>0.0729409  </td> <td>0.241844    </td>\n",
       "        </tr>\n",
       "        <tr>\n",
       "            <td>China        </td> <td>2014</td> <td>0.121898   </td> <td>0.378607    </td>\n",
       "        </tr>\n",
       "        <tr>\n",
       "            <td>China        </td> <td>2015</td> <td>0.132474   </td> <td>0.482076    </td>\n",
       "        </tr>\n",
       "        <tr>\n",
       "            <td>China        </td> <td>2016</td> <td>0.161412   </td> <td>0.581816    </td>\n",
       "        </tr>\n",
       "        <tr>\n",
       "            <td>China        </td> <td>2017</td> <td>0.21019    </td> <td>0.684219    </td>\n",
       "        </tr>\n",
       "        <tr>\n",
       "            <td>Philippines  </td> <td>1990</td> <td>-0.422442  </td> <td>-0.937618   </td>\n",
       "        </tr>\n",
       "        <tr>\n",
       "            <td>Philippines  </td> <td>1991</td> <td>-0.416456  </td> <td>-0.886203   </td>\n",
       "        </tr>\n",
       "        <tr>\n",
       "            <td>Philippines  </td> <td>1992</td> <td>-0.406712  </td> <td>-0.831416   </td>\n",
       "        </tr>\n",
       "        <tr>\n",
       "            <td>Philippines  </td> <td>1993</td> <td>-0.3896    </td> <td>-0.749934   </td>\n",
       "        </tr>\n",
       "        <tr>\n",
       "            <td>Philippines  </td> <td>1994</td> <td>-0.316782  </td> <td>-0.665805   </td>\n",
       "        </tr>\n",
       "        <tr>\n",
       "            <td>Philippines  </td> <td>1995</td> <td>-0.240662  </td> <td>-0.590702   </td>\n",
       "        </tr>\n",
       "        <tr>\n",
       "            <td>Philippines  </td> <td>1996</td> <td>-0.21297   </td> <td>-0.576812   </td>\n",
       "        </tr>\n",
       "        <tr>\n",
       "            <td>Philippines  </td> <td>1997</td> <td>-0.182591  </td> <td>-0.490744   </td>\n",
       "        </tr>\n",
       "        <tr>\n",
       "            <td>Philippines  </td> <td>1998</td> <td>-0.219061  </td> <td>-0.468495   </td>\n",
       "        </tr>\n",
       "        <tr>\n",
       "            <td>Philippines  </td> <td>1999</td> <td>-0.251093  </td> <td>-0.497697   </td>\n",
       "        </tr>\n",
       "        <tr>\n",
       "            <td>Philippines  </td> <td>2000</td> <td>-0.219945  </td> <td>-0.472965   </td>\n",
       "        </tr>\n",
       "        <tr>\n",
       "            <td>Philippines  </td> <td>2001</td> <td>-0.293159  </td> <td>-0.511373   </td>\n",
       "        </tr>\n",
       "        <tr>\n",
       "            <td>Philippines  </td> <td>2002</td> <td>-0.314416  </td> <td>-0.523831   </td>\n",
       "        </tr>\n",
       "        <tr>\n",
       "            <td>Philippines  </td> <td>2003</td> <td>-0.311221  </td> <td>-0.508177   </td>\n",
       "        </tr>\n",
       "        <tr>\n",
       "            <td>Philippines  </td> <td>2004</td> <td>-0.314319  </td> <td>-0.477633   </td>\n",
       "        </tr>\n",
       "        <tr>\n",
       "            <td>Philippines  </td> <td>2005</td> <td>-0.309309  </td> <td>-0.414731   </td>\n",
       "        </tr>\n",
       "        <tr>\n",
       "            <td>Philippines  </td> <td>2006</td> <td>-0.250222  </td> <td>-0.32127    </td>\n",
       "        </tr>\n",
       "        <tr>\n",
       "            <td>Philippines  </td> <td>2007</td> <td>-0.195887  </td> <td>-0.248435   </td>\n",
       "        </tr>\n",
       "        <tr>\n",
       "            <td>Philippines  </td> <td>2008</td> <td>-0.138175  </td> <td>-0.149789   </td>\n",
       "        </tr>\n",
       "        <tr>\n",
       "            <td>Philippines  </td> <td>2009</td> <td>-0.114458  </td> <td>-0.0901828  </td>\n",
       "        </tr>\n",
       "        <tr>\n",
       "            <td>Philippines  </td> <td>2010</td> <td>-0.0370817 </td> <td>-0.0271155  </td>\n",
       "        </tr>\n",
       "        <tr>\n",
       "            <td>Philippines  </td> <td>2011</td> <td>0          </td> <td>0           </td>\n",
       "        </tr>\n",
       "        <tr>\n",
       "            <td>Philippines  </td> <td>2012</td> <td>0.0402245  </td> <td>0.0386627   </td>\n",
       "        </tr>\n",
       "        <tr>\n",
       "            <td>Philippines  </td> <td>2013</td> <td>0.101611   </td> <td>0.0905804   </td>\n",
       "        </tr>\n",
       "        <tr>\n",
       "            <td>Philippines  </td> <td>2014</td> <td>0.14207    </td> <td>0.14867     </td>\n",
       "        </tr>\n",
       "        <tr>\n",
       "            <td>Philippines  </td> <td>2015</td> <td>0.172581   </td> <td>0.183217    </td>\n",
       "        </tr>\n",
       "        <tr>\n",
       "            <td>Philippines  </td> <td>2016</td> <td>0.193601   </td> <td>0.215483    </td>\n",
       "        </tr>\n",
       "        <tr>\n",
       "            <td>Philippines  </td> <td>2017</td> <td>0.271391   </td> <td>0.316684    </td>\n",
       "        </tr>\n",
       "        <tr>\n",
       "            <td>Senegal      </td> <td>1990</td> <td>-0.0582757 </td> <td>-1.01898    </td>\n",
       "        </tr>\n",
       "        <tr>\n",
       "            <td>Senegal      </td> <td>1991</td> <td>-0.116188  </td> <td>-0.921469   </td>\n",
       "        </tr>\n",
       "        <tr>\n",
       "            <td>Senegal      </td> <td>1992</td> <td>-0.118433  </td> <td>-0.768524   </td>\n",
       "        </tr>\n",
       "        <tr>\n",
       "            <td>Senegal      </td> <td>1993</td> <td>-0.156285  </td> <td>-0.575956   </td>\n",
       "        </tr>\n",
       "        <tr>\n",
       "            <td>Senegal      </td> <td>1994</td> <td>-0.151899  </td> <td>-0.389352   </td>\n",
       "        </tr>\n",
       "        <tr>\n",
       "            <td>Senegal      </td> <td>1995</td> <td>-0.160193  </td> <td>-0.243628   </td>\n",
       "        </tr>\n",
       "        <tr>\n",
       "            <td>Senegal      </td> <td>1996</td> <td>-0.112615  </td> <td>-0.173534   </td>\n",
       "        </tr>\n",
       "        <tr>\n",
       "            <td>Senegal      </td> <td>1997</td> <td>-0.116006  </td> <td>-0.175308   </td>\n",
       "        </tr>\n",
       "        <tr>\n",
       "            <td>Senegal      </td> <td>1998</td> <td>-0.109671  </td> <td>-0.194382   </td>\n",
       "        </tr>\n",
       "        <tr>\n",
       "            <td>Senegal      </td> <td>1999</td> <td>-0.0453443 </td> <td>-0.21687    </td>\n",
       "        </tr>\n",
       "        <tr>\n",
       "            <td>Senegal      </td> <td>2000</td> <td>-0.0950837 </td> <td>-0.256955   </td>\n",
       "        </tr>\n",
       "        <tr>\n",
       "            <td>Senegal      </td> <td>2001</td> <td>-0.0772784 </td> <td>-0.286236   </td>\n",
       "        </tr>\n",
       "        <tr>\n",
       "            <td>Senegal      </td> <td>2002</td> <td>-0.103423  </td> <td>-0.311315   </td>\n",
       "        </tr>\n",
       "        <tr>\n",
       "            <td>Senegal      </td> <td>2003</td> <td>-0.0711812 </td> <td>-0.315051   </td>\n",
       "        </tr>\n",
       "        <tr>\n",
       "            <td>Senegal      </td> <td>2004</td> <td>-0.0721368 </td> <td>-0.295276   </td>\n",
       "        </tr>\n",
       "        <tr>\n",
       "            <td>Senegal      </td> <td>2005</td> <td>-0.0364341 </td> <td>-0.244092   </td>\n",
       "        </tr>\n",
       "        <tr>\n",
       "            <td>Senegal      </td> <td>2006</td> <td>-0.0459373 </td> <td>-0.175848   </td>\n",
       "        </tr>\n",
       "        <tr>\n",
       "            <td>Senegal      </td> <td>2007</td> <td>-0.019993  </td> <td>-0.123772   </td>\n",
       "        </tr>\n",
       "        <tr>\n",
       "            <td>Senegal      </td> <td>2008</td> <td>-0.0365521 </td> <td>-0.0690084  </td>\n",
       "        </tr>\n",
       "        <tr>\n",
       "            <td>Senegal      </td> <td>2009</td> <td>0.0132945  </td> <td>-0.0415658  </td>\n",
       "        </tr>\n",
       "        <tr>\n",
       "            <td>Senegal      </td> <td>2010</td> <td>0.0157235  </td> <td>-0.0165211  </td>\n",
       "        </tr>\n",
       "        <tr>\n",
       "            <td>Senegal      </td> <td>2011</td> <td>0          </td> <td>0           </td>\n",
       "        </tr>\n",
       "        <tr>\n",
       "            <td>Senegal      </td> <td>2012</td> <td>-0.0149843 </td> <td>0.00697387  </td>\n",
       "        </tr>\n",
       "        <tr>\n",
       "            <td>Senegal      </td> <td>2013</td> <td>0.00106218 </td> <td>0.0348067   </td>\n",
       "        </tr>\n",
       "        <tr>\n",
       "            <td>Senegal      </td> <td>2014</td> <td>0.0153915  </td> <td>0.0846473   </td>\n",
       "        </tr>\n",
       "        <tr>\n",
       "            <td>Senegal      </td> <td>2015</td> <td>0.03647    </td> <td>0.091246    </td>\n",
       "        </tr>\n",
       "        <tr>\n",
       "            <td>Senegal      </td> <td>2016</td> <td>0.0488144  </td> <td>0.11937     </td>\n",
       "        </tr>\n",
       "        <tr>\n",
       "            <td>Senegal      </td> <td>2017</td> <td>0.0601451  </td> <td>0.154644    </td>\n",
       "        </tr>\n",
       "        <tr>\n",
       "            <td>United States</td> <td>1990</td> <td>-0.387154  </td> <td>-0.493234   </td>\n",
       "        </tr>\n",
       "        <tr>\n",
       "            <td>United States</td> <td>1991</td> <td>-0.377107  </td> <td>-0.477365   </td>\n",
       "        </tr>\n",
       "        <tr>\n",
       "            <td>United States</td> <td>1992</td> <td>-0.342922  </td> <td>-0.471562   </td>\n",
       "        </tr>\n",
       "        <tr>\n",
       "            <td>United States</td> <td>1993</td> <td>-0.323178  </td> <td>-0.452598   </td>\n",
       "        </tr>\n",
       "        <tr>\n",
       "            <td>United States</td> <td>1994</td> <td>-0.307313  </td> <td>-0.439788   </td>\n",
       "        </tr>\n",
       "        <tr>\n",
       "            <td>United States</td> <td>1995</td> <td>-0.296004  </td> <td>-0.414977   </td>\n",
       "        </tr>\n",
       "        <tr>\n",
       "            <td>United States</td> <td>1996</td> <td>-0.273347  </td> <td>-0.400735   </td>\n",
       "        </tr>\n",
       "        <tr>\n",
       "            <td>United States</td> <td>1997</td> <td>-0.252633  </td> <td>-0.388677   </td>\n",
       "        </tr>\n",
       "        <tr>\n",
       "            <td>United States</td> <td>1998</td> <td>-0.224737  </td> <td>-0.360209   </td>\n",
       "        </tr>\n",
       "        <tr>\n",
       "            <td>United States</td> <td>1999</td> <td>-0.193062  </td> <td>-0.330286   </td>\n",
       "        </tr>\n",
       "        <tr>\n",
       "            <td>United States</td> <td>2000</td> <td>-0.164769  </td> <td>-0.298593   </td>\n",
       "        </tr>\n",
       "        <tr>\n",
       "            <td>United States</td> <td>2001</td> <td>-0.150476  </td> <td>-0.255708   </td>\n",
       "        </tr>\n",
       "        <tr>\n",
       "            <td>United States</td> <td>2002</td> <td>-0.126271  </td> <td>-0.221487   </td>\n",
       "        </tr>\n",
       "        <tr>\n",
       "            <td>United States</td> <td>2003</td> <td>-0.104583  </td> <td>-0.186873   </td>\n",
       "        </tr>\n",
       "        <tr>\n",
       "            <td>United States</td> <td>2004</td> <td>-0.0793593 </td> <td>-0.142212   </td>\n",
       "        </tr>\n",
       "        <tr>\n",
       "            <td>United States</td> <td>2005</td> <td>-0.0471196 </td> <td>-0.0877521  </td>\n",
       "        </tr>\n",
       "        <tr>\n",
       "            <td>United States</td> <td>2006</td> <td>-0.0447132 </td> <td>-0.0452788  </td>\n",
       "        </tr>\n",
       "        <tr>\n",
       "            <td>United States</td> <td>2007</td> <td>-0.0395772 </td> <td>-0.0271656  </td>\n",
       "        </tr>\n",
       "        <tr>\n",
       "            <td>United States</td> <td>2008</td> <td>-0.0457512 </td> <td>-0.0146876  </td>\n",
       "        </tr>\n",
       "        <tr>\n",
       "            <td>United States</td> <td>2009</td> <td>-0.0371589 </td> <td>0.00497123  </td>\n",
       "        </tr>\n",
       "        <tr>\n",
       "            <td>United States</td> <td>2010</td> <td>-0.00734156</td> <td>0.00217498  </td>\n",
       "        </tr>\n",
       "        <tr>\n",
       "            <td>United States</td> <td>2011</td> <td>0          </td> <td>0           </td>\n",
       "        </tr>\n",
       "        <tr>\n",
       "            <td>United States</td> <td>2012</td> <td>0.00575706 </td> <td>-0.000450719</td>\n",
       "        </tr>\n",
       "        <tr>\n",
       "            <td>United States</td> <td>2013</td> <td>0.0138452  </td> <td>0.0167085   </td>\n",
       "        </tr>\n",
       "        <tr>\n",
       "            <td>United States</td> <td>2014</td> <td>0.0256866  </td> <td>0.0433828   </td>\n",
       "        </tr>\n",
       "        <tr>\n",
       "            <td>United States</td> <td>2015</td> <td>0.041873   </td> <td>0.0544836   </td>\n",
       "        </tr>\n",
       "        <tr>\n",
       "            <td>United States</td> <td>2016</td> <td>0.0411111  </td> <td>0.0609196   </td>\n",
       "        </tr>\n",
       "        <tr>\n",
       "            <td>United States</td> <td>2017</td> <td>0.0537089  </td> <td>0.0774261   </td>\n",
       "        </tr>\n",
       "    </tbody>\n",
       "</table>"
      ],
      "text/plain": [
       "<IPython.core.display.HTML object>"
      ]
     },
     "metadata": {},
     "output_type": "display_data"
    }
   ],
   "source": [
    "### Your code here ###\n",
    "log_ratios = ...\n",
    "\n",
    "### Solution ###\n",
    "log_ratios = Table().with_columns(\"country\", indexed_data.column(\"country\"),\n",
    "                                  \"year\", indexed_data.column(\"year\"),\n",
    "                                  \"ln(Y/L)\", np.log(indexed_data.column(\"Indexed Y\")/indexed_data.column(\"Indexed L\")),\n",
    "                                  \"ln(K/L)\", np.log(indexed_data.column(\"Indexed K\")/indexed_data.column(\"Indexed L\")))\n",
    "###\n",
    "\n",
    "log_ratios.show()"
   ]
  },
  {
   "cell_type": "code",
   "execution_count": null,
   "metadata": {},
   "outputs": [],
   "source": [
    "grader.check(\"q3_2a\")"
   ]
  },
  {
   "cell_type": "code",
   "execution_count": null,
   "metadata": {},
   "outputs": [],
   "source": [
    "grader.check(\"q3_2aH\")"
   ]
  },
  {
   "cell_type": "markdown",
   "metadata": {
    "tags": [
     "gradable"
    ]
   },
   "source": [
    "<div class=\"alert alert-info\">\n",
    "    \n",
    "<h3>Question 3.2(b).</h3>\n",
    "Using the <code>country_table_scatter</code> function, plot the log ratios for each country from the <code>log_ratios</code> table below.\n",
    "</div>"
   ]
  },
  {
   "cell_type": "code",
   "execution_count": 26,
   "metadata": {},
   "outputs": [],
   "source": [
    "### Do not change the code below ###\n",
    "\n",
    "def country_table_scatter(data_table, columnX, columnY):\n",
    "    # First getting a list of all the countries in data_table\n",
    "    country_list = data_table.group(\"country\").column(\"country\")\n",
    "    \n",
    "    # For each country, creating a scatter plot of columnX vs. columnY\n",
    "    for country in country_list:\n",
    "        curr_data_table = data_table.where(\"country\", country)\n",
    "        curr_data_table.scatter(columnX, columnY)\n",
    "        plt.title(country)"
   ]
  },
  {
   "cell_type": "code",
   "execution_count": 27,
   "metadata": {
    "tags": [
     "gradable"
    ]
   },
   "outputs": [
    {
     "data": {
      "image/png": "[encoded data removed]",
      "text/plain": [
       "<Figure size 360x360 with 1 Axes>"
      ]
     },
     "metadata": {
      "needs_background": "light"
     },
     "output_type": "display_data"
    },
    {
     "data": {
      "image/png": "[encoded data removed]",
      "text/plain": [
       "<Figure size 360x360 with 1 Axes>"
      ]
     },
     "metadata": {
      "needs_background": "light"
     },
     "output_type": "display_data"
    },
    {
     "data": {
      "image/png": "[encoded data removed]",
      "text/plain": [
       "<Figure size 360x360 with 1 Axes>"
      ]
     },
     "metadata": {
      "needs_background": "light"
     },
     "output_type": "display_data"
    },
    {
     "data": {
      "image/png": "[encoded data removed]",
      "text/plain": [
       "<Figure size 360x360 with 1 Axes>"
      ]
     },
     "metadata": {
      "needs_background": "light"
     },
     "output_type": "display_data"
    }
   ],
   "source": [
    "### Your code here ###\n",
    "...\n",
    "\n",
    "### Solution ###\n",
    "country_table_scatter(log_ratios, \"ln(K/L)\", \"ln(Y/L)\")"
   ]
  },
  {
   "cell_type": "markdown",
   "metadata": {},
   "source": [
    "<div class=\"alert alert-info\">\n",
    "\n",
    "<h3>Extra Credit</h3>\n",
    "What do you notice about the scatter plot for the US? What could be a possible reason for this?\n",
    "</div>"
   ]
  },
  {
   "cell_type": "markdown",
   "metadata": {},
   "source": [
    "** Your answer here **"
   ]
  },
  {
   "cell_type": "markdown",
   "metadata": {},
   "source": [
    "To help you compare, the code below will plot all of the scatter plots on the same axis. Remember, the axes are in terms of logarithms. Thus, even small differences in slope or intercepts would yield big changes."
   ]
  },
  {
   "cell_type": "code",
   "execution_count": 28,
   "metadata": {},
   "outputs": [
    {
     "data": {
      "image/png": "[encoded data removed]",
      "text/plain": [
       "<Figure size 576x396 with 1 Axes>"
      ]
     },
     "metadata": {
      "needs_background": "light"
     },
     "output_type": "display_data"
    }
   ],
   "source": [
    "### Do not change the code below ###\n",
    "all_scatter(log_ratios, \"ln(K/L)\", \"ln(Y/L)\")"
   ]
  },
  {
   "cell_type": "markdown",
   "metadata": {},
   "source": [
    "Now, we want to make a linear approximation of the curves above. How will we do this? Through linear regression.\n",
    "\n",
    "We will be using Scikit-Learn's (Sk-learn) linear regression function to get the $\\alpha$ and $A$ values for each country. Here is the link to the documentation of the <a href = \"https://scikit-learn.org/stable/modules/generated/sklearn.linear_model.LinearRegression.html\"> function</a>: \n",
    "\n",
    "Let us break down how this function works by taking a look at the examples section of the documentation.\n",
    "``` \n",
    "import numpy as np\n",
    "from sklearn.linear_model import LinearRegression\n",
    "X = np.array([[1, 1], [1, 2], [2, 2], [2, 3]])\n",
    "# y = 1 * x_0 + 2 * x_1 + 3\n",
    "y = np.dot(X, np.array([1, 2])) + 3\n",
    "reg = LinearRegression().fit(X, y)\n",
    "```\n",
    "The ```LinearRegression()``` function creates a LinearRegression object that has many different functions that we will be using, mainly ```.fit()``` and attributes like ```.coef_``` and ```.intercept_```. The ```.fit(X, y)``` function fits a line using the ```X``` and ```y``` arrays passed into it.\n",
    "\n",
    "```\n",
    "reg.coef_\n",
    "array([1., 2.])\n",
    "reg.intercept_ \n",
    "3.0000...\n",
    "reg.predict(np.array([[3, 5]]))\n",
    "array([16.])\n",
    "```\n",
    "\n",
    "After we have fit a line to the data, we can then get the corresponding attributes that we need: the slope coefficient and intercept. Note: the above example uses the equation:\n",
    "\n",
    "$$\n",
    "y = ax_0 + bx_1 + c\n",
    "$$\n",
    "\n",
    "Its data is in 3 dimensions, $x_0$, $x_1$ and $y$. Thus, ```reg.coef_``` returns a two element array, as there are two slope coefficients for x_0 and x_1. ```reg.intercept_``` still returns the intercept of the fitted line.\n",
    "\n",
    "Our data is in 2 dimensions, x and y. Thus, the function will attempt to fit the following line for each country:\n",
    "\n",
    "$$\n",
    "y = a + bx\n",
    "$$\n",
    "\n",
    "The function will find the values of $a$ and $b$ that minimize the squared errors at each value of $x$. You don't need to know the specifics of this just yet. Your task will be to figure out what arrays should be passed in as $y$ and $x$. Furthermore, think about the relationship between $\\alpha$ and $A$ with regards to $a$ and $b$ from this linear regression fit."
   ]
  },
  {
   "cell_type": "markdown",
   "metadata": {
    "tags": [
     "gradable"
    ]
   },
   "source": [
    "<div class=\"alert alert-info\">\n",
    "\n",
    "<h3>Question 3.3a.</h3>\n",
    "Using Sklearn's Linear Regression function, fit the data taken from each country. Think about what should be passed into the <code>fit()</code> function. If you are confused about this, take a look at the sklearn <a href =\"https://scikit-learn.org/stable/modules/generated/sklearn.linear_model.LinearRegression.html#sklearn.linear_model.LinearRegression.fit\"> documentation</a> or the example above.        \n",
    "\n",
    "</div>"
   ]
  },
  {
   "cell_type": "code",
   "execution_count": 29,
   "metadata": {
    "tags": [
     "gradable"
    ]
   },
   "outputs": [],
   "source": [
    "### Create arrays of the data we will need from each country. ###\n",
    "### Think about which variable should be on each axis. ###\n",
    "\n",
    "china_x = ...\n",
    "china_y = ...\n",
    "us_x = ...\n",
    "us_y = ...\n",
    "country1_x = ...\n",
    "country1_y = ...\n",
    "country2_x = ...\n",
    "country2_y = ...\n",
    "\n",
    "### Solution ###\n",
    "\n",
    "china_x = log_ratios.where(\"country\", \"China\").column(\"ln(K/L)\")\n",
    "china_y = log_ratios.where(\"country\", \"China\").column(\"ln(Y/L)\")\n",
    "us_x = log_ratios.where(\"country\", \"United States\").column(\"ln(K/L)\")\n",
    "us_y = log_ratios.where(\"country\", \"United States\").column(\"ln(Y/L)\")\n",
    "country1_x = log_ratios.where(\"country\", \"Senegal\").column(\"ln(K/L)\")\n",
    "country1_y = log_ratios.where(\"country\", \"Senegal\").column(\"ln(Y/L)\")\n",
    "country2_x = log_ratios.where(\"country\", \"Philippines\").column(\"ln(K/L)\")\n",
    "country2_y = log_ratios.where(\"country\", \"Philippines\").column(\"ln(Y/L)\")\n",
    "\n",
    "### Do not change the code below ###\n",
    "\n",
    "model_china = LinearRegression().fit(china_x.reshape(-1, 1), china_y.reshape(-1, 1))\n",
    "model_us = LinearRegression().fit(us_x.reshape(-1, 1), us_y.reshape(-1, 1))\n",
    "model_country1 = LinearRegression().fit(country1_x.reshape(-1, 1), country1_y.reshape(-1, 1))\n",
    "model_country2 = LinearRegression().fit(country2_x.reshape(-1, 1), country2_y.reshape(-1, 1))"
   ]
  },
  {
   "cell_type": "code",
   "execution_count": 30,
   "metadata": {},
   "outputs": [
    {
     "data": {
      "text/html": [
       "\n",
       "    \n",
       "    \n",
       "        <p>All tests passed! Full grade.</p>\n",
       "    \n",
       "    "
      ],
      "text/plain": [
       "<gofer.ok.OKTestsResult at 0x1a1e45ad68>"
      ]
     },
     "execution_count": 30,
     "metadata": {},
     "output_type": "execute_result"
    }
   ],
   "source": [
    "grader.check(\"q3_3a\")"
   ]
  },
  {
   "cell_type": "code",
   "execution_count": 31,
   "metadata": {},
   "outputs": [
    {
     "data": {
      "text/html": [
       "\n",
       "    \n",
       "    \n",
       "        <p>All tests passed! Full grade.</p>\n",
       "    \n",
       "    "
      ],
      "text/plain": [
       "<gofer.ok.OKTestsResult at 0x1a1eb149e8>"
      ]
     },
     "execution_count": 31,
     "metadata": {},
     "output_type": "execute_result"
    }
   ],
   "source": [
    "grader.check(\"q3_3aH\")"
   ]
  },
  {
   "cell_type": "markdown",
   "metadata": {
    "tags": [
     "gradable"
    ]
   },
   "source": [
    "<div class=\"alert alert-info\">\n",
    "    \n",
    "<h3>Question 3.3b.</h3>\n",
    "Now that we have fit the data of each country, we can then retrieve the slope and intercept of each fit. Using the equation you derived in question 1.3., fill in the blanks in the print statements below such that they display the $\\alpha$ and $A$ values for each country. Note that you will need to transform at least one of the variables.\n",
    "</div>"
   ]
  },
  {
   "cell_type": "code",
   "execution_count": 32,
   "metadata": {
    "tags": [
     "gradable"
    ]
   },
   "outputs": [
    {
     "name": "stdout",
     "output_type": "stream",
     "text": [
      "China alpha value: Ellipsis\n",
      "United States alpha value: Ellipsis\n",
      "... alpha value: Ellipsis\n",
      "... alpha value: Ellipsis\n",
      "China alpha value: [[0.54916526]]\n",
      "United States alpha value: [[0.69166852]]\n",
      "Senegal alpha value: [[0.14339235]]\n",
      "Philippines alpha value: [[0.54050073]]\n"
     ]
    }
   ],
   "source": [
    "### Your code here ###\n",
    "\n",
    "print(f\"China alpha value: {...}\")\n",
    "print(f\"United States alpha value: {...}\")\n",
    "print(f\"... alpha value: {...}\")\n",
    "print(f\"... alpha value: {...}\")\n",
    "\n",
    "### Solution ###\n",
    "print(f\"China alpha value: {model_china.coef_}\")\n",
    "print(f\"United States alpha value: {model_us.coef_}\")\n",
    "print(f\"Senegal alpha value: {model_country1.coef_}\")\n",
    "print(f\"Philippines alpha value: {model_country2.coef_}\")"
   ]
  },
  {
   "cell_type": "code",
   "execution_count": 33,
   "metadata": {},
   "outputs": [
    {
     "name": "stdout",
     "output_type": "stream",
     "text": [
      "China A value: [0.92126063]\n",
      "United States A value: [0.9995846]\n",
      "Senegal A value: [0.97808331]\n",
      "Philippines A value: [1.01697701]\n"
     ]
    }
   ],
   "source": [
    "### Your code here ###\n",
    "\n",
    "print(f\"China A value: {np.exp(model_china.intercept_)}\")\n",
    "print(f\"United States A value: {np.exp(model_us.intercept_)}\")\n",
    "print(f\"Senegal A value: {np.exp(model_country1.intercept_)}\")\n",
    "print(f\"Philippines A value: {np.exp(model_country2.intercept_)}\")"
   ]
  },
  {
   "cell_type": "markdown",
   "metadata": {
    "tags": [
     "gradable"
    ]
   },
   "source": [
    "<div class=\"alert alert-info\">\n",
    "    \n",
    "<h3>Question 3.4.</h3>\n",
    "With reference to the $\\alpha$ and $A$ values for each of the countries you have examined, do they indicate about that country's ability to produce output as measured through GDP? Compare and contrast how each country allocates capital and labor when producing output. How about the role of technology or research and development? 3-4 sentences should suffice.\n",
    "</div>"
   ]
  },
  {
   "cell_type": "markdown",
   "metadata": {
    "tags": [
     "gradable"
    ]
   },
   "source": [
    "** Your answer here **"
   ]
  },
  {
   "cell_type": "markdown",
   "metadata": {},
   "source": [
    "# Congratulations! You've completed the project!"
   ]
  },
  {
   "cell_type": "markdown",
   "metadata": {},
   "source": [
    "# Submission"
   ]
  },
  {
   "cell_type": "markdown",
   "metadata": {},
   "source": [
    "To turn in this project, go to File > Download As, select Notebook and upload this .ipynb file to Gradescope under Project 1 Final Submission - Notebook. Then, go to File > Download As, select PDF via Chrome and upload that PDF to Gradescope under Project 1 Final Submission - PDF."
   ]
  }
 ],
 "metadata": {
  "kernelspec": {
   "display_name": "Python 3",
   "language": "python",
   "name": "python3"
  },
  "language_info": {
   "codemirror_mode": {
    "name": "ipython",
    "version": 3
   },
   "file_extension": ".py",
   "mimetype": "text/x-python",
   "name": "python",
   "nbconvert_exporter": "python",
   "pygments_lexer": "ipython3",
   "version": "3.7.1"
  }
 },
 "nbformat": 4,
 "nbformat_minor": 2
}
