{
 "cells": [
  {
   "cell_type": "markdown",
   "metadata": {},
   "source": [
    "Throughout this question, we will be working with the same dataset that you had been using in Project 1. Assume that the Cobb-Douglas Production Function we will be using is of the following form: $F(A, K, L) = AK^\\alpha L^{\\beta}$, for $\\alpha <= 1$ and $\\beta <= 1$."
   ]
  },
  {
   "cell_type": "markdown",
   "metadata": {},
   "source": [
    "**Question 1.1.** Prove that our function exhibits diminishing returns to scale if $\\alpha + \\beta < 1$."
   ]
  },
  {
   "cell_type": "markdown",
   "metadata": {},
   "source": []
  },
  {
   "cell_type": "markdown",
   "metadata": {},
   "source": [
    "**Question 1.2.** Write out an expression for the marginal product of capital of our production function."
   ]
  },
  {
   "cell_type": "markdown",
   "metadata": {},
   "source": []
  },
  {
   "cell_type": "markdown",
   "metadata": {},
   "source": [
    "**Bonus** Why do economists assume that countries exhibit constant or diminishing returns to scale? In other words, why do we make the simplification that $\\alpha + \\beta = 1$?"
   ]
  },
  {
   "cell_type": "markdown",
   "metadata": {},
   "source": []
  },
  {
   "cell_type": "markdown",
   "metadata": {},
   "source": [
    "**Question 1.3.** In the space below, use your answer to Question 1.2. to fill out the function below. If an A, alpha or beta value is provided, the function should use that value. Otherwise, it should default to ```A``` = 1, `alpha` = 0.5 and `beta` = 0.5."
   ]
  },
  {
   "cell_type": "markdown",
   "metadata": {},
   "source": [
    "`def MPK_calculator(K, L, A, alpha, beta):\n",
    "        return ...\n",
    "`"
   ]
  },
  {
   "cell_type": "code",
   "execution_count": null,
   "metadata": {},
   "outputs": [],
   "source": [
    "### Solution\n",
    "def MPK_calculator(K, L, A = 1, alpha = 0.5, beta = 0.5):\n",
    "    return alpha * A * (L / K) ** (1 - alpha)"
   ]
  },
  {
   "cell_type": "code",
   "execution_count": null,
   "metadata": {},
   "outputs": [],
   "source": [
    "from utils import *\n",
    "import pandas as pd\n",
    "from datascience import *\n",
    "import matplotlib.pyplot as plt\n",
    "import numpy as np \n",
    "%matplotlib inline\n",
    "plt.style.use(\"seaborn-notebook\")"
   ]
  },
  {
   "cell_type": "code",
   "execution_count": null,
   "metadata": {},
   "outputs": [],
   "source": [
    "file_name = \"pwt91.csv\"\n",
    "data = to_table(file_name)\n",
    "data.show(5)"
   ]
  },
  {
   "cell_type": "markdown",
   "metadata": {},
   "source": [
    "**Question 1.4.** Create a table called ```subset_1970_1990``` that only contains rows of countries that do not have ```-1``` in any of the columns, for the time period between 1970 and 1990, inclusive. ```subset_1970_1990``` should have only 5 columns: ```country```, ```year```, ```rgdpe```, ```emp``` and ```ck```."
   ]
  },
  {
   "cell_type": "markdown",
   "metadata": {},
   "source": [
    "**Question 1.4(a).** Filter out all columns other than the 5 that should remain in ```subset_1970_1990```. Additionally, remove all rows containing years that fall outside of the time period we are interested in. Call this filtered table ```selected_years```."
   ]
  },
  {
   "cell_type": "markdown",
   "metadata": {},
   "source": []
  },
  {
   "cell_type": "code",
   "execution_count": null,
   "metadata": {},
   "outputs": [],
   "source": [
    "### Solution\n",
    "selected_years = data.select(\"country\", \"year\", \"rgdpe\", \"emp\", \"ck\").where(\"year\", are.between(1970, 1990))"
   ]
  },
  {
   "cell_type": "markdown",
   "metadata": {},
   "source": [
    "**Question 1.4(b).** Create an array called ```selected_countries``` containing the countries that do not have a `-1` in any column within ```selected_years```."
   ]
  },
  {
   "cell_type": "markdown",
   "metadata": {},
   "source": []
  },
  {
   "cell_type": "code",
   "execution_count": null,
   "metadata": {},
   "outputs": [],
   "source": [
    "### Solution\n",
    "min_cols = selected_years.group(\"country\", min)\n",
    "selected_countries = min_cols.where(\"rgdpe min\", are.above(-1)).where(\"emp min\", are.above(-1)).where(\"ck min\", are.above(-1)).column(\"country\")"
   ]
  },
  {
   "cell_type": "markdown",
   "metadata": {},
   "source": [
    "**Question 1.4(c).** Use ```selected_countries``` and ```selected_years``` to create ```subset_1970_1990```."
   ]
  },
  {
   "cell_type": "markdown",
   "metadata": {},
   "source": [
    "..."
   ]
  },
  {
   "cell_type": "code",
   "execution_count": null,
   "metadata": {},
   "outputs": [],
   "source": [
    "### Solution\n",
    "subset_1970_1990 = selected_years.where(\"country\", are.contained_in(selected_countries))\n",
    "subset_1970_1990.show(5)"
   ]
  },
  {
   "cell_type": "markdown",
   "metadata": {},
   "source": [
    "**Question 1.5.** Now assume that all countries during this period exhibit constant returns to scale. Additionally, your friend has kindly ran a series of regressions that give you estimates of $\\alpha$ and $A$ for all of the countries in ```subset_1970_1990``` during the specified  time period. This table is called ```param_estimates``` and has 3 columns: ```country```, ```fitted alpha``` and ```fitted A```. The first 3 rows of ```param_estimates``` are shown below:\n",
    "\n",
    "| country   | fitted alpha | fitted A |\n",
    "|-----------|--------------|----------|\n",
    "| Argentina | 0.5287       | 0.9538   |\n",
    "| Australia | 0.5728       | 0.9634   | \n",
    "| Austria   | 0.4996       | 0.9209   |\n",
    "... (71 rows omitted)\n",
    "\n",
    "Use the space below to write out code that incorporates the above information into ```subset_1970_1990```."
   ]
  },
  {
   "cell_type": "markdown",
   "metadata": {},
   "source": [
    "..."
   ]
  },
  {
   "cell_type": "code",
   "execution_count": null,
   "metadata": {},
   "outputs": [],
   "source": [
    "### Solution\n",
    "subset_1970_1990.join(\"country\", param_estimates)"
   ]
  },
  {
   "cell_type": "markdown",
   "metadata": {},
   "source": [
    "**Question 1.6.** Using the function you filled out in Question 1.3., calculate the MPK for each row in ```subset_1970_1990```. Add the results to ```subset_1970_1990``` as a column called ```MPK```."
   ]
  },
  {
   "cell_type": "markdown",
   "metadata": {},
   "source": [
    "..."
   ]
  },
  {
   "cell_type": "code",
   "execution_count": null,
   "metadata": {},
   "outputs": [],
   "source": [
    "### Solution\n",
    "MPK_vals = subset_1970_1990.apply(MPK_calculator, \"ck\", \"emp\", \"fitted A\", \"fitted alpha\", None)\n",
    "subset_1970_1990.with_columns(\"MPK\", MPK_vals)"
   ]
  },
  {
   "cell_type": "markdown",
   "metadata": {},
   "source": [
    "**Question 1.7.** It's time to analyze ```subset_1970_1990```! The first few rows of the table are displayed below:\n",
    "\n",
    "| country   | year | rgdpe   | emp     | ck         | fitted alpha | fitted A | MPK     |\n",
    "|-----------|------|---------|---------|------------|--------------|----------|---------|\n",
    "| Argentina | 1970 | 87416.4 | 9.16764 | 0.0068323  | 0.5287       | 0.9538   | 15.0563 |\n",
    "| Argentina | 1971 | 91185.8 | 9.25218 | 0.0069461  | 0.5287       | 0.9538   | 15.0179 |\n",
    "| Argentina | 1972 | 93362.2 | 9.34087 | 0.0070483  | 0.5287       | 0.9538   | 14.8837 |\n",
    "... (1477 rows omitted)\n",
    "\n",
    "Why is MPK decreasing steadily over time for Argentina? Your answer should refer to the equation you derived in 1.2 as well as the inputs to production K and L. Hint: If you are unsure of where to start, graph MPK as a function of capital stock, holding the labor force constant."
   ]
  },
  {
   "cell_type": "markdown",
   "metadata": {},
   "source": []
  }
 ],
 "metadata": {
  "kernelspec": {
   "display_name": "Python 3",
   "language": "python",
   "name": "python3"
  },
  "language_info": {
   "codemirror_mode": {
    "name": "ipython",
    "version": 3
   },
   "file_extension": ".py",
   "mimetype": "text/x-python",
   "name": "python",
   "nbconvert_exporter": "python",
   "pygments_lexer": "ipython3",
   "version": "3.7.1"
  }
 },
 "nbformat": 4,
 "nbformat_minor": 2
}
