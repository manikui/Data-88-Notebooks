{
 "cells": [
  {
   "cell_type": "code",
   "execution_count": 2,
   "metadata": {},
   "outputs": [],
   "source": [
    "import pandas as pd\n",
    "from datascience import *\n",
    "from sympy import *\n",
    "import matplotlib.pyplot as plt\n",
    "import numpy as np \n",
    "import seaborn as sns\n",
    "from sklearn.linear_model import LinearRegression\n",
    "%matplotlib inline\n",
    "plt.style.use(\"seaborn-muted\")"
   ]
  },
  {
   "cell_type": "markdown",
   "metadata": {},
   "source": [
    "We would like to thank Professor Raymond Hawkins for his Economics 100B Problem Set that served as the basis for this assignment."
   ]
  },
  {
   "cell_type": "markdown",
   "metadata": {},
   "source": [
    "# Project 1: Modeling Macroeconomic Variables using the Cobb-Douglas Production Function"
   ]
  },
  {
   "cell_type": "markdown",
   "metadata": {},
   "source": [
    "The goal of this homework is to gain experience the following steps of data science:\n",
    "\n",
    "1. Downloading and converting raw data files into a format that you can interact with\n",
    "2. Identifying and visualizing overall trends in the data using a process called Exploratory Data Analysis or EDA\n",
    "3. Using the data to complete a problem of prediction\n",
    "\n",
    "We hope that at the end of this, you will see how the skills that you have learned in Data 8 and this class can prepare for dealing with real world datasets, and how you can investigate them to answer questions."
   ]
  },
  {
   "cell_type": "markdown",
   "metadata": {},
   "source": [
    "The question you will be answering today is the following: How can we apply the Cobb-Douglas Production Function to understand the different ways countries produce output or GDP?"
   ]
  },
  {
   "cell_type": "markdown",
   "metadata": {},
   "source": [
    "# Part 1: Getting the data and simplifying the problem"
   ]
  },
  {
   "cell_type": "markdown",
   "metadata": {},
   "source": [
    "In almost all cases in industry, and later on in this class, you will have to find the dataset that can answer the question that you are trying to solve. However, as we are introducing you to this process, we will be providing the link to such a dataset."
   ]
  },
  {
   "cell_type": "markdown",
   "metadata": {},
   "source": [
    "The dataset we will be using today is called \"Penn World Table\" (PWT) and was compiled by the University of Groningen. It catalogues information on relative levels of income, output, input and productivity for 182 countries between 1950 and 2017.\n",
    "\n",
    "Your task:\n",
    "1. Go to: https://www.rug.nl/ggdc/productivity/pwt/ and download the Excel datafile.\n",
    "2. Open the excel file and convert the \"Data\" sheet to a .csv file (Comma Seperated Value).\n",
    "3. Place this file in the same folder as this Notebook.\n",
    "4. Edit the line ```file_name``` such that it matches the name of the .csv file.\n",
    "5. Run the code cell below."
   ]
  },
  {
   "cell_type": "code",
   "execution_count": 3,
   "metadata": {},
   "outputs": [],
   "source": [
    "### Edit the line below ###\n",
    "file_name = ...\n",
    "\n",
    "### Solution ###\n",
    "file_name = \"pwt91.csv\"\n",
    "\n",
    "### Do not change the line below ###\n",
    "data = Table().read_table(file_name, engine='python')"
   ]
  },
  {
   "cell_type": "markdown",
   "metadata": {},
   "source": [
    "Congratulations! You have converted an online dataset into a datatable that you can explore and manipulate in Python! Now, this dataset is saved under the table called ```data```. Look at the first 5 lines below:"
   ]
  },
  {
   "cell_type": "code",
   "execution_count": 4,
   "metadata": {},
   "outputs": [
    {
     "data": {
      "text/html": [
       "<table border=\"1\" class=\"dataframe\">\n",
       "    <thead>\n",
       "        <tr>\n",
       "            <th>countrycode</th> <th>country</th> <th>currency_unit</th> <th>year</th> <th>rgdpe</th> <th>rgdpo</th> <th>pop</th> <th>emp</th> <th>avh</th> <th>hc</th> <th>ccon</th> <th>cda</th> <th>cgdpe</th> <th>cgdpo</th> <th>cn</th> <th>ck</th> <th>ctfp</th> <th>cwtfp</th> <th>rgdpna</th> <th>rconna</th> <th>rdana</th> <th>rnna</th> <th>rkna</th> <th>rtfpna</th> <th>rwtfpna</th> <th>labsh</th> <th>irr</th> <th>delta</th> <th>xr</th> <th>pl_con</th> <th>pl_da</th> <th>pl_gdpo</th> <th>i_cig</th> <th>i_xm</th> <th>i_xr</th> <th>i_outlier</th> <th>i_irr</th> <th>cor_exp</th> <th>statcap</th> <th>csh_c</th> <th>csh_i</th> <th>csh_g</th> <th>csh_x</th> <th>csh_m</th> <th>csh_r</th> <th>pl_c</th> <th>pl_i</th> <th>pl_g</th> <th>pl_x</th> <th>pl_m</th> <th>pl_n</th> <th>pl_k</th>\n",
       "        </tr>\n",
       "    </thead>\n",
       "    <tbody>\n",
       "        <tr>\n",
       "            <td>ABW        </td> <td>Aruba  </td> <td>Aruban Guilder</td> <td>1950</td> <td>nan  </td> <td>nan  </td> <td>nan </td> <td>nan </td> <td>nan </td> <td>nan </td> <td>nan </td> <td>nan </td> <td>nan  </td> <td>nan  </td> <td>nan </td> <td>nan </td> <td>nan </td> <td>nan  </td> <td>nan   </td> <td>nan   </td> <td>nan  </td> <td>nan </td> <td>nan </td> <td>nan   </td> <td>nan    </td> <td>nan  </td> <td>nan </td> <td>nan  </td> <td>nan </td> <td>nan   </td> <td>nan  </td> <td>nan    </td> <td>nan  </td> <td>nan </td> <td>nan </td> <td>nan      </td> <td>nan  </td> <td>nan    </td> <td>nan    </td> <td>nan  </td> <td>nan  </td> <td>nan  </td> <td>nan  </td> <td>nan  </td> <td>nan  </td> <td>nan </td> <td>nan </td> <td>nan </td> <td>nan </td> <td>nan </td> <td>nan </td> <td>nan </td>\n",
       "        </tr>\n",
       "        <tr>\n",
       "            <td>ABW        </td> <td>Aruba  </td> <td>Aruban Guilder</td> <td>1951</td> <td>nan  </td> <td>nan  </td> <td>nan </td> <td>nan </td> <td>nan </td> <td>nan </td> <td>nan </td> <td>nan </td> <td>nan  </td> <td>nan  </td> <td>nan </td> <td>nan </td> <td>nan </td> <td>nan  </td> <td>nan   </td> <td>nan   </td> <td>nan  </td> <td>nan </td> <td>nan </td> <td>nan   </td> <td>nan    </td> <td>nan  </td> <td>nan </td> <td>nan  </td> <td>nan </td> <td>nan   </td> <td>nan  </td> <td>nan    </td> <td>nan  </td> <td>nan </td> <td>nan </td> <td>nan      </td> <td>nan  </td> <td>nan    </td> <td>nan    </td> <td>nan  </td> <td>nan  </td> <td>nan  </td> <td>nan  </td> <td>nan  </td> <td>nan  </td> <td>nan </td> <td>nan </td> <td>nan </td> <td>nan </td> <td>nan </td> <td>nan </td> <td>nan </td>\n",
       "        </tr>\n",
       "        <tr>\n",
       "            <td>ABW        </td> <td>Aruba  </td> <td>Aruban Guilder</td> <td>1952</td> <td>nan  </td> <td>nan  </td> <td>nan </td> <td>nan </td> <td>nan </td> <td>nan </td> <td>nan </td> <td>nan </td> <td>nan  </td> <td>nan  </td> <td>nan </td> <td>nan </td> <td>nan </td> <td>nan  </td> <td>nan   </td> <td>nan   </td> <td>nan  </td> <td>nan </td> <td>nan </td> <td>nan   </td> <td>nan    </td> <td>nan  </td> <td>nan </td> <td>nan  </td> <td>nan </td> <td>nan   </td> <td>nan  </td> <td>nan    </td> <td>nan  </td> <td>nan </td> <td>nan </td> <td>nan      </td> <td>nan  </td> <td>nan    </td> <td>nan    </td> <td>nan  </td> <td>nan  </td> <td>nan  </td> <td>nan  </td> <td>nan  </td> <td>nan  </td> <td>nan </td> <td>nan </td> <td>nan </td> <td>nan </td> <td>nan </td> <td>nan </td> <td>nan </td>\n",
       "        </tr>\n",
       "        <tr>\n",
       "            <td>ABW        </td> <td>Aruba  </td> <td>Aruban Guilder</td> <td>1953</td> <td>nan  </td> <td>nan  </td> <td>nan </td> <td>nan </td> <td>nan </td> <td>nan </td> <td>nan </td> <td>nan </td> <td>nan  </td> <td>nan  </td> <td>nan </td> <td>nan </td> <td>nan </td> <td>nan  </td> <td>nan   </td> <td>nan   </td> <td>nan  </td> <td>nan </td> <td>nan </td> <td>nan   </td> <td>nan    </td> <td>nan  </td> <td>nan </td> <td>nan  </td> <td>nan </td> <td>nan   </td> <td>nan  </td> <td>nan    </td> <td>nan  </td> <td>nan </td> <td>nan </td> <td>nan      </td> <td>nan  </td> <td>nan    </td> <td>nan    </td> <td>nan  </td> <td>nan  </td> <td>nan  </td> <td>nan  </td> <td>nan  </td> <td>nan  </td> <td>nan </td> <td>nan </td> <td>nan </td> <td>nan </td> <td>nan </td> <td>nan </td> <td>nan </td>\n",
       "        </tr>\n",
       "        <tr>\n",
       "            <td>ABW        </td> <td>Aruba  </td> <td>Aruban Guilder</td> <td>1954</td> <td>nan  </td> <td>nan  </td> <td>nan </td> <td>nan </td> <td>nan </td> <td>nan </td> <td>nan </td> <td>nan </td> <td>nan  </td> <td>nan  </td> <td>nan </td> <td>nan </td> <td>nan </td> <td>nan  </td> <td>nan   </td> <td>nan   </td> <td>nan  </td> <td>nan </td> <td>nan </td> <td>nan   </td> <td>nan    </td> <td>nan  </td> <td>nan </td> <td>nan  </td> <td>nan </td> <td>nan   </td> <td>nan  </td> <td>nan    </td> <td>nan  </td> <td>nan </td> <td>nan </td> <td>nan      </td> <td>nan  </td> <td>nan    </td> <td>nan    </td> <td>nan  </td> <td>nan  </td> <td>nan  </td> <td>nan  </td> <td>nan  </td> <td>nan  </td> <td>nan </td> <td>nan </td> <td>nan </td> <td>nan </td> <td>nan </td> <td>nan </td> <td>nan </td>\n",
       "        </tr>\n",
       "    </tbody>\n",
       "</table>\n",
       "<p>... (12371 rows omitted)</p>"
      ],
      "text/plain": [
       "<IPython.core.display.HTML object>"
      ]
     },
     "metadata": {},
     "output_type": "display_data"
    }
   ],
   "source": [
    "data.show(5)"
   ]
  },
  {
   "cell_type": "markdown",
   "metadata": {},
   "source": [
    "There are a lot of data columns in the table. As we will be using the Cobb-Douglas Production Function, think about what variables are needed in the equation, and which ones we can take from the table. This is an important part of the data science process: understanding the dataset that you are using. Most real-world datasets provide documentation listing the definitions and equations underlying each variable. \n",
    "\n",
    "PWT provides this and has identified three variables that will be helpful to us:\n",
    "1. cn => Capital Stock in millions of USD\n",
    "2. cgdpe => Expenditure-side Real GDP in millions of USD\n",
    "3. emp => Number of Persons employed in millions"
   ]
  },
  {
   "cell_type": "markdown",
   "metadata": {},
   "source": [
    "<div class=\"alert alert-info\">\n",
    "    \n",
    "<h3> Question 1.1. </h3>\n",
    "In the cell below list the variables used in the Cobb-Douglas that are missing from the dataset. What does each variable tell about how output is produced?\n",
    "</div>"
   ]
  },
  {
   "cell_type": "markdown",
   "metadata": {
    "tags": [
     "gradable"
    ]
   },
   "source": [
    "** Your answer here **"
   ]
  },
  {
   "cell_type": "markdown",
   "metadata": {},
   "source": [
    "<div class=\"alert alert-info\">\n",
    "    \n",
    "<h3> Question 1.2. </h3>\n",
    "Remove all columns except for <code>cn</code>, <code>rgdpe</code>, <code>emp</code>, <code>country</code> and <code>year</code> from <code>data</code>. Ensure that <code>country</code> and <code>year</code> are the two left-most columns. Call the new table <code>cleaned_data</code> and display its first few rows. Rename the <code>cn</code> column to <code>Capital Stock</code>, <code>cgdpe</code> to <code>Real GDP</code> and <code>emp</code> to <code>Labor Force</code>. Do not be afraid if you see a lot of <code>nan</code> values - it just means there is no data for that country-year.\n",
    "</div>"
   ]
  },
  {
   "cell_type": "code",
   "execution_count": 5,
   "metadata": {
    "tags": [
     "gradable"
    ]
   },
   "outputs": [
    {
     "data": {
      "text/html": [
       "<table border=\"1\" class=\"dataframe\">\n",
       "    <thead>\n",
       "        <tr>\n",
       "            <th>country</th> <th>year</th> <th>Capital Stock</th> <th>Real GDP</th> <th>Labor Force</th>\n",
       "        </tr>\n",
       "    </thead>\n",
       "    <tbody>\n",
       "        <tr>\n",
       "            <td>Aruba  </td> <td>1950</td> <td>nan          </td> <td>nan     </td> <td>nan        </td>\n",
       "        </tr>\n",
       "        <tr>\n",
       "            <td>Aruba  </td> <td>1951</td> <td>nan          </td> <td>nan     </td> <td>nan        </td>\n",
       "        </tr>\n",
       "        <tr>\n",
       "            <td>Aruba  </td> <td>1952</td> <td>nan          </td> <td>nan     </td> <td>nan        </td>\n",
       "        </tr>\n",
       "        <tr>\n",
       "            <td>Aruba  </td> <td>1953</td> <td>nan          </td> <td>nan     </td> <td>nan        </td>\n",
       "        </tr>\n",
       "        <tr>\n",
       "            <td>Aruba  </td> <td>1954</td> <td>nan          </td> <td>nan     </td> <td>nan        </td>\n",
       "        </tr>\n",
       "    </tbody>\n",
       "</table>\n",
       "<p>... (12371 rows omitted)</p>"
      ],
      "text/plain": [
       "<IPython.core.display.HTML object>"
      ]
     },
     "metadata": {},
     "output_type": "display_data"
    }
   ],
   "source": [
    "### Your code here ###\n",
    "cleaned_data = ...\n",
    "\n",
    "### Solution ###\n",
    "cleaned_data = data.select(\"country\", \"year\", \"cn\", \"cgdpe\", \"emp\")\n",
    "cleaned_data.relabel(\"cn\", \"Capital Stock\").relabel(\"cgdpe\", \"Real GDP\").relabel(\"emp\", \"Labor Force\")\n",
    "###\n",
    "\n",
    "cleaned_data.show(5)"
   ]
  },
  {
   "cell_type": "markdown",
   "metadata": {},
   "source": [
    "Our goal will be to predict what these variables are for each of the countries that we will be examining. From these, we will be able to compare how output is produced in each of these countries. The question is, how can we use the Cobb-Douglas equation to solve for the missing variables? An easy way would be to take the natural log of the equation, making it linear. We can then rewrite the log-linear version of the equation in the slope-intercept format, providing us with ways to quantify $\\alpha$ and $A$."
   ]
  },
  {
   "cell_type": "markdown",
   "metadata": {},
   "source": [
    "<div class=\"alert alert-info\">\n",
    "\n",
    "<h3>Question 1.3.</h3>\n",
    "In the cell below, using LaTeX, take the natural log of the Cobb-Douglas Production Function. Rewrite in slope-intercept format. Write down your observations about this equation below your work.\n",
    "</div>"
   ]
  },
  {
   "cell_type": "markdown",
   "metadata": {
    "tags": [
     "gradable"
    ]
   },
   "source": [
    "** Your answer here **"
   ]
  },
  {
   "cell_type": "markdown",
   "metadata": {},
   "source": [
    "Solution: They see this relationship in the data. Then, they see the intercept to be A and the slope to be $\\alpha$.\n",
    "$$\n",
    "\\ln(Y) = \\ln(A) + \\alpha \\ln(K) + (1 - \\alpha) \\ln(L) \\\\\n",
    "\\ln(Y) = \\ln(A) + \\alpha \\left ( \\ln(K) - \\ln(L) \\right ) + \\ln(L) \\\\\n",
    "\\ln \\left (\\dfrac{Y}{L} \\right ) = \\ln(A) + \\alpha \\ln \\left ( \\dfrac{K}{L} \\right )\n",
    "$$\n",
    "From there, they can do this for all the countries then compare their values."
   ]
  },
  {
   "cell_type": "markdown",
   "metadata": {},
   "source": [
    "# Part 2: Exploring the Data"
   ]
  },
  {
   "cell_type": "markdown",
   "metadata": {},
   "source": [
    "Now we are going to visualize trends in each of the variables for different countries."
   ]
  },
  {
   "cell_type": "markdown",
   "metadata": {},
   "source": [
    "<div class=\"alert alert-info\">\n",
    "    \n",
    "<h3>Question 2.1.</h3> \n",
    "Create a table of GDP, Capital Stock and Labor for the USA from 1990 to 2017. Do the same for China and two other countries of your choice. Place all of this data in one table called <code>comparison_data</code>.\n",
    "</div>"
   ]
  },
  {
   "cell_type": "code",
   "execution_count": 40,
   "metadata": {
    "tags": [
     "gradable"
    ]
   },
   "outputs": [
    {
     "data": {
      "text/html": [
       "<table border=\"1\" class=\"dataframe\">\n",
       "    <thead>\n",
       "        <tr>\n",
       "            <th>country</th> <th>year</th> <th>Capital Stock</th> <th>Real GDP</th> <th>Labor Force</th>\n",
       "        </tr>\n",
       "    </thead>\n",
       "    <tbody>\n",
       "        <tr>\n",
       "            <td>Austria</td> <td>1990</td> <td>711125       </td> <td>193506  </td> <td>3.56034    </td>\n",
       "        </tr>\n",
       "        <tr>\n",
       "            <td>Austria</td> <td>1991</td> <td>751434       </td> <td>205200  </td> <td>3.59103    </td>\n",
       "        </tr>\n",
       "        <tr>\n",
       "            <td>Austria</td> <td>1992</td> <td>791122       </td> <td>213520  </td> <td>3.59443    </td>\n",
       "        </tr>\n",
       "        <tr>\n",
       "            <td>Austria</td> <td>1993</td> <td>842606       </td> <td>218250  </td> <td>3.57332    </td>\n",
       "        </tr>\n",
       "        <tr>\n",
       "            <td>Austria</td> <td>1994</td> <td>892193       </td> <td>227395  </td> <td>3.58372    </td>\n",
       "        </tr>\n",
       "    </tbody>\n",
       "</table>\n",
       "<p>... (103 rows omitted)</p>"
      ],
      "text/plain": [
       "<IPython.core.display.HTML object>"
      ]
     },
     "metadata": {},
     "output_type": "display_data"
    }
   ],
   "source": [
    "### Your code here ###\n",
    "\n",
    "comparison_data = ...\n",
    "\n",
    "### Solution ###\n",
    "countries = [\"Austria\", \"United States\", \"China\", \"Philippines\"]\n",
    "comparison_data = cleaned_data.where(\"country\", are.contained_in(countries)).where(\"year\", are.between(1990, 2017))\n",
    "comparison_data.show(5)"
   ]
  },
  {
   "cell_type": "markdown",
   "metadata": {},
   "source": [
    "<div class=\"alert alert-info\">\n",
    "    \n",
    "<h3>Question 2.2.</h3>\n",
    "To help us in later questions, fill in the blanks in the <code>country_table_plotter</code> function below. Its inputs will be a table of the form <code>comparison_data</code> and the names of the two columns plotted, <code>columnX</code> and <code>columnY</code> <code>country_table_plotter</code> will plot <code>columnX</code> versus <code>columnY</code> for all the countries contained in <code>data_table</code>.\n",
    "</div>"
   ]
  },
  {
   "cell_type": "code",
   "execution_count": 41,
   "metadata": {
    "tags": [
     "gradable"
    ]
   },
   "outputs": [],
   "source": [
    "def country_table_plotter(data_table, columnX, columnY):\n",
    "    \"\"\"Create one table containing two columns: columnX and columnY, for each country in data_table.\n",
    "    Save these data tables in a dictionary named country_dictionary where the key is the name of the country, \n",
    "    as per data_table and the value is the data table for that country.\"\"\"\n",
    "    \n",
    "    ### Your code here ###\n",
    "    country_list = []\n",
    "    country_dictionary = {}\n",
    "    \n",
    "    ### Solution ###\n",
    "    country_list = data_table.group(\"country\").column(\"country\")\n",
    "    for country in country_list:\n",
    "        curr_data_table = data_table.where(\"country\", country)\n",
    "        country_dictionary[country] = curr_data_table.select(columnX, columnY)\n",
    "    ###\n",
    "    \n",
    "    ### Do not change the following code ###\n",
    "    for country in country_dictionary.keys():\n",
    "        curr_data_table = country_dictionary[country]\n",
    "        plt.plot(curr_data_table[columnX], curr_data_table[columnY], label = country, linewidth = 1)\n",
    "    plt.legend()\n",
    "    plt.xlabel(str(columnX))\n",
    "    plt.ylabel(str(columnY))"
   ]
  },
  {
   "cell_type": "markdown",
   "metadata": {},
   "source": [
    "<div class=\"alert alert-info\">\n",
    "    \n",
    "<h3>Question 2.3.</h3>\n",
    "Produce a plot of time and capital stock for the countries in your table. In the markdown cell below, identify differences between the countries and discuss what surprised you.\n",
    "</div>"
   ]
  },
  {
   "cell_type": "code",
   "execution_count": 42,
   "metadata": {
    "tags": [
     "gradable"
    ]
   },
   "outputs": [
    {
     "data": {
      "image/png": "[encoded data removed]",
      "text/plain": [
       "<Figure size 432x288 with 1 Axes>"
      ]
     },
     "metadata": {
      "needs_background": "light"
     },
     "output_type": "display_data"
    }
   ],
   "source": [
    "### Your code here ###\n",
    "\n",
    "### Solution ###\n",
    "country_table_plotter(comparison_data, \"year\", \"Capital Stock\")"
   ]
  },
  {
   "cell_type": "markdown",
   "metadata": {
    "tags": [
     "gradable"
    ]
   },
   "source": [
    "- United States:\n",
    "\n",
    "- China:\n",
    "\n",
    "- Your Country:\n",
    "\n",
    "- Your Country:"
   ]
  },
  {
   "cell_type": "markdown",
   "metadata": {},
   "source": [
    "<div class=\"alert alert-info\">\n",
    "    \n",
    "<h3>Question 2.4.</h3>\n",
    "Produce a similar plot, but this time of time and labor for the countries in your table. In the markdown cell below, identify differences between the countries and discuss what surprised you.\n",
    "</div>"
   ]
  },
  {
   "cell_type": "code",
   "execution_count": 43,
   "metadata": {
    "tags": [
     "gradable"
    ]
   },
   "outputs": [
    {
     "data": {
      "image/png": "[encoded data removed]",
      "text/plain": [
       "<Figure size 432x288 with 1 Axes>"
      ]
     },
     "metadata": {
      "needs_background": "light"
     },
     "output_type": "display_data"
    }
   ],
   "source": [
    "### Your code here ###\n",
    "\n",
    "### Solution ###\n",
    "country_table_plotter(comparison_data, \"year\", \"Labor Force\")"
   ]
  },
  {
   "cell_type": "markdown",
   "metadata": {
    "tags": [
     "gradable"
    ]
   },
   "source": [
    "- United States:\n",
    "\n",
    "- China:\n",
    "\n",
    "- Your Country:\n",
    "\n",
    "- Your Country:"
   ]
  },
  {
   "cell_type": "markdown",
   "metadata": {},
   "source": [
    "<div class=\"alert alert-info\">\n",
    "    \n",
    "<h3>Question 2.5.</h3>\n",
    "Create a plot of time and GDP for the countries in your table. In the markdown cell below, using your knowledge of the Cobb-Douglas Production Function, identify differences between the countries and discuss these in relation to your findings about each of the country's levels of capital stock and labor. Also note about how these have changed over time, if at all.\n",
    "</div>"
   ]
  },
  {
   "cell_type": "code",
   "execution_count": 44,
   "metadata": {
    "tags": [
     "gradable"
    ]
   },
   "outputs": [
    {
     "data": {
      "image/png": "[encoded data removed]",
      "text/plain": [
       "<Figure size 432x288 with 1 Axes>"
      ]
     },
     "metadata": {
      "needs_background": "light"
     },
     "output_type": "display_data"
    }
   ],
   "source": [
    "### Your code here ###\n",
    "\n",
    "### Solution ###\n",
    "country_table_plotter(comparison_data, \"year\", \"Real GDP\")"
   ]
  },
  {
   "cell_type": "markdown",
   "metadata": {
    "tags": [
     "gradable"
    ]
   },
   "source": [
    "- United States:\n",
    "\n",
    "- China:\n",
    "\n",
    "- Your Country:\n",
    "\n",
    "- Your Country:"
   ]
  },
  {
   "cell_type": "markdown",
   "metadata": {},
   "source": [
    "# Part 3: Prediction and Comparison"
   ]
  },
  {
   "cell_type": "markdown",
   "metadata": {},
   "source": [
    "We are now going to provide numerical backing to your discussions above by predicting values for $\\alpha$ and $A$ for each of the 4 countries that we are examining. To do this, we will revisit the equation that you derived in part 1. "
   ]
  },
  {
   "cell_type": "markdown",
   "metadata": {},
   "source": [
    "<div class=\"alert alert-info\">\n",
    "    \n",
    "<h3>Question 3.1.</h3>\n",
    "A key step in the original paper by Cobb and Douglas was that they converted the data into an index. This is important because the data is measured in different units. Do this for each country and each of the variables. Let the 2011 value be the base year, i.e. 100. Place this in a new table called <code>indexed_data</code> together with <code>country</code> and <code>year</code> columns. Display the first few rows.\n",
    "</div>"
   ]
  },
  {
   "cell_type": "code",
   "execution_count": 45,
   "metadata": {
    "tags": [
     "gradable"
    ]
   },
   "outputs": [],
   "source": [
    "### Your code here ###\n",
    "indexed_data = ...\n",
    "\n",
    "### Solution ###\n",
    "base_values = comparison_data.where(\"year\", 2011)\n",
    "country_list = base_values.column(\"country\")\n",
    "indexed_datas = {}\n",
    "for country in country_list:\n",
    "    curr_data_country = comparison_data.where(\"country\", country)\n",
    "    curr_base_values = base_values.where(\"country\", country)\n",
    "    indexed_datas[country] = Table().with_columns(\"country\", curr_data_country.column(\"country\"),\n",
    "                                                  \"year\", curr_data_country.column(\"year\"),\n",
    "                                                  \"Indexed K\", curr_data_country.column(\"Capital Stock\") / curr_base_values.column(\"Capital Stock\") * 100,\n",
    "                                                  \"Indexed Y\", curr_data_country.column(\"Real GDP\") / curr_base_values.column(\"Real GDP\") * 100,\n",
    "                                                  \"Indexed L\", curr_data_country.column(\"Labor Force\") / curr_base_values.column(\"Labor Force\") * 100\n",
    "                                                 )\n",
    "\n",
    "# Joining all into one table\n",
    "indexed_data = indexed_datas[\"Austria\"].append(indexed_datas[\"China\"]).append(indexed_datas[\"Philippines\"]).append(indexed_datas[\"United States\"])\n",
    "\n",
    "indexed_data.show(5)"
   ]
  },
  {
   "cell_type": "markdown",
   "metadata": {},
   "source": [
    "<div class=\"alert alert-info\">\n",
    "    \n",
    "<h3>Question 3.2a.</h3>\n",
    "Using the equation you derived in part 1 and the <code>indexed_data</code> table, calculate the two log ratios that you need to perform linear regression. Place them in the table <code>log_ratios</code> in the code cell below and display the first few rows. Name the columns appropriately.\n",
    "</div>"
   ]
  },
  {
   "cell_type": "code",
   "execution_count": 46,
   "metadata": {
    "tags": [
     "gradable"
    ]
   },
   "outputs": [
    {
     "data": {
      "text/html": [
       "<table border=\"1\" class=\"dataframe\">\n",
       "    <thead>\n",
       "        <tr>\n",
       "            <th>country</th> <th>year</th> <th>ln(Y/L)</th> <th>ln(K/L)</th>\n",
       "        </tr>\n",
       "    </thead>\n",
       "    <tbody>\n",
       "        <tr>\n",
       "            <td>Austria</td> <td>1990</td> <td>-0.515516</td> <td>-0.732332</td>\n",
       "        </tr>\n",
       "        <tr>\n",
       "            <td>Austria</td> <td>1991</td> <td>-0.465418</td> <td>-0.685779</td>\n",
       "        </tr>\n",
       "        <tr>\n",
       "            <td>Austria</td> <td>1992</td> <td>-0.42662 </td> <td>-0.635256</td>\n",
       "        </tr>\n",
       "        <tr>\n",
       "            <td>Austria</td> <td>1993</td> <td>-0.398821</td> <td>-0.566319</td>\n",
       "        </tr>\n",
       "        <tr>\n",
       "            <td>Austria</td> <td>1994</td> <td>-0.360679</td> <td>-0.512042</td>\n",
       "        </tr>\n",
       "    </tbody>\n",
       "</table>\n",
       "<p>... (103 rows omitted)</p>"
      ],
      "text/plain": [
       "<IPython.core.display.HTML object>"
      ]
     },
     "metadata": {},
     "output_type": "display_data"
    }
   ],
   "source": [
    "### Your code here ###\n",
    "log_ratios = ...\n",
    "\n",
    "### Solution ###\n",
    "log_ratios = Table().with_columns(\"country\", indexed_data.column(\"country\"),\n",
    "                                  \"year\", indexed_data.column(\"year\"),\n",
    "                                  \"ln(Y/L)\", np.log(indexed_data.column(\"Indexed Y\")/indexed_data.column(\"Indexed L\")),\n",
    "                                  \"ln(K/L)\", np.log(indexed_data.column(\"Indexed K\")/indexed_data.column(\"Indexed L\")))\n",
    "###\n",
    "\n",
    "log_ratios.show(5)"
   ]
  },
  {
   "cell_type": "markdown",
   "metadata": {},
   "source": [
    "<div class=\"alert alert-info\">\n",
    "    \n",
    "<h3>Question 3.2b.</h3>\n",
    "Using the <code>country_table_scatter</code> function, plot the log ratios for each country from the <code>log_ratios</code> table below.\n",
    "</div>"
   ]
  },
  {
   "cell_type": "code",
   "execution_count": 47,
   "metadata": {},
   "outputs": [],
   "source": [
    "### Do not change the code below ###\n",
    "def country_table_scatter(data_table, columnX, columnY):\n",
    "    # First getting a list of all the countries in data_table\n",
    "    country_list = data_table.group(\"country\").column(\"country\")\n",
    "    \n",
    "    # For each country, creating a plot of columnX vs. columnY\n",
    "    for country in country_list:\n",
    "        curr_data_table = data_table.where(\"country\", country)\n",
    "        curr_data_table.scatter(columnX, columnY)\n",
    "        plt.title(country)"
   ]
  },
  {
   "cell_type": "code",
   "execution_count": 48,
   "metadata": {
    "tags": [
     "gradable"
    ]
   },
   "outputs": [
    {
     "data": {
      "image/png": "[encoded data removed]",
      "text/plain": [
       "<Figure size 360x360 with 1 Axes>"
      ]
     },
     "metadata": {
      "needs_background": "light"
     },
     "output_type": "display_data"
    },
    {
     "data": {
      "image/png": "[encoded data removed]",
      "text/plain": [
       "<Figure size 360x360 with 1 Axes>"
      ]
     },
     "metadata": {
      "needs_background": "light"
     },
     "output_type": "display_data"
    },
    {
     "data": {
      "image/png": "[encoded data removed]",
      "text/plain": [
       "<Figure size 360x360 with 1 Axes>"
      ]
     },
     "metadata": {
      "needs_background": "light"
     },
     "output_type": "display_data"
    },
    {
     "data": {
      "image/png": "[encoded data removed]",
      "text/plain": [
       "<Figure size 360x360 with 1 Axes>"
      ]
     },
     "metadata": {
      "needs_background": "light"
     },
     "output_type": "display_data"
    }
   ],
   "source": [
    "### Your code here ###\n",
    "\n",
    "### Solution ###\n",
    "country_table_scatter(log_ratios, \"ln(K/L)\", \"ln(Y/L)\")"
   ]
  },
  {
   "cell_type": "markdown",
   "metadata": {},
   "source": [
    "Now, onto the actual linear regression part of this project.\n",
    "\n",
    "We will be using sklearn's linear regression function to get the $\\alpha$ and $A$ values for each country. Here is the link to the documentation of the <a href = \"https://scikit-learn.org/stable/modules/generated/sklearn.linear_model.LinearRegression.html\"> function</a>: \n",
    "\n",
    "Let us break down how this function works by taking a look at the examples section of the documentation.\n",
    "``` \n",
    "import numpy as np\n",
    "from sklearn.linear_model import LinearRegression\n",
    "X = np.array([[1, 1], [1, 2], [2, 2], [2, 3]])\n",
    "# y = 1 * x_0 + 2 * x_1 + 3\n",
    "y = np.dot(X, np.array([1, 2])) + 3\n",
    "reg = LinearRegression().fit(X, y)\n",
    "```\n",
    "The ```LinearRegression()``` function creates a LinearRegression object that has many different functions that we will be using, mainly ```.fit()``` and attributes like ```.coef_``` and ```.intercept_```. The ```.fit(X, y)``` function fits a line using the ```X``` and ```y``` arrays passed into it.\n",
    "\n",
    "```\n",
    "reg.coef_\n",
    "array([1., 2.])\n",
    "reg.intercept_ \n",
    "3.0000...\n",
    "reg.predict(np.array([[3, 5]]))\n",
    "array([16.])\n",
    "```\n",
    "\n",
    "After we have fit a line to the data, we can then get the corresponding attributes that we need: the slope coefficient and intercept. The example above is in 3 dimensions, hence the two slope coefficients. Our data is in 2 dimensions so we will only get one slope coefficient and intercept per country. Think about the relationship between $\\alpha$ and $A$ with regards to the slope and intercept from a linear regression fit?"
   ]
  },
  {
   "cell_type": "markdown",
   "metadata": {},
   "source": [
    "<div class=\"alert alert-info\">\n",
    "\n",
    "<h3>Question 3.3a.</h3>\n",
    "Using Sklearn's Linear Regression function, fit the data taken from each country. Think about what should be passed into the <code>fit()</code> function. If you are confused about this, take a look at the sklearn <a href =\"https://scikit-learn.org/stable/modules/generated/sklearn.linear_model.LinearRegression.html#sklearn.linear_model.LinearRegression.fit\"> documentation</a>:           \n",
    "\n",
    "</div>"
   ]
  },
  {
   "cell_type": "code",
   "execution_count": 51,
   "metadata": {
    "tags": [
     "gradable"
    ]
   },
   "outputs": [],
   "source": [
    "### Create arrays of the data we will need from each country. ###\n",
    "### Think about which variable should be on each axis. ###\n",
    "\n",
    "china_x = ...\n",
    "china_y = ...\n",
    "us_x = ...\n",
    "us_y = ...\n",
    "country1_x = ...\n",
    "country1_y = ...\n",
    "country2_x = ...\n",
    "country2_y = ...\n",
    "\n",
    "### Solution ###\n",
    "\n",
    "china_x = log_ratios.where(\"country\", \"China\").column(\"ln(K/L)\")\n",
    "china_y = log_ratios.where(\"country\", \"China\").column(\"ln(Y/L)\")\n",
    "us_x = log_ratios.where(\"country\", \"United States\").column(\"ln(K/L)\")\n",
    "us_y = log_ratios.where(\"country\", \"United States\").column(\"ln(Y/L)\")\n",
    "country1_x = log_ratios.where(\"country\", \"Austria\").column(\"ln(K/L)\")\n",
    "country1_y = log_ratios.where(\"country\", \"Austria\").column(\"ln(Y/L)\")\n",
    "country2_x = log_ratios.where(\"country\", \"Philippines\").column(\"ln(K/L)\")\n",
    "country2_y = log_ratios.where(\"country\", \"Philippines\").column(\"ln(Y/L)\")\n",
    "\n",
    "### Do not change the code below ###\n",
    "\n",
    "model_china = LinearRegression().fit(china_x.reshape(-1, 1), china_y.reshape(-1, 1))\n",
    "model_us = LinearRegression().fit(us_x.reshape(-1, 1), us_y.reshape(-1, 1))\n",
    "model_country1 = LinearRegression().fit(country1_x.reshape(-1, 1), country1_y.reshape(-1, 1))\n",
    "model_country2 = LinearRegression().fit(country2_x.reshape(-1, 1), country2_y.reshape(-1, 1))"
   ]
  },
  {
   "cell_type": "markdown",
   "metadata": {},
   "source": [
    "<div class=\"alert alert-info\">\n",
    "    \n",
    "<h3>Question 3.3b.</h3>\n",
    "Now that we have fit the data of each country, we can then retrieve the slope and intercept of each fit. Using the equation you derived in question 1.3., fill in the blanks in the print statements below such that they display the $\\alpha$ and $A$ values for each country.\n",
    "</div>"
   ]
  },
  {
   "cell_type": "code",
   "execution_count": 53,
   "metadata": {
    "tags": [
     "gradable"
    ]
   },
   "outputs": [
    {
     "name": "stdout",
     "output_type": "stream",
     "text": [
      "Austria alpha value: [[0.50611704]]\n",
      "China alpha value: [[0.55538509]]\n",
      "Philippines alpha value: [[0.52129992]]\n",
      "United States alpha value: [[0.6915179]]\n"
     ]
    }
   ],
   "source": [
    "print(f\"China alpha value: {...}\")\n",
    "print(f\"United States alpha value: {...}\")\n",
    "print(f\"... alpha value: {...}\")\n",
    "print(f\"... alpha value: {...}\")\n",
    "\n",
    "### Solution ###\n",
    "print(f\"Austria alpha value: {model_at.coef_}\")\n",
    "print(f\"China alpha value: {model_china.coef_}\")\n",
    "print(f\"Philippines alpha value: {model_ph.coef_}\")\n",
    "print(f\"United States alpha value: {model_us.coef_}\")"
   ]
  },
  {
   "cell_type": "code",
   "execution_count": 255,
   "metadata": {
    "tags": [
     "gradable"
    ]
   },
   "outputs": [
    {
     "name": "stdout",
     "output_type": "stream",
     "text": [
      "Austria A value: [0.9846097]\n",
      "China A value: [0.92970855]\n",
      "Philippines A value: [1.00682545]\n",
      "United States A value: [0.99953375]\n"
     ]
    }
   ],
   "source": [
    "print(f\"China A value: {...}\")\n",
    "print(f\"United States A value: {...}\")\n",
    "print(f\"... A value: {...}\")\n",
    "print(f\"... A value: {...}\")\n",
    "\n",
    "### Solution ###\n",
    "print(f\"Austria A value: {np.exp(model_at.intercept_)}\")\n",
    "print(f\"China A value: {np.exp(model_china.intercept_)}\")\n",
    "print(f\"Philippines A value: {np.exp(model_ph.intercept_)}\")\n",
    "print(f\"United States A value: {np.exp(model_us.intercept_)}\")"
   ]
  },
  {
   "cell_type": "markdown",
   "metadata": {},
   "source": [
    "<div class=\"alert alert-info\">\n",
    "    \n",
    "<h3>Question 3.4.</h3>\n",
    "With reference to the $\\alpha$ and $A$ values for each of the countries you have examined, what do they indicate about that country's ability to produce output as measured through GDP? How does the allocation of scare resources as inputs to production differ between them? How about the role of technology or research and development?\n",
    "</div>"
   ]
  },
  {
   "cell_type": "markdown",
   "metadata": {
    "tags": [
     "gradable"
    ]
   },
   "source": [
    "** Your answer here **"
   ]
  },
  {
   "cell_type": "markdown",
   "metadata": {},
   "source": [
    "# Congratulations! You've completed the project!"
   ]
  }
 ],
 "metadata": {
  "kernelspec": {
   "display_name": "Python 3",
   "language": "python",
   "name": "python3"
  },
  "language_info": {
   "codemirror_mode": {
    "name": "ipython",
    "version": 3
   },
   "file_extension": ".py",
   "mimetype": "text/x-python",
   "name": "python",
   "nbconvert_exporter": "python",
   "pygments_lexer": "ipython3",
   "version": "3.7.1"
  }
 },
 "nbformat": 4,
 "nbformat_minor": 2
}
